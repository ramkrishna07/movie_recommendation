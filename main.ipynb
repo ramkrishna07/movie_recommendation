{
 "cells": [
  {
   "cell_type": "markdown",
   "metadata": {},
   "source": [
    "# Movie Recommendation System "
   ]
  },
  {
   "cell_type": "markdown",
   "metadata": {},
   "source": [
    "# Objective\n",
    "Recommend Movies based on the favourite movies of user"
   ]
  },
  {
   "cell_type": "markdown",
   "metadata": {},
   "source": [
    "# Data Source\n",
    "Source of this data is YBI Foundation's DataSet"
   ]
  },
  {
   "cell_type": "markdown",
   "metadata": {},
   "source": [
    "# Import Library"
   ]
  },
  {
   "cell_type": "code",
   "execution_count": 1,
   "metadata": {},
   "outputs": [],
   "source": [
    "import pandas as pd"
   ]
  },
  {
   "cell_type": "markdown",
   "metadata": {},
   "source": [
    "# Import Data"
   ]
  },
  {
   "cell_type": "code",
   "execution_count": 2,
   "metadata": {},
   "outputs": [],
   "source": [
    "df=pd.read_csv(\"Movies_Recommendation.csv\")"
   ]
  },
  {
   "cell_type": "markdown",
   "metadata": {},
   "source": [
    "# Describe Data"
   ]
  },
  {
   "cell_type": "code",
   "execution_count": 3,
   "metadata": {},
   "outputs": [
    {
     "data": {
      "text/html": [
       "<div>\n",
       "<style scoped>\n",
       "    .dataframe tbody tr th:only-of-type {\n",
       "        vertical-align: middle;\n",
       "    }\n",
       "\n",
       "    .dataframe tbody tr th {\n",
       "        vertical-align: top;\n",
       "    }\n",
       "\n",
       "    .dataframe thead th {\n",
       "        text-align: right;\n",
       "    }\n",
       "</style>\n",
       "<table border=\"1\" class=\"dataframe\">\n",
       "  <thead>\n",
       "    <tr style=\"text-align: right;\">\n",
       "      <th></th>\n",
       "      <th>Movie_ID</th>\n",
       "      <th>Movie_Budget</th>\n",
       "      <th>Movie_Popularity</th>\n",
       "      <th>Movie_Revenue</th>\n",
       "      <th>Movie_Runtime</th>\n",
       "      <th>Movie_Vote</th>\n",
       "      <th>Movie_Vote_Count</th>\n",
       "    </tr>\n",
       "  </thead>\n",
       "  <tbody>\n",
       "    <tr>\n",
       "      <th>count</th>\n",
       "      <td>4760.000000</td>\n",
       "      <td>4.760000e+03</td>\n",
       "      <td>4760.000000</td>\n",
       "      <td>4.760000e+03</td>\n",
       "      <td>4758.000000</td>\n",
       "      <td>4760.000000</td>\n",
       "      <td>4760.000000</td>\n",
       "    </tr>\n",
       "    <tr>\n",
       "      <th>mean</th>\n",
       "      <td>2382.566387</td>\n",
       "      <td>2.920129e+07</td>\n",
       "      <td>21.599510</td>\n",
       "      <td>8.263743e+07</td>\n",
       "      <td>107.184111</td>\n",
       "      <td>6.113866</td>\n",
       "      <td>692.508403</td>\n",
       "    </tr>\n",
       "    <tr>\n",
       "      <th>std</th>\n",
       "      <td>1377.270159</td>\n",
       "      <td>4.075620e+07</td>\n",
       "      <td>31.887919</td>\n",
       "      <td>1.630554e+08</td>\n",
       "      <td>21.960332</td>\n",
       "      <td>1.141294</td>\n",
       "      <td>1235.007337</td>\n",
       "    </tr>\n",
       "    <tr>\n",
       "      <th>min</th>\n",
       "      <td>1.000000</td>\n",
       "      <td>0.000000e+00</td>\n",
       "      <td>0.000372</td>\n",
       "      <td>0.000000e+00</td>\n",
       "      <td>0.000000</td>\n",
       "      <td>0.000000</td>\n",
       "      <td>0.000000</td>\n",
       "    </tr>\n",
       "    <tr>\n",
       "      <th>25%</th>\n",
       "      <td>1190.750000</td>\n",
       "      <td>9.257500e+05</td>\n",
       "      <td>4.807074</td>\n",
       "      <td>0.000000e+00</td>\n",
       "      <td>94.000000</td>\n",
       "      <td>5.600000</td>\n",
       "      <td>55.000000</td>\n",
       "    </tr>\n",
       "    <tr>\n",
       "      <th>50%</th>\n",
       "      <td>2380.500000</td>\n",
       "      <td>1.500000e+07</td>\n",
       "      <td>13.119058</td>\n",
       "      <td>1.944716e+07</td>\n",
       "      <td>104.000000</td>\n",
       "      <td>6.200000</td>\n",
       "      <td>238.000000</td>\n",
       "    </tr>\n",
       "    <tr>\n",
       "      <th>75%</th>\n",
       "      <td>3572.250000</td>\n",
       "      <td>4.000000e+07</td>\n",
       "      <td>28.411929</td>\n",
       "      <td>9.341276e+07</td>\n",
       "      <td>118.000000</td>\n",
       "      <td>6.800000</td>\n",
       "      <td>740.250000</td>\n",
       "    </tr>\n",
       "    <tr>\n",
       "      <th>max</th>\n",
       "      <td>4788.000000</td>\n",
       "      <td>3.800000e+08</td>\n",
       "      <td>875.581305</td>\n",
       "      <td>2.787965e+09</td>\n",
       "      <td>338.000000</td>\n",
       "      <td>10.000000</td>\n",
       "      <td>13752.000000</td>\n",
       "    </tr>\n",
       "  </tbody>\n",
       "</table>\n",
       "</div>"
      ],
      "text/plain": [
       "          Movie_ID  Movie_Budget  Movie_Popularity  Movie_Revenue  \\\n",
       "count  4760.000000  4.760000e+03       4760.000000   4.760000e+03   \n",
       "mean   2382.566387  2.920129e+07         21.599510   8.263743e+07   \n",
       "std    1377.270159  4.075620e+07         31.887919   1.630554e+08   \n",
       "min       1.000000  0.000000e+00          0.000372   0.000000e+00   \n",
       "25%    1190.750000  9.257500e+05          4.807074   0.000000e+00   \n",
       "50%    2380.500000  1.500000e+07         13.119058   1.944716e+07   \n",
       "75%    3572.250000  4.000000e+07         28.411929   9.341276e+07   \n",
       "max    4788.000000  3.800000e+08        875.581305   2.787965e+09   \n",
       "\n",
       "       Movie_Runtime   Movie_Vote  Movie_Vote_Count  \n",
       "count    4758.000000  4760.000000       4760.000000  \n",
       "mean      107.184111     6.113866        692.508403  \n",
       "std        21.960332     1.141294       1235.007337  \n",
       "min         0.000000     0.000000          0.000000  \n",
       "25%        94.000000     5.600000         55.000000  \n",
       "50%       104.000000     6.200000        238.000000  \n",
       "75%       118.000000     6.800000        740.250000  \n",
       "max       338.000000    10.000000      13752.000000  "
      ]
     },
     "execution_count": 3,
     "metadata": {},
     "output_type": "execute_result"
    }
   ],
   "source": [
    "df.describe()"
   ]
  },
  {
   "cell_type": "markdown",
   "metadata": {},
   "source": [
    "# Data Visualization"
   ]
  },
  {
   "cell_type": "code",
   "execution_count": 4,
   "metadata": {},
   "outputs": [
    {
     "data": {
      "text/html": [
       "<div>\n",
       "<style scoped>\n",
       "    .dataframe tbody tr th:only-of-type {\n",
       "        vertical-align: middle;\n",
       "    }\n",
       "\n",
       "    .dataframe tbody tr th {\n",
       "        vertical-align: top;\n",
       "    }\n",
       "\n",
       "    .dataframe thead th {\n",
       "        text-align: right;\n",
       "    }\n",
       "</style>\n",
       "<table border=\"1\" class=\"dataframe\">\n",
       "  <thead>\n",
       "    <tr style=\"text-align: right;\">\n",
       "      <th></th>\n",
       "      <th>Movie_ID</th>\n",
       "      <th>Movie_Title</th>\n",
       "      <th>Movie_Genre</th>\n",
       "      <th>Movie_Language</th>\n",
       "      <th>Movie_Budget</th>\n",
       "      <th>Movie_Popularity</th>\n",
       "      <th>Movie_Release_Date</th>\n",
       "      <th>Movie_Revenue</th>\n",
       "      <th>Movie_Runtime</th>\n",
       "      <th>Movie_Vote</th>\n",
       "      <th>...</th>\n",
       "      <th>Movie_Homepage</th>\n",
       "      <th>Movie_Keywords</th>\n",
       "      <th>Movie_Overview</th>\n",
       "      <th>Movie_Production_House</th>\n",
       "      <th>Movie_Production_Country</th>\n",
       "      <th>Movie_Spoken_Language</th>\n",
       "      <th>Movie_Tagline</th>\n",
       "      <th>Movie_Cast</th>\n",
       "      <th>Movie_Crew</th>\n",
       "      <th>Movie_Director</th>\n",
       "    </tr>\n",
       "  </thead>\n",
       "  <tbody>\n",
       "    <tr>\n",
       "      <th>0</th>\n",
       "      <td>1</td>\n",
       "      <td>Four Rooms</td>\n",
       "      <td>Crime Comedy</td>\n",
       "      <td>en</td>\n",
       "      <td>4000000</td>\n",
       "      <td>22.876230</td>\n",
       "      <td>09-12-1995</td>\n",
       "      <td>4300000</td>\n",
       "      <td>98.0</td>\n",
       "      <td>6.5</td>\n",
       "      <td>...</td>\n",
       "      <td>NaN</td>\n",
       "      <td>hotel new year's eve witch bet hotel room</td>\n",
       "      <td>It's Ted the Bellhop's first night on the job....</td>\n",
       "      <td>[{\"name\": \"Miramax Films\", \"id\": 14}, {\"name\":...</td>\n",
       "      <td>[{\"iso_3166_1\": \"US\", \"name\": \"United States o...</td>\n",
       "      <td>[{\"iso_639_1\": \"en\", \"name\": \"English\"}]</td>\n",
       "      <td>Twelve outrageous guests. Four scandalous requ...</td>\n",
       "      <td>Tim Roth Antonio Banderas Jennifer Beals Madon...</td>\n",
       "      <td>[{'name': 'Allison Anders', 'gender': 1, 'depa...</td>\n",
       "      <td>Allison Anders</td>\n",
       "    </tr>\n",
       "    <tr>\n",
       "      <th>1</th>\n",
       "      <td>2</td>\n",
       "      <td>Star Wars</td>\n",
       "      <td>Adventure Action Science Fiction</td>\n",
       "      <td>en</td>\n",
       "      <td>11000000</td>\n",
       "      <td>126.393695</td>\n",
       "      <td>25-05-1977</td>\n",
       "      <td>775398007</td>\n",
       "      <td>121.0</td>\n",
       "      <td>8.1</td>\n",
       "      <td>...</td>\n",
       "      <td>http://www.starwars.com/films/star-wars-episod...</td>\n",
       "      <td>android galaxy hermit death star lightsaber</td>\n",
       "      <td>Princess Leia is captured and held hostage by ...</td>\n",
       "      <td>[{\"name\": \"Lucasfilm\", \"id\": 1}, {\"name\": \"Twe...</td>\n",
       "      <td>[{\"iso_3166_1\": \"US\", \"name\": \"United States o...</td>\n",
       "      <td>[{\"iso_639_1\": \"en\", \"name\": \"English\"}]</td>\n",
       "      <td>A long time ago in a galaxy far, far away...</td>\n",
       "      <td>Mark Hamill Harrison Ford Carrie Fisher Peter ...</td>\n",
       "      <td>[{'name': 'George Lucas', 'gender': 2, 'depart...</td>\n",
       "      <td>George Lucas</td>\n",
       "    </tr>\n",
       "    <tr>\n",
       "      <th>2</th>\n",
       "      <td>3</td>\n",
       "      <td>Finding Nemo</td>\n",
       "      <td>Animation Family</td>\n",
       "      <td>en</td>\n",
       "      <td>94000000</td>\n",
       "      <td>85.688789</td>\n",
       "      <td>30-05-2003</td>\n",
       "      <td>940335536</td>\n",
       "      <td>100.0</td>\n",
       "      <td>7.6</td>\n",
       "      <td>...</td>\n",
       "      <td>http://movies.disney.com/finding-nemo</td>\n",
       "      <td>father son relationship harbor underwater fish...</td>\n",
       "      <td>Nemo, an adventurous young clownfish, is unexp...</td>\n",
       "      <td>[{\"name\": \"Pixar Animation Studios\", \"id\": 3}]</td>\n",
       "      <td>[{\"iso_3166_1\": \"US\", \"name\": \"United States o...</td>\n",
       "      <td>[{\"iso_639_1\": \"en\", \"name\": \"English\"}]</td>\n",
       "      <td>There are 3.7 trillion fish in the ocean, they...</td>\n",
       "      <td>Albert Brooks Ellen DeGeneres Alexander Gould ...</td>\n",
       "      <td>[{'name': 'Andrew Stanton', 'gender': 2, 'depa...</td>\n",
       "      <td>Andrew Stanton</td>\n",
       "    </tr>\n",
       "    <tr>\n",
       "      <th>3</th>\n",
       "      <td>4</td>\n",
       "      <td>Forrest Gump</td>\n",
       "      <td>Comedy Drama Romance</td>\n",
       "      <td>en</td>\n",
       "      <td>55000000</td>\n",
       "      <td>138.133331</td>\n",
       "      <td>06-07-1994</td>\n",
       "      <td>677945399</td>\n",
       "      <td>142.0</td>\n",
       "      <td>8.2</td>\n",
       "      <td>...</td>\n",
       "      <td>NaN</td>\n",
       "      <td>vietnam veteran hippie mentally disabled runni...</td>\n",
       "      <td>A man with a low IQ has accomplished great thi...</td>\n",
       "      <td>[{\"name\": \"Paramount Pictures\", \"id\": 4}]</td>\n",
       "      <td>[{\"iso_3166_1\": \"US\", \"name\": \"United States o...</td>\n",
       "      <td>[{\"iso_639_1\": \"en\", \"name\": \"English\"}]</td>\n",
       "      <td>The world will never be the same, once you've ...</td>\n",
       "      <td>Tom Hanks Robin Wright Gary Sinise Mykelti Wil...</td>\n",
       "      <td>[{'name': 'Alan Silvestri', 'gender': 2, 'depa...</td>\n",
       "      <td>Robert Zemeckis</td>\n",
       "    </tr>\n",
       "    <tr>\n",
       "      <th>4</th>\n",
       "      <td>5</td>\n",
       "      <td>American Beauty</td>\n",
       "      <td>Drama</td>\n",
       "      <td>en</td>\n",
       "      <td>15000000</td>\n",
       "      <td>80.878605</td>\n",
       "      <td>15-09-1999</td>\n",
       "      <td>356296601</td>\n",
       "      <td>122.0</td>\n",
       "      <td>7.9</td>\n",
       "      <td>...</td>\n",
       "      <td>http://www.dreamworks.com/ab/</td>\n",
       "      <td>male nudity female nudity adultery midlife cri...</td>\n",
       "      <td>Lester Burnham, a depressed suburban father in...</td>\n",
       "      <td>[{\"name\": \"DreamWorks SKG\", \"id\": 27}, {\"name\"...</td>\n",
       "      <td>[{\"iso_3166_1\": \"US\", \"name\": \"United States o...</td>\n",
       "      <td>[{\"iso_639_1\": \"en\", \"name\": \"English\"}]</td>\n",
       "      <td>Look closer.</td>\n",
       "      <td>Kevin Spacey Annette Bening Thora Birch Wes Be...</td>\n",
       "      <td>[{'name': 'Thomas Newman', 'gender': 2, 'depar...</td>\n",
       "      <td>Sam Mendes</td>\n",
       "    </tr>\n",
       "  </tbody>\n",
       "</table>\n",
       "<p>5 rows × 21 columns</p>\n",
       "</div>"
      ],
      "text/plain": [
       "   Movie_ID      Movie_Title                       Movie_Genre Movie_Language  \\\n",
       "0         1       Four Rooms                      Crime Comedy             en   \n",
       "1         2        Star Wars  Adventure Action Science Fiction             en   \n",
       "2         3     Finding Nemo                  Animation Family             en   \n",
       "3         4     Forrest Gump              Comedy Drama Romance             en   \n",
       "4         5  American Beauty                             Drama             en   \n",
       "\n",
       "   Movie_Budget  Movie_Popularity Movie_Release_Date  Movie_Revenue  \\\n",
       "0       4000000         22.876230         09-12-1995        4300000   \n",
       "1      11000000        126.393695         25-05-1977      775398007   \n",
       "2      94000000         85.688789         30-05-2003      940335536   \n",
       "3      55000000        138.133331         06-07-1994      677945399   \n",
       "4      15000000         80.878605         15-09-1999      356296601   \n",
       "\n",
       "   Movie_Runtime  Movie_Vote  ...  \\\n",
       "0           98.0         6.5  ...   \n",
       "1          121.0         8.1  ...   \n",
       "2          100.0         7.6  ...   \n",
       "3          142.0         8.2  ...   \n",
       "4          122.0         7.9  ...   \n",
       "\n",
       "                                      Movie_Homepage  \\\n",
       "0                                                NaN   \n",
       "1  http://www.starwars.com/films/star-wars-episod...   \n",
       "2              http://movies.disney.com/finding-nemo   \n",
       "3                                                NaN   \n",
       "4                      http://www.dreamworks.com/ab/   \n",
       "\n",
       "                                      Movie_Keywords  \\\n",
       "0          hotel new year's eve witch bet hotel room   \n",
       "1        android galaxy hermit death star lightsaber   \n",
       "2  father son relationship harbor underwater fish...   \n",
       "3  vietnam veteran hippie mentally disabled runni...   \n",
       "4  male nudity female nudity adultery midlife cri...   \n",
       "\n",
       "                                      Movie_Overview  \\\n",
       "0  It's Ted the Bellhop's first night on the job....   \n",
       "1  Princess Leia is captured and held hostage by ...   \n",
       "2  Nemo, an adventurous young clownfish, is unexp...   \n",
       "3  A man with a low IQ has accomplished great thi...   \n",
       "4  Lester Burnham, a depressed suburban father in...   \n",
       "\n",
       "                              Movie_Production_House  \\\n",
       "0  [{\"name\": \"Miramax Films\", \"id\": 14}, {\"name\":...   \n",
       "1  [{\"name\": \"Lucasfilm\", \"id\": 1}, {\"name\": \"Twe...   \n",
       "2     [{\"name\": \"Pixar Animation Studios\", \"id\": 3}]   \n",
       "3          [{\"name\": \"Paramount Pictures\", \"id\": 4}]   \n",
       "4  [{\"name\": \"DreamWorks SKG\", \"id\": 27}, {\"name\"...   \n",
       "\n",
       "                            Movie_Production_Country  \\\n",
       "0  [{\"iso_3166_1\": \"US\", \"name\": \"United States o...   \n",
       "1  [{\"iso_3166_1\": \"US\", \"name\": \"United States o...   \n",
       "2  [{\"iso_3166_1\": \"US\", \"name\": \"United States o...   \n",
       "3  [{\"iso_3166_1\": \"US\", \"name\": \"United States o...   \n",
       "4  [{\"iso_3166_1\": \"US\", \"name\": \"United States o...   \n",
       "\n",
       "                      Movie_Spoken_Language  \\\n",
       "0  [{\"iso_639_1\": \"en\", \"name\": \"English\"}]   \n",
       "1  [{\"iso_639_1\": \"en\", \"name\": \"English\"}]   \n",
       "2  [{\"iso_639_1\": \"en\", \"name\": \"English\"}]   \n",
       "3  [{\"iso_639_1\": \"en\", \"name\": \"English\"}]   \n",
       "4  [{\"iso_639_1\": \"en\", \"name\": \"English\"}]   \n",
       "\n",
       "                                       Movie_Tagline  \\\n",
       "0  Twelve outrageous guests. Four scandalous requ...   \n",
       "1       A long time ago in a galaxy far, far away...   \n",
       "2  There are 3.7 trillion fish in the ocean, they...   \n",
       "3  The world will never be the same, once you've ...   \n",
       "4                                       Look closer.   \n",
       "\n",
       "                                          Movie_Cast  \\\n",
       "0  Tim Roth Antonio Banderas Jennifer Beals Madon...   \n",
       "1  Mark Hamill Harrison Ford Carrie Fisher Peter ...   \n",
       "2  Albert Brooks Ellen DeGeneres Alexander Gould ...   \n",
       "3  Tom Hanks Robin Wright Gary Sinise Mykelti Wil...   \n",
       "4  Kevin Spacey Annette Bening Thora Birch Wes Be...   \n",
       "\n",
       "                                          Movie_Crew   Movie_Director  \n",
       "0  [{'name': 'Allison Anders', 'gender': 1, 'depa...   Allison Anders  \n",
       "1  [{'name': 'George Lucas', 'gender': 2, 'depart...     George Lucas  \n",
       "2  [{'name': 'Andrew Stanton', 'gender': 2, 'depa...   Andrew Stanton  \n",
       "3  [{'name': 'Alan Silvestri', 'gender': 2, 'depa...  Robert Zemeckis  \n",
       "4  [{'name': 'Thomas Newman', 'gender': 2, 'depar...       Sam Mendes  \n",
       "\n",
       "[5 rows x 21 columns]"
      ]
     },
     "execution_count": 4,
     "metadata": {},
     "output_type": "execute_result"
    }
   ],
   "source": [
    "df.head()"
   ]
  },
  {
   "cell_type": "code",
   "execution_count": 5,
   "metadata": {},
   "outputs": [
    {
     "name": "stdout",
     "output_type": "stream",
     "text": [
      "<class 'pandas.core.frame.DataFrame'>\n",
      "RangeIndex: 4760 entries, 0 to 4759\n",
      "Data columns (total 21 columns):\n",
      " #   Column                    Non-Null Count  Dtype  \n",
      "---  ------                    --------------  -----  \n",
      " 0   Movie_ID                  4760 non-null   int64  \n",
      " 1   Movie_Title               4760 non-null   object \n",
      " 2   Movie_Genre               4760 non-null   object \n",
      " 3   Movie_Language            4760 non-null   object \n",
      " 4   Movie_Budget              4760 non-null   int64  \n",
      " 5   Movie_Popularity          4760 non-null   float64\n",
      " 6   Movie_Release_Date        4760 non-null   object \n",
      " 7   Movie_Revenue             4760 non-null   int64  \n",
      " 8   Movie_Runtime             4758 non-null   float64\n",
      " 9   Movie_Vote                4760 non-null   float64\n",
      " 10  Movie_Vote_Count          4760 non-null   int64  \n",
      " 11  Movie_Homepage            1699 non-null   object \n",
      " 12  Movie_Keywords            4373 non-null   object \n",
      " 13  Movie_Overview            4757 non-null   object \n",
      " 14  Movie_Production_House    4760 non-null   object \n",
      " 15  Movie_Production_Country  4760 non-null   object \n",
      " 16  Movie_Spoken_Language     4760 non-null   object \n",
      " 17  Movie_Tagline             3942 non-null   object \n",
      " 18  Movie_Cast                4733 non-null   object \n",
      " 19  Movie_Crew                4760 non-null   object \n",
      " 20  Movie_Director            4738 non-null   object \n",
      "dtypes: float64(3), int64(4), object(14)\n",
      "memory usage: 781.1+ KB\n"
     ]
    }
   ],
   "source": [
    "df.info()"
   ]
  },
  {
   "cell_type": "code",
   "execution_count": 6,
   "metadata": {},
   "outputs": [
    {
     "data": {
      "text/plain": [
       "(4760, 21)"
      ]
     },
     "execution_count": 6,
     "metadata": {},
     "output_type": "execute_result"
    }
   ],
   "source": [
    "df.shape"
   ]
  },
  {
   "cell_type": "code",
   "execution_count": 7,
   "metadata": {},
   "outputs": [
    {
     "data": {
      "text/plain": [
       "Index(['Movie_ID', 'Movie_Title', 'Movie_Genre', 'Movie_Language',\n",
       "       'Movie_Budget', 'Movie_Popularity', 'Movie_Release_Date',\n",
       "       'Movie_Revenue', 'Movie_Runtime', 'Movie_Vote', 'Movie_Vote_Count',\n",
       "       'Movie_Homepage', 'Movie_Keywords', 'Movie_Overview',\n",
       "       'Movie_Production_House', 'Movie_Production_Country',\n",
       "       'Movie_Spoken_Language', 'Movie_Tagline', 'Movie_Cast', 'Movie_Crew',\n",
       "       'Movie_Director'],\n",
       "      dtype='object')"
      ]
     },
     "execution_count": 7,
     "metadata": {},
     "output_type": "execute_result"
    }
   ],
   "source": [
    "df.columns"
   ]
  },
  {
   "cell_type": "markdown",
   "metadata": {},
   "source": [
    "# Data Preprocessing"
   ]
  },
  {
   "cell_type": "code",
   "execution_count": 8,
   "metadata": {},
   "outputs": [],
   "source": [
    "movies_features=df[['Movie_Genre','Movie_Keywords','Movie_Tagline','Movie_Cast','Movie_Director','Movie_Language']].fillna('')"
   ]
  },
  {
   "cell_type": "code",
   "execution_count": 9,
   "metadata": {},
   "outputs": [
    {
     "data": {
      "text/plain": [
       "(4760, 6)"
      ]
     },
     "execution_count": 9,
     "metadata": {},
     "output_type": "execute_result"
    }
   ],
   "source": [
    "movies_features.shape"
   ]
  },
  {
   "cell_type": "code",
   "execution_count": 10,
   "metadata": {},
   "outputs": [
    {
     "data": {
      "text/html": [
       "<div>\n",
       "<style scoped>\n",
       "    .dataframe tbody tr th:only-of-type {\n",
       "        vertical-align: middle;\n",
       "    }\n",
       "\n",
       "    .dataframe tbody tr th {\n",
       "        vertical-align: top;\n",
       "    }\n",
       "\n",
       "    .dataframe thead th {\n",
       "        text-align: right;\n",
       "    }\n",
       "</style>\n",
       "<table border=\"1\" class=\"dataframe\">\n",
       "  <thead>\n",
       "    <tr style=\"text-align: right;\">\n",
       "      <th></th>\n",
       "      <th>Movie_Genre</th>\n",
       "      <th>Movie_Keywords</th>\n",
       "      <th>Movie_Tagline</th>\n",
       "      <th>Movie_Cast</th>\n",
       "      <th>Movie_Director</th>\n",
       "      <th>Movie_Language</th>\n",
       "    </tr>\n",
       "  </thead>\n",
       "  <tbody>\n",
       "    <tr>\n",
       "      <th>0</th>\n",
       "      <td>Crime Comedy</td>\n",
       "      <td>hotel new year's eve witch bet hotel room</td>\n",
       "      <td>Twelve outrageous guests. Four scandalous requ...</td>\n",
       "      <td>Tim Roth Antonio Banderas Jennifer Beals Madon...</td>\n",
       "      <td>Allison Anders</td>\n",
       "      <td>en</td>\n",
       "    </tr>\n",
       "    <tr>\n",
       "      <th>1</th>\n",
       "      <td>Adventure Action Science Fiction</td>\n",
       "      <td>android galaxy hermit death star lightsaber</td>\n",
       "      <td>A long time ago in a galaxy far, far away...</td>\n",
       "      <td>Mark Hamill Harrison Ford Carrie Fisher Peter ...</td>\n",
       "      <td>George Lucas</td>\n",
       "      <td>en</td>\n",
       "    </tr>\n",
       "    <tr>\n",
       "      <th>2</th>\n",
       "      <td>Animation Family</td>\n",
       "      <td>father son relationship harbor underwater fish...</td>\n",
       "      <td>There are 3.7 trillion fish in the ocean, they...</td>\n",
       "      <td>Albert Brooks Ellen DeGeneres Alexander Gould ...</td>\n",
       "      <td>Andrew Stanton</td>\n",
       "      <td>en</td>\n",
       "    </tr>\n",
       "    <tr>\n",
       "      <th>3</th>\n",
       "      <td>Comedy Drama Romance</td>\n",
       "      <td>vietnam veteran hippie mentally disabled runni...</td>\n",
       "      <td>The world will never be the same, once you've ...</td>\n",
       "      <td>Tom Hanks Robin Wright Gary Sinise Mykelti Wil...</td>\n",
       "      <td>Robert Zemeckis</td>\n",
       "      <td>en</td>\n",
       "    </tr>\n",
       "    <tr>\n",
       "      <th>4</th>\n",
       "      <td>Drama</td>\n",
       "      <td>male nudity female nudity adultery midlife cri...</td>\n",
       "      <td>Look closer.</td>\n",
       "      <td>Kevin Spacey Annette Bening Thora Birch Wes Be...</td>\n",
       "      <td>Sam Mendes</td>\n",
       "      <td>en</td>\n",
       "    </tr>\n",
       "    <tr>\n",
       "      <th>...</th>\n",
       "      <td>...</td>\n",
       "      <td>...</td>\n",
       "      <td>...</td>\n",
       "      <td>...</td>\n",
       "      <td>...</td>\n",
       "      <td>...</td>\n",
       "    </tr>\n",
       "    <tr>\n",
       "      <th>4755</th>\n",
       "      <td>Horror</td>\n",
       "      <td></td>\n",
       "      <td>The hot spot where Satan's waitin'.</td>\n",
       "      <td>Lisa Hart Carroll Michael Des Barres Paul Drak...</td>\n",
       "      <td>Pece Dingo</td>\n",
       "      <td>en</td>\n",
       "    </tr>\n",
       "    <tr>\n",
       "      <th>4756</th>\n",
       "      <td>Comedy Family Drama</td>\n",
       "      <td></td>\n",
       "      <td>It’s better to stand out than to fit in.</td>\n",
       "      <td>Roni Akurati Brighton Sharbino Jason Lee Anjul...</td>\n",
       "      <td>Frank Lotito</td>\n",
       "      <td>en</td>\n",
       "    </tr>\n",
       "    <tr>\n",
       "      <th>4757</th>\n",
       "      <td>Thriller Drama</td>\n",
       "      <td>christian film sex trafficking</td>\n",
       "      <td>She never knew it could happen to her...</td>\n",
       "      <td>Nicole Smolen Kim Baldwin Ariana Stephens Brys...</td>\n",
       "      <td>Jaco Booyens</td>\n",
       "      <td>en</td>\n",
       "    </tr>\n",
       "    <tr>\n",
       "      <th>4758</th>\n",
       "      <td>Family</td>\n",
       "      <td></td>\n",
       "      <td></td>\n",
       "      <td></td>\n",
       "      <td></td>\n",
       "      <td>en</td>\n",
       "    </tr>\n",
       "    <tr>\n",
       "      <th>4759</th>\n",
       "      <td>Documentary</td>\n",
       "      <td>music actors legendary perfomer classic hollyw...</td>\n",
       "      <td></td>\n",
       "      <td>Tony Oppedisano</td>\n",
       "      <td>Simon Napier-Bell</td>\n",
       "      <td>en</td>\n",
       "    </tr>\n",
       "  </tbody>\n",
       "</table>\n",
       "<p>4760 rows × 6 columns</p>\n",
       "</div>"
      ],
      "text/plain": [
       "                           Movie_Genre  \\\n",
       "0                         Crime Comedy   \n",
       "1     Adventure Action Science Fiction   \n",
       "2                     Animation Family   \n",
       "3                 Comedy Drama Romance   \n",
       "4                                Drama   \n",
       "...                                ...   \n",
       "4755                            Horror   \n",
       "4756               Comedy Family Drama   \n",
       "4757                    Thriller Drama   \n",
       "4758                            Family   \n",
       "4759                       Documentary   \n",
       "\n",
       "                                         Movie_Keywords  \\\n",
       "0             hotel new year's eve witch bet hotel room   \n",
       "1           android galaxy hermit death star lightsaber   \n",
       "2     father son relationship harbor underwater fish...   \n",
       "3     vietnam veteran hippie mentally disabled runni...   \n",
       "4     male nudity female nudity adultery midlife cri...   \n",
       "...                                                 ...   \n",
       "4755                                                      \n",
       "4756                                                      \n",
       "4757                     christian film sex trafficking   \n",
       "4758                                                      \n",
       "4759  music actors legendary perfomer classic hollyw...   \n",
       "\n",
       "                                          Movie_Tagline  \\\n",
       "0     Twelve outrageous guests. Four scandalous requ...   \n",
       "1          A long time ago in a galaxy far, far away...   \n",
       "2     There are 3.7 trillion fish in the ocean, they...   \n",
       "3     The world will never be the same, once you've ...   \n",
       "4                                          Look closer.   \n",
       "...                                                 ...   \n",
       "4755                The hot spot where Satan's waitin'.   \n",
       "4756           It’s better to stand out than to fit in.   \n",
       "4757           She never knew it could happen to her...   \n",
       "4758                                                      \n",
       "4759                                                      \n",
       "\n",
       "                                             Movie_Cast     Movie_Director  \\\n",
       "0     Tim Roth Antonio Banderas Jennifer Beals Madon...     Allison Anders   \n",
       "1     Mark Hamill Harrison Ford Carrie Fisher Peter ...       George Lucas   \n",
       "2     Albert Brooks Ellen DeGeneres Alexander Gould ...     Andrew Stanton   \n",
       "3     Tom Hanks Robin Wright Gary Sinise Mykelti Wil...    Robert Zemeckis   \n",
       "4     Kevin Spacey Annette Bening Thora Birch Wes Be...         Sam Mendes   \n",
       "...                                                 ...                ...   \n",
       "4755  Lisa Hart Carroll Michael Des Barres Paul Drak...         Pece Dingo   \n",
       "4756  Roni Akurati Brighton Sharbino Jason Lee Anjul...       Frank Lotito   \n",
       "4757  Nicole Smolen Kim Baldwin Ariana Stephens Brys...       Jaco Booyens   \n",
       "4758                                                                         \n",
       "4759                                    Tony Oppedisano  Simon Napier-Bell   \n",
       "\n",
       "     Movie_Language  \n",
       "0                en  \n",
       "1                en  \n",
       "2                en  \n",
       "3                en  \n",
       "4                en  \n",
       "...             ...  \n",
       "4755             en  \n",
       "4756             en  \n",
       "4757             en  \n",
       "4758             en  \n",
       "4759             en  \n",
       "\n",
       "[4760 rows x 6 columns]"
      ]
     },
     "execution_count": 10,
     "metadata": {},
     "output_type": "execute_result"
    }
   ],
   "source": [
    "movies_features"
   ]
  },
  {
   "cell_type": "markdown",
   "metadata": {},
   "source": [
    "# Define Target Variable (y) and Feature Variables (X)"
   ]
  },
  {
   "cell_type": "code",
   "execution_count": 11,
   "metadata": {},
   "outputs": [
    {
     "data": {
      "text/plain": [
       "0       Crime Comedy hotel new year's eve witch bet ho...\n",
       "1       Adventure Action Science Fiction android galax...\n",
       "2       Animation Family father son relationship harbo...\n",
       "3       Comedy Drama Romance vietnam veteran hippie me...\n",
       "4       Drama male nudity female nudity adultery midli...\n",
       "                              ...                        \n",
       "4755    Horror  The hot spot where Satan's waitin'. Li...\n",
       "4756    Comedy Family Drama  It’s better to stand out ...\n",
       "4757    Thriller Drama christian film sex trafficking ...\n",
       "4758                                        Family     en\n",
       "4759    Documentary music actors legendary perfomer cl...\n",
       "Length: 4760, dtype: object"
      ]
     },
     "execution_count": 11,
     "metadata": {},
     "output_type": "execute_result"
    }
   ],
   "source": [
    "X=movies_features['Movie_Genre']+' '+movies_features['Movie_Keywords']+' '+movies_features['Movie_Tagline']+' '+movies_features['Movie_Cast']+' '+movies_features['Movie_Director']+' '+movies_features['Movie_Language']\n",
    "X"
   ]
  },
  {
   "cell_type": "code",
   "execution_count": 12,
   "metadata": {},
   "outputs": [
    {
     "data": {
      "text/plain": [
       "(4760,)"
      ]
     },
     "execution_count": 12,
     "metadata": {},
     "output_type": "execute_result"
    }
   ],
   "source": [
    "X.shape"
   ]
  },
  {
   "cell_type": "markdown",
   "metadata": {},
   "source": [
    "# get feature text conversion to tokens"
   ]
  },
  {
   "cell_type": "code",
   "execution_count": 13,
   "metadata": {},
   "outputs": [],
   "source": [
    "from sklearn.feature_extraction.text import TfidfVectorizer"
   ]
  },
  {
   "cell_type": "code",
   "execution_count": 14,
   "metadata": {},
   "outputs": [],
   "source": [
    "tfidf=TfidfVectorizer()"
   ]
  },
  {
   "cell_type": "code",
   "execution_count": 15,
   "metadata": {},
   "outputs": [],
   "source": [
    "X=tfidf.fit_transform(X)"
   ]
  },
  {
   "cell_type": "code",
   "execution_count": 16,
   "metadata": {},
   "outputs": [
    {
     "data": {
      "text/plain": [
       "(4760, 17280)"
      ]
     },
     "execution_count": 16,
     "metadata": {},
     "output_type": "execute_result"
    }
   ],
   "source": [
    "X.shape"
   ]
  },
  {
   "cell_type": "code",
   "execution_count": 17,
   "metadata": {},
   "outputs": [
    {
     "name": "stdout",
     "output_type": "stream",
     "text": [
      "  (0, 4897)\t0.02389447562978421\n",
      "  (0, 618)\t0.16329157913595765\n",
      "  (0, 493)\t0.1432182515817432\n",
      "  (0, 15431)\t0.1465106667783784\n",
      "  (0, 9683)\t0.14221995560402384\n",
      "  (0, 9473)\t0.1659367460301157\n",
      "  (0, 1392)\t0.16893558892062888\n",
      "  (0, 7833)\t0.09796763688009552\n",
      "  (0, 1216)\t0.13861898652272264\n",
      "  (0, 730)\t0.13411233174594553\n",
      "  (0, 13107)\t0.1432182515817432\n",
      "  (0, 15373)\t0.10474824412221906\n",
      "  (0, 9056)\t0.08665946208245913\n",
      "  (0, 11171)\t0.062485955822192275\n",
      "  (0, 16793)\t0.17649206949657767\n",
      "  (0, 5619)\t0.08601081160337495\n",
      "  (0, 16755)\t0.10687031585712727\n",
      "  (0, 7912)\t0.1334418950453121\n",
      "  (0, 15237)\t0.09797674716768129\n",
      "  (0, 11252)\t0.07275710329932314\n",
      "  (0, 3882)\t0.11994973874601057\n",
      "  (0, 5506)\t0.11450787219484569\n",
      "  (0, 7078)\t0.1981675802578539\n",
      "  (0, 7462)\t0.1474142570376307\n",
      "  (0, 1497)\t0.19707009158499034\n",
      "  :\t:\n",
      "  (4757, 6945)\t0.17079848123621946\n",
      "  (4757, 8387)\t0.17472087105716222\n",
      "  (4757, 15321)\t0.07650626717492601\n",
      "  (4757, 15402)\t0.09749570079564761\n",
      "  (4757, 7657)\t0.11366782121913269\n",
      "  (4757, 10905)\t0.14539385846292857\n",
      "  (4757, 4498)\t0.056725333781218586\n",
      "  (4757, 4897)\t0.03490968728700715\n",
      "  (4758, 5245)\t0.9420648594255822\n",
      "  (4758, 4897)\t0.33543076876675815\n",
      "  (4759, 11274)\t0.3391900050661716\n",
      "  (4759, 11718)\t0.3391900050661716\n",
      "  (4759, 205)\t0.32351722098008756\n",
      "  (4759, 8910)\t0.30377184820490943\n",
      "  (4759, 14077)\t0.32351722098008756\n",
      "  (4759, 3060)\t0.2810516355319293\n",
      "  (4759, 7137)\t0.26397310228664117\n",
      "  (4759, 10769)\t0.3123972037040975\n",
      "  (4759, 4362)\t0.18291054154983\n",
      "  (4759, 14066)\t0.20067323144570698\n",
      "  (4759, 5697)\t0.19517764126877765\n",
      "  (4759, 15449)\t0.19612046463561297\n",
      "  (4759, 1492)\t0.21179324872169705\n",
      "  (4759, 10674)\t0.15874826798021113\n",
      "  (4759, 4897)\t0.041126318279629356\n"
     ]
    }
   ],
   "source": [
    "print(X)"
   ]
  },
  {
   "cell_type": "markdown",
   "metadata": {},
   "source": [
    "# Get Similarity Score using Cosine Similarity\n",
    "cosine similarity computes the L2 normalized dot product of vectors.Euclidean(L2) normalization projects the vectors onto the unit sphere.and their dot product is then the cosine of the angle between the points denoted by the vectors"
   ]
  },
  {
   "cell_type": "code",
   "execution_count": 18,
   "metadata": {},
   "outputs": [],
   "source": [
    "from sklearn.metrics.pairwise import cosine_similarity"
   ]
  },
  {
   "cell_type": "code",
   "execution_count": 19,
   "metadata": {},
   "outputs": [],
   "source": [
    "Similarity_Score=cosine_similarity(X)"
   ]
  },
  {
   "cell_type": "code",
   "execution_count": 20,
   "metadata": {},
   "outputs": [
    {
     "data": {
      "text/plain": [
       "array([[1.00000000e+00, 1.42120506e-02, 3.63615767e-02, ...,\n",
       "        8.34148672e-04, 8.01494233e-03, 9.82691810e-04],\n",
       "       [1.42120506e-02, 1.00000000e+00, 8.90694947e-03, ...,\n",
       "        1.03659670e-03, 9.96017027e-03, 1.22119129e-03],\n",
       "       [3.63615767e-02, 8.90694947e-03, 1.00000000e+00, ...,\n",
       "        9.95836557e-04, 8.50431248e-02, 1.17317267e-03],\n",
       "       ...,\n",
       "       [8.34148672e-04, 1.03659670e-03, 9.95836557e-04, ...,\n",
       "        1.00000000e+00, 1.17097832e-02, 1.43570691e-03],\n",
       "       [8.01494233e-03, 9.96017027e-03, 8.50431248e-02, ...,\n",
       "        1.17097832e-02, 1.00000000e+00, 1.37950326e-02],\n",
       "       [9.82691810e-04, 1.22119129e-03, 1.17317267e-03, ...,\n",
       "        1.43570691e-03, 1.37950326e-02, 1.00000000e+00]])"
      ]
     },
     "execution_count": 20,
     "metadata": {},
     "output_type": "execute_result"
    }
   ],
   "source": [
    "Similarity_Score"
   ]
  },
  {
   "cell_type": "code",
   "execution_count": 21,
   "metadata": {},
   "outputs": [
    {
     "data": {
      "text/plain": [
       "(4760, 4760)"
      ]
     },
     "execution_count": 21,
     "metadata": {},
     "output_type": "execute_result"
    }
   ],
   "source": [
    "Similarity_Score.shape"
   ]
  },
  {
   "cell_type": "markdown",
   "metadata": {},
   "source": [
    "# Get Movie Name as Input from User and Validate for Closest Spelling"
   ]
  },
  {
   "cell_type": "code",
   "execution_count": 33,
   "metadata": {},
   "outputs": [],
   "source": [
    "Favourite_Movie_Name=input('Enter your favourite movie name : ')"
   ]
  },
  {
   "cell_type": "code",
   "execution_count": 34,
   "metadata": {},
   "outputs": [],
   "source": [
    "All_Movies_Title_List=df['Movie_Title'].tolist()"
   ]
  },
  {
   "cell_type": "code",
   "execution_count": 35,
   "metadata": {},
   "outputs": [],
   "source": [
    "import difflib"
   ]
  },
  {
   "cell_type": "code",
   "execution_count": 36,
   "metadata": {},
   "outputs": [
    {
     "name": "stdout",
     "output_type": "stream",
     "text": [
      "['Avatar']\n"
     ]
    }
   ],
   "source": [
    "Movie_Recommendation=difflib.get_close_matches(Favourite_Movie_Name,All_Movies_Title_List)\n",
    "print(Movie_Recommendation)"
   ]
  },
  {
   "cell_type": "code",
   "execution_count": 37,
   "metadata": {},
   "outputs": [
    {
     "name": "stdout",
     "output_type": "stream",
     "text": [
      "Avatar\n"
     ]
    }
   ],
   "source": [
    "Close_Match=Movie_Recommendation[0]\n",
    "print(Close_Match)"
   ]
  },
  {
   "cell_type": "code",
   "execution_count": 38,
   "metadata": {},
   "outputs": [
    {
     "name": "stdout",
     "output_type": "stream",
     "text": [
      "2692\n"
     ]
    }
   ],
   "source": [
    "Index_of_Close_Match_Movie=df[df.Movie_Title==Close_Match]['Movie_ID'].values[0]\n",
    "print(Index_of_Close_Match_Movie)"
   ]
  },
  {
   "cell_type": "markdown",
   "metadata": {},
   "source": [
    "# Prediction"
   ]
  },
  {
   "cell_type": "code",
   "execution_count": null,
   "metadata": {},
   "outputs": [],
   "source": [
    "# getting a list of similar movies\n",
    "Recommendation_Score=list(enumerate(Similarity_Score[Index_of_Close_Match_Movie]))\n",
    "print(Recommendation_Score)"
   ]
  },
  {
   "cell_type": "code",
   "execution_count": 29,
   "metadata": {},
   "outputs": [
    {
     "data": {
      "text/plain": [
       "4760"
      ]
     },
     "execution_count": 29,
     "metadata": {},
     "output_type": "execute_result"
    }
   ],
   "source": [
    "len(Recommendation_Score)"
   ]
  },
  {
   "cell_type": "markdown",
   "metadata": {},
   "source": [
    "# Get All Movies Sort Based on Recommendation Score wrt Favourite Movie"
   ]
  },
  {
   "cell_type": "code",
   "execution_count": 30,
   "metadata": {},
   "outputs": [
    {
     "name": "stdout",
     "output_type": "stream",
     "text": [
      "[(3857, 1.0), (3102, 0.14721563641109012), (61, 0.1472125384798946), (3478, 0.14411764230651952), (3184, 0.14200135767725366), (2684, 0.13755487143715406), (2689, 0.13084554395639822), (4137, 0.12933259723401122), (1599, 0.1292252929883616), (2427, 0.1261227593264155), (1121, 0.12309505026773876), (4106, 0.12233844254271897), (3462, 0.12202489184824497), (412, 0.1216557893087734), (1700, 0.11906418563138092), (425, 0.11365556850184814), (4101, 0.11283136475761682), (560, 0.11191731645387651), (304, 0.10905873063798752), (2949, 0.1088869742065104), (588, 0.10748521586710533), (3336, 0.10641954510842654), (1768, 0.10579173100226832), (2878, 0.10565300145752637), (2598, 0.10453136303566068), (4038, 0.10452847391417015), (2320, 0.1045097052579628), (3763, 0.10301650237928159), (4153, 0.10205563767571535), (4368, 0.1011362077461712), (2448, 0.10018544524395051), (2489, 0.10015835117081053), (474, 0.09986076328374581), (2190, 0.09983235999732677), (878, 0.0977085798699119), (4518, 0.09691371244558866), (1481, 0.0951303697363023), (674, 0.09421494634069849), (426, 0.09372895828958216), (4211, 0.09329863911678159), (4363, 0.09279888409706488), (189, 0.09268871575811446), (4089, 0.09200094272587284), (411, 0.0919798575836529), (3243, 0.09159858554629431), (949, 0.09126215145630717), (84, 0.0904453931782746), (3745, 0.09025716157726679), (969, 0.09018817507212586), (4155, 0.08934912984771831), (1275, 0.08853421347902833), (1851, 0.08823616720087442), (4507, 0.08823453148008586), (3329, 0.08807997206085304), (4465, 0.08793826806950128), (3839, 0.08772348062324194), (1456, 0.08700628432707543), (1725, 0.08695164938447926), (90, 0.08678030350549769), (2792, 0.08676462293942971), (1484, 0.08644856168753146), (773, 0.08591720355217942), (4629, 0.08543498316874179), (302, 0.08521121008092197), (3778, 0.08506928498873438), (2176, 0.08470808866216065), (1553, 0.08451464137176436), (68, 0.08441352421552706), (4268, 0.08437786133630389), (456, 0.08432884864001841), (4602, 0.0841909321627651), (4669, 0.08357506743102748), (3169, 0.08352493399647318), (940, 0.08348540298999443), (4283, 0.08348427012797716), (828, 0.08324904097541644), (4658, 0.0831913913174812), (2550, 0.08304273319856141), (748, 0.08290088779370547), (108, 0.08272844193002897), (2169, 0.08243058363762219), (3240, 0.08227920655922283), (3370, 0.0822353975535653), (4581, 0.08223533821894542), (3677, 0.08118784325733186), (3127, 0.08101229213665184), (2822, 0.08080438705327002), (262, 0.08061650533781725), (3557, 0.08038439264948366), (3260, 0.08029064061438067), (4354, 0.08027743076181867), (515, 0.0797914695248026), (4011, 0.0795679108161922), (4727, 0.07895470147553496), (3187, 0.07895465283723913), (2378, 0.07878795220717179), (4563, 0.07869238933830575), (3639, 0.07861708850006699), (4533, 0.07854044540814915), (4628, 0.07819529410724511), (307, 0.07817278036241085), (590, 0.07812486614502415), (4510, 0.0780104951788954), (1925, 0.07782279997278324), (2650, 0.07780415131634354), (2571, 0.07771217843371922), (4501, 0.07753364125024696), (4314, 0.07737255395242854), (1248, 0.07681860432013389), (4462, 0.07642799931475927), (2619, 0.0761233655046526), (3656, 0.07611466149381799), (256, 0.07593926224438857), (2958, 0.07591034425117511), (2625, 0.0759100967888381), (900, 0.07574422335413056), (3765, 0.07558598840950743), (623, 0.07532578032614767), (3534, 0.07472656729280551), (4382, 0.07421067112763718), (88, 0.07420845708255039), (1518, 0.07409277686456613), (2530, 0.0737154482122616), (4281, 0.07370926212716396), (698, 0.07333605795207436), (2309, 0.07331286834765482), (1361, 0.07325900775041719), (4022, 0.072694345658946), (2226, 0.0725860449509638), (2784, 0.07253914283176702), (2911, 0.07161785192842468), (4591, 0.07138070401757565), (2131, 0.07114595439141422), (112, 0.07109805576747331), (115, 0.07108663303774526), (2359, 0.07073337467335374), (3844, 0.06942909980639889), (2986, 0.06937318636194358), (2191, 0.06899300148154608), (1964, 0.06874831753701643), (4728, 0.06842300659648706), (46, 0.06834994011096225), (1243, 0.0679908663172054), (2035, 0.06744355012058194), (3377, 0.06680110329565964), (3835, 0.06636502640036125), (4398, 0.06621077553268465), (2414, 0.06609737119811174), (575, 0.0659627512890373), (1919, 0.0658725355147669), (3179, 0.06584643068031254), (3463, 0.06579778702313596), (2554, 0.06565131264091568), (401, 0.06559991926542505), (303, 0.06552106640719985), (4299, 0.06530464708574356), (2981, 0.06517651771586677), (3951, 0.06501695662054546), (3657, 0.06477277166254718), (3147, 0.06458696142968055), (4205, 0.06456963206349231), (196, 0.06447025870199727), (2760, 0.06433248597275229), (3230, 0.06433043167035721), (4431, 0.06404012485794991), (1255, 0.06401260992642305), (3498, 0.06395287392092311), (2640, 0.06373836127613286), (1295, 0.06349915726601714), (1494, 0.0634874658799008), (74, 0.06341863565423315), (873, 0.0632834113942424), (4482, 0.06326609201210404), (1314, 0.0632150109905728), (126, 0.06315368068085955), (1578, 0.0631224797541074), (2269, 0.06306648153323557), (1272, 0.06275527678101027), (2474, 0.06269652248244448), (4216, 0.06248489669420322), (3, 0.062204177231948314), (4733, 0.06217775514938777), (1510, 0.062019522417549273), (1871, 0.06123682323702556), (1454, 0.061225464675270534), (4176, 0.06114965264902084), (4466, 0.06104636863121724), (3078, 0.06084505841115139), (2323, 0.060799428403664604), (763, 0.060788910072872), (2845, 0.06072640624723525), (2158, 0.06065856210040056), (1647, 0.06062099959687733), (4687, 0.06059078455483283), (3751, 0.06054846477903346), (1878, 0.06052403673595866), (4583, 0.06045919165511393), (4504, 0.06029379817603721), (241, 0.060236887949289546), (3166, 0.059930679660294056), (4656, 0.059757998195940916), (4523, 0.059731843788414875), (3941, 0.059595504476266443), (4304, 0.05946436287591423), (2624, 0.059463400742914604), (4633, 0.0594232043276546), (500, 0.05931565930244355), (2863, 0.05905789997781171), (660, 0.05892458667038989), (404, 0.05863061936285417), (1398, 0.05853404254396291), (4217, 0.05851398329746496), (1138, 0.05842060156138819), (1033, 0.05836800259836642), (1147, 0.05835950309472559), (1173, 0.05815899439355263), (4004, 0.05811931909930368), (4255, 0.058064995155086216), (2867, 0.057878415181586686), (3030, 0.05787766410022149), (1609, 0.057694811620006635), (102, 0.0573792729420726), (3285, 0.057330875044915686), (2347, 0.05731402956972543), (1281, 0.05725905824592487), (3066, 0.05725705283203132), (4488, 0.05718318110202674), (3225, 0.057125555668040146), (3479, 0.05705797514706718), (4672, 0.056960840762947836), (3433, 0.05681539202532455), (1341, 0.05678872880555416), (3670, 0.0567563690801423), (3303, 0.05674859086842777), (487, 0.056701794095570676), (3643, 0.05661723747364121), (4262, 0.05655396575531317), (4190, 0.05647895511425038), (4289, 0.05644536805305329), (2342, 0.056411092695054774), (282, 0.0563101576840326), (4605, 0.05616917864238568), (1983, 0.05610833056936386), (44, 0.056013962303720376), (3458, 0.056013075132213506), (280, 0.055586711933046866), (2842, 0.055466799359269146), (4459, 0.05546416640522715), (105, 0.05527386640051805), (2666, 0.055102319634021076), (1693, 0.05508259920315414), (3487, 0.05507502113092366), (4484, 0.055072644753559934), (522, 0.055024121143596824), (2118, 0.05494446935456021), (3659, 0.05491886974435319), (4688, 0.05486110417034261), (4695, 0.05481830935358337), (1807, 0.05466768502653065), (3046, 0.0546631905741501), (4149, 0.05463320470059073), (198, 0.054538363221651925), (4188, 0.05442734781559104), (1408, 0.05430849404956826), (3149, 0.05427573718864924), (4606, 0.05409494578869337), (1920, 0.05408622964612919), (2762, 0.053907015475233654), (810, 0.053879390325629786), (2133, 0.05364150655175051), (2149, 0.05355119630901015), (3352, 0.053156273136727494), (3784, 0.053050596139345825), (1858, 0.05304782794167281), (3577, 0.05294788250358233), (2876, 0.05275523988984703), (1394, 0.05272891709359116), (1579, 0.0525372566355615), (212, 0.05249760354784193), (3853, 0.052367314426864625), (959, 0.052331636891583315), (465, 0.05232617647920757), (2460, 0.05231812311023183), (4340, 0.05230414800625558), (1624, 0.05198154714813455), (3315, 0.051704224435043626), (2739, 0.0514455606024409), (3531, 0.05144221227330063), (2860, 0.05143949908670449), (512, 0.05138408327748649), (4649, 0.051186739024966045), (1495, 0.051177456470318246), (911, 0.051170247976088434), (1292, 0.05094288733390542), (15, 0.050884604332045766), (544, 0.05084067536033469), (669, 0.05073248538218654), (3899, 0.05061210887678366), (3895, 0.05017526593350874), (266, 0.05005933180719033), (3701, 0.05004050293307126), (4320, 0.04997338489926244), (808, 0.049973376545991696), (609, 0.04979136095165477), (1734, 0.04962931409594616), (1445, 0.0496084978833374), (11, 0.04960230051716226), (2980, 0.04960101406195942), (3706, 0.049432180346500904), (2258, 0.0493078143934886), (541, 0.049279930790705015), (3318, 0.048988295152091646), (3279, 0.04893049844675559), (3085, 0.04882738211780367), (418, 0.048824611812505046), (310, 0.04864114942431232), (510, 0.04860150010500184), (856, 0.04851848169750766), (3716, 0.04845933907800863), (3956, 0.04844691604199642), (1080, 0.04839098591069811), (3275, 0.048291238284967695), (739, 0.04821052946310442), (687, 0.04814829859774666), (705, 0.04812122492273848), (1915, 0.04807103217131171), (3611, 0.04800523910256626), (1676, 0.04796783568366322), (4342, 0.04793879440690901), (2617, 0.047923327851319364), (1175, 0.047753604469750896), (166, 0.047584596367378725), (2585, 0.04756128881906375), (1047, 0.047478729619127955), (993, 0.04739395238498512), (1562, 0.04734354750008687), (1512, 0.047314829236721624), (3954, 0.04728666178534755), (4372, 0.04726821990829162), (190, 0.04726367673906966), (62, 0.047185591142004456), (3449, 0.047167905181013076), (2612, 0.04714369191942633), (3435, 0.04695473940397441), (1909, 0.046896520933922936), (1514, 0.04680809014150071), (237, 0.0467898993579503), (4387, 0.046709133501002316), (2511, 0.04668712116129883), (3090, 0.046579555834285226), (3129, 0.04653415154937288), (2481, 0.04641979410500625), (2798, 0.04633164665137819), (4719, 0.046278735823700394), (3614, 0.04611731724965162), (4051, 0.04609658442057446), (791, 0.04589985785590128), (2834, 0.04589848934491877), (4177, 0.04584466566362281), (1188, 0.04581917811651575), (1177, 0.04575254835437116), (1658, 0.04574529504042632), (4210, 0.04568435883102159), (1068, 0.045537911675012324), (4428, 0.04548775831167134), (4403, 0.04548581350735974), (622, 0.045415190947770655), (1379, 0.04530644274056753), (3235, 0.045291747820820655), (4123, 0.04512859282514951), (3139, 0.04506660886503765), (4321, 0.04505187233490264), (1970, 0.04494988900710312), (2294, 0.044945363546907785), (2642, 0.04494095069123506), (1346, 0.04491633654953588), (2553, 0.044863187724538935), (4150, 0.04481936667925485), (2020, 0.04478198479941274), (4589, 0.04476185919887823), (2807, 0.04474619156617707), (3580, 0.04455471501425852), (3792, 0.044392431759303186), (3469, 0.04435865441579741), (892, 0.044282802157890024), (3385, 0.04426776453768906), (1505, 0.04420688513981085), (2699, 0.04419607560119598), (3045, 0.04416116883792176), (852, 0.044112325742740634), (3389, 0.044047055211333244), (2742, 0.04398165088249441), (2649, 0.04392053092971189), (1420, 0.04390451655852455), (805, 0.04384967333950371), (4434, 0.04383633734938552), (3856, 0.04371537137219943), (638, 0.04361551276158782), (2509, 0.04360051832630005), (1606, 0.04359554516396339), (2988, 0.043581285203850156), (4399, 0.04349133270768884), (2104, 0.043487379003307465), (34, 0.04341655279205732), (2618, 0.04331220821029175), (2588, 0.043284031538676944), (1192, 0.04290642217810682), (4282, 0.042886339592353835), (3142, 0.04287061039830544), (1179, 0.042850591890773754), (3906, 0.042844240039883776), (774, 0.042815990896257566), (2461, 0.04278570770006157), (1557, 0.042770124373843), (1527, 0.04276121518923791), (3335, 0.04273275122926075), (1013, 0.042698945506719356), (1402, 0.04268550500754992), (96, 0.042498866591437014), (3655, 0.04248469016359166), (4378, 0.04245554245942943), (1116, 0.04235894630869025), (33, 0.042326223639351145), (697, 0.042304216272977604), (349, 0.04223169241365379), (138, 0.04218617656557213), (2366, 0.04211379409451659), (444, 0.04199795312396756), (3334, 0.04195893918014085), (1802, 0.041943227914356014), (3152, 0.04192276715550609), (3637, 0.04188467975884273), (3394, 0.04181832182657438), (4127, 0.04181483458617867), (1130, 0.04178394836328457), (3163, 0.04162245973045117), (127, 0.04160709900345656), (4286, 0.04157553302272127), (4319, 0.04142394540776951), (3403, 0.04141321245893631), (1261, 0.041372446413544255), (3933, 0.04135228155520716), (3866, 0.04130186315833246), (3282, 0.04128784292462892), (4309, 0.04124474909255827), (1108, 0.041233574115634934), (677, 0.041221114573064814), (3747, 0.041205716533332465), (2647, 0.04113767463040725), (2290, 0.04112913497918065), (2999, 0.04108971378056114), (1582, 0.0410263149090992), (771, 0.0410255331227665), (973, 0.0408155708802224), (3272, 0.04069912532290026), (3850, 0.04069701902386022), (3304, 0.040627863693694234), (1784, 0.04054639800330709), (2923, 0.04054599005698928), (749, 0.04044761861523485), (930, 0.04035586506155099), (399, 0.04034613953378174), (3743, 0.040274486760885256), (727, 0.04024609651217642), (4213, 0.04014782766378642), (619, 0.04011409200571165), (1720, 0.04006710827986119), (612, 0.04002192399068913), (3328, 0.03997805595698124), (701, 0.039952401975346157), (4663, 0.03992258052279842), (3877, 0.03984958976165285), (117, 0.03980047995201288), (982, 0.03979463531362472), (213, 0.03977447503056279), (2740, 0.0397000499722744), (4192, 0.03965964734055326), (3570, 0.039632240668666475), (2440, 0.03954515214852142), (4599, 0.03951821205889173), (886, 0.03949592284609681), (4028, 0.03944131993289504), (2340, 0.03942331233643256), (967, 0.03940926992300364), (563, 0.039366210168924), (297, 0.039335140666773405), (936, 0.03928104519954275), (3191, 0.0392055549563693), (4327, 0.03920528848026374), (1074, 0.039135905322447005), (3892, 0.03912224225164698), (3556, 0.039071509072702404), (342, 0.039030859906851165), (3200, 0.03898884978258795), (1500, 0.03893619333727873), (2351, 0.038849456289014976), (824, 0.038830520077027426), (1107, 0.03882803028564548), (380, 0.03878452186289291), (692, 0.03870373283782878), (2368, 0.03867914259753132), (653, 0.03858063929487801), (1290, 0.03857383015177975), (1111, 0.03853820118938772), (722, 0.03851223577115179), (2582, 0.03847392527831849), (2454, 0.038448378668801), (3610, 0.03844184265536095), (1190, 0.038423155308351775), (3205, 0.038422644279270904), (1711, 0.03840749424554052), (56, 0.038397378647566885), (3083, 0.03834344471720203), (2801, 0.038305754906021984), (3801, 0.03829923642057414), (2299, 0.038235361236167234), (1948, 0.0382222141753745), (4031, 0.038048848294316304), (460, 0.038009742041648656), (1650, 0.03797896657237855), (4181, 0.037977239256705896), (2418, 0.03794054773733943), (1009, 0.03792319977654361), (910, 0.03783106994085666), (3777, 0.03782041286074496), (3391, 0.03779980458540039), (483, 0.037791848239873575), (1477, 0.03777754978462714), (4070, 0.03772070658249744), (3628, 0.03767627751376704), (1643, 0.03757817160380873), (4298, 0.037575575765988155), (4454, 0.03755155135936251), (3705, 0.037542807250858144), (2100, 0.037518902224333364), (2574, 0.03751624429764355), (3533, 0.037515389315290255), (792, 0.03750944723889107), (1127, 0.037486115706435036), (124, 0.03739920027687816), (2848, 0.03738637418911888), (36, 0.037365653035391314), (204, 0.03729413380016093), (2114, 0.03719283229806125), (438, 0.03718174794571839), (1600, 0.03717804528404423), (146, 0.0371647973237096), (4073, 0.037119946212606426), (613, 0.03707916608541259), (3779, 0.03698598550765953), (4703, 0.03692803575230054), (4460, 0.03689652248571744), (2844, 0.03681318795626929), (2355, 0.03679299861210259), (3419, 0.03674755346917819), (2188, 0.036732393094616095), (156, 0.036681008165986226), (1101, 0.03667808512405191), (2459, 0.03663455473412153), (4189, 0.03661399790921356), (2667, 0.036591302672954865), (445, 0.03658512468302297), (1077, 0.036568410810909675), (3000, 0.03655042413654524), (1865, 0.03650876536708133), (2297, 0.03650361285572483), (655, 0.03650141226865054), (565, 0.03647358888284734), (4063, 0.03644659855930398), (3111, 0.03643929129249975), (250, 0.03642398980535889), (1223, 0.036409037846156865), (3362, 0.036337328642001905), (1520, 0.03624488912951164), (2769, 0.03615399015520351), (3380, 0.036152413628391826), (3043, 0.036049630882394615), (1675, 0.03603839878592556), (104, 0.03602136483167205), (3988, 0.03599763751053029), (4624, 0.03591102967667605), (1216, 0.03587396917761657), (4050, 0.03585172976079995), (723, 0.03584966650730505), (3094, 0.03584064761671073), (4274, 0.03577885743493457), (700, 0.03575137586325917), (4160, 0.035703217157083), (436, 0.035628385791132276), (3146, 0.03561927517247205), (109, 0.03559126931946903), (3307, 0.03558117962666466), (781, 0.03556085546360211), (4338, 0.03555456988684555), (192, 0.03554250798274913), (1764, 0.03550442098909927), (4584, 0.0353868814979796), (2403, 0.03530458683015773), (586, 0.03526392899886765), (4568, 0.03525315265218375), (1895, 0.03521166912466628), (3976, 0.0351943747803883), (274, 0.035171410775076135), (4159, 0.03512934966931601), (4516, 0.03512547674284594), (787, 0.03512001727615863), (689, 0.03507180099352606), (1924, 0.03499548452132056), (1436, 0.03494416795262648), (3297, 0.03491902371809005), (1506, 0.03489052297372897), (524, 0.03488491995146741), (3575, 0.034842893716797316), (1480, 0.03484039297931699), (75, 0.034839837721447095), (2051, 0.03480310444298439), (1066, 0.034737413201014186), (2808, 0.03468648090434247), (32, 0.034682730653266644), (883, 0.0346477432882694), (2675, 0.034621683822875254), (4344, 0.03455962369887974), (3860, 0.03453254750519013), (913, 0.03453000016838882), (3308, 0.03444670134331537), (4406, 0.03443278017364182), (876, 0.03435800452425264), (2579, 0.03433626624037797), (4535, 0.03428641438015393), (1974, 0.0342561863108555), (976, 0.03420959793678267), (4708, 0.03419450853565451), (1991, 0.03419203281875455), (3438, 0.03418561389378663), (729, 0.03415924764023747), (165, 0.03411548669424188), (3910, 0.034107152309036944), (1329, 0.03408738385853376), (3028, 0.034079322699450076), (3592, 0.03405169110870737), (1923, 0.034021028574901704), (1148, 0.033986858826817574), (2535, 0.03395230415025356), (4226, 0.033909195019264565), (301, 0.033873581176741455), (3018, 0.03386760178637649), (4061, 0.033865875006955724), (635, 0.03384986934110638), (1471, 0.03384344691338523), (254, 0.03376438252442241), (2903, 0.03375737780129337), (684, 0.03374555470675169), (1195, 0.033744531963041224), (3648, 0.033682960402568796), (344, 0.03367959185151477), (2688, 0.033677522494693024), (1850, 0.03365406353478639), (4467, 0.03362673935800269), (1273, 0.03356392331066565), (4140, 0.033471047005000136), (298, 0.03345154534747342), (699, 0.033441626377626925), (2353, 0.03341809024213318), (2175, 0.03339928923152459), (1707, 0.033357835574461314), (4508, 0.03335075979784458), (1353, 0.033330948840025444), (1960, 0.03332929269682629), (1365, 0.03328183787742903), (2595, 0.03322669046675463), (3597, 0.03321864979933878), (1585, 0.03321449064655041), (330, 0.0331894116492748), (277, 0.03315524079174584), (4684, 0.03315336357014104), (3353, 0.033109433567893067), (1682, 0.033095244790228344), (3772, 0.03307482620421538), (2851, 0.03304489997039918), (728, 0.03304116334538121), (987, 0.03303242992617473), (1124, 0.03301776086011829), (4404, 0.033009198294639795), (324, 0.032996551359518955), (4054, 0.03298564920592664), (1848, 0.032977675928291594), (2552, 0.03297281644448982), (4348, 0.032921288587094186), (733, 0.03290372767235122), (2805, 0.03289904838460545), (829, 0.032885737299284304), (4371, 0.03285109572878348), (2250, 0.032822967747620536), (1905, 0.032819406647272266), (1747, 0.03278664213998032), (2441, 0.03278591665969073), (1250, 0.03263952508692011), (1701, 0.03263863948959567), (2777, 0.03263292313959376), (2813, 0.03262460648754811), (214, 0.03261563738577243), (523, 0.0325935419454721), (901, 0.03257841669366482), (1337, 0.03250093933837748), (206, 0.032497081293111546), (915, 0.032493551559763426), (4471, 0.03248639220022524), (4152, 0.03245886291334694), (769, 0.03243528917503767), (4575, 0.032414058239382315), (218, 0.032377475188727564), (388, 0.03234421823505769), (4033, 0.03231923547372502), (3963, 0.032311829643893134), (3344, 0.03229709245360225), (2091, 0.03229138055183993), (2621, 0.03227681819537097), (1613, 0.03226431894308876), (3511, 0.032247830419531685), (688, 0.03223454322562862), (4111, 0.03222678901192408), (2161, 0.03220669180111878), (2484, 0.0321824112704319), (1852, 0.03210422293841825), (2088, 0.032097810429610685), (4590, 0.03205643652877574), (3434, 0.032026768138815484), (299, 0.032019286311446266), (371, 0.03200606936679155), (1224, 0.03198026979233162), (1781, 0.0319792735788791), (2115, 0.03195981819255362), (4598, 0.03195321853704873), (4419, 0.03193770211101207), (1841, 0.031892050235217864), (1733, 0.031891900456410445), (1332, 0.03187037677316286), (1278, 0.03186498449932324), (610, 0.03184063757663179), (1762, 0.03181695191732097), (1043, 0.03178541350253053), (4223, 0.03169112638382169), (4334, 0.03166388375298737), (3368, 0.03165487982885676), (481, 0.03164554772632125), (407, 0.03162471351422006), (4470, 0.03158624440218523), (1373, 0.03154125076828456), (731, 0.03152793066352749), (757, 0.031483654785315104), (2321, 0.03147594714089458), (865, 0.03145720684556261), (3016, 0.03145088019014581), (616, 0.031421745152471585), (1844, 0.03140506362180643), (2534, 0.03140495814504177), (3809, 0.031388988816577174), (2942, 0.031388653865757385), (4156, 0.03138168616901864), (2144, 0.03138045653639652), (3759, 0.031361446425324506), (4564, 0.03134744888243775), (179, 0.031293481401967124), (3012, 0.031283341651348315), (3666, 0.03125840704962879), (3932, 0.031248854848710587), (3786, 0.031237871182714476), (1039, 0.031187110834579534), (1115, 0.031162874356172057), (477, 0.031056474852993066), (345, 0.031040438438882663), (4169, 0.030997470933467112), (755, 0.03095230222754671), (1339, 0.030930756312483605), (4162, 0.03091683765012192), (2736, 0.030908399148593713), (1903, 0.03089866064109359), (2899, 0.03089647036201031), (2821, 0.03089264839793051), (4272, 0.030886490071439364), (4074, 0.030834715325461226), (2182, 0.03077519695980838), (1131, 0.030739250863525247), (172, 0.03073415811777718), (1228, 0.03069786861784511), (470, 0.030691366212457376), (1069, 0.030648513793005323), (3133, 0.03060183418184081), (479, 0.030600983468755935), (2996, 0.03058975319576097), (2447, 0.030589379013453565), (3466, 0.03055901480275943), (2751, 0.030554015939612128), (4009, 0.030520321205948473), (1019, 0.030452189938464824), (1052, 0.030428161339828546), (1479, 0.030384783314615034), (848, 0.030362155493880525), (2473, 0.03033316266798823), (984, 0.030320315217204533), (2337, 0.03028624998906319), (2074, 0.0302856869792675), (1202, 0.030285657566309167), (2231, 0.030271495597327967), (726, 0.030255218406047384), (551, 0.03020940376807492), (2766, 0.030177533082677503), (3173, 0.030172538962361765), (2673, 0.030106919335142042), (591, 0.030083500002103237), (4267, 0.030037242894835565), (802, 0.0299740569639963), (2802, 0.02995840035809707), (85, 0.029929943122424345), (1493, 0.02990687304741462), (2894, 0.029863242919521093), (2898, 0.02985248434190331), (1782, 0.02984130501664263), (1284, 0.029824756943846488), (4078, 0.029807486507808255), (160, 0.029754918926489526), (1157, 0.029749220202364215), (1936, 0.029742398693437342), (4183, 0.029716011947708832), (514, 0.029707703799397987), (1524, 0.02969482155753633), (598, 0.029676212211919274), (2371, 0.02967516903152135), (354, 0.029672055481863156), (670, 0.029667189074903802), (1949, 0.029657660645570433), (2493, 0.02964725677387375), (1156, 0.029628634004447922), (3195, 0.029627987147872157), (3298, 0.029595802883629833), (3977, 0.02958665780607444), (4498, 0.029578398309093118), (3886, 0.029560191050123703), (1594, 0.029558533569036517), (864, 0.02954407288896245), (4288, 0.029497122252934986), (3584, 0.029420582921968357), (2117, 0.029388831673541567), (1818, 0.029385245007457657), (2480, 0.02937033824273756), (2316, 0.029342820150070635), (1079, 0.029290259504158242), (4536, 0.029271899350018164), (3846, 0.029193179549308865), (4085, 0.02916114689943569), (2496, 0.029095677271881722), (3979, 0.029085953248437026), (19, 0.029048428311964424), (3132, 0.029044544085045993), (1750, 0.02901150784230999), (759, 0.029000065927422387), (3360, 0.02898259756765053), (4511, 0.028932921029911157), (3299, 0.02890588173433011), (340, 0.028863275378128314), (3234, 0.028858079791287176), (1018, 0.028805572037416863), (656, 0.028780976005431617), (3968, 0.02876845607447244), (2348, 0.02873219058319093), (822, 0.028730736608600087), (240, 0.028713852510449753), (3711, 0.028708622739729746), (4701, 0.028695041963709218), (2908, 0.028693765797416663), (3681, 0.028691801341775767), (154, 0.028632797700307532), (55, 0.0286253923327411), (3134, 0.02859292457179907), (4685, 0.028559965879309427), (2221, 0.02847659710708327), (331, 0.02841371252461769), (1318, 0.028407086501975598), (1780, 0.028404579127999187), (463, 0.028395935298083423), (3289, 0.028393619029826747), (2780, 0.02836602054506228), (2103, 0.028326048041419246), (3305, 0.028308904887819446), (2959, 0.028280881349404225), (291, 0.028277078192207147), (1467, 0.028276972497476013), (4479, 0.02821955701218077), (1954, 0.028215698457750116), (4550, 0.028201462182739355), (1533, 0.028104579207174463), (3840, 0.028084602174989436), (1330, 0.02808384589173276), (1464, 0.028075600657071688), (1106, 0.02807538404612916), (4294, 0.028058853423903025), (4146, 0.02805100548234151), (3938, 0.028037402802967633), (4093, 0.028024070921739745), (2204, 0.028007332234444182), (2955, 0.027976242104955064), (3124, 0.02789160209225063), (3246, 0.02788844903668333), (3812, 0.027884484250219867), (29, 0.027844752303793414), (3875, 0.027842175757771044), (3958, 0.02783947200605509), (2143, 0.02781361373449798), (1998, 0.02775181728992277), (3467, 0.027746550907702262), (2150, 0.02771043141511107), (1528, 0.027706344857426894), (725, 0.02769830963630241), (691, 0.027685278882075778), (7, 0.027654830492293232), (1120, 0.027643186999809076), (4350, 0.027617425519171464), (4300, 0.027610648195205915), (449, 0.027588292583651152), (4609, 0.027584858895701413), (1710, 0.027556859537594246), (2023, 0.027536835872144144), (1126, 0.02752084744980499), (2584, 0.027423337790034308), (3953, 0.027395103765711092), (3982, 0.0273898780369891), (1005, 0.027387672846955632), (2300, 0.02737518203101804), (279, 0.027373628481987294), (3658, 0.02736086225633739), (1616, 0.027342964537353655), (4731, 0.02725922741724112), (2850, 0.0272293962603967), (3277, 0.027216752073675018), (724, 0.027208026778240194), (1605, 0.027201577389652197), (1206, 0.02719517719192523), (1026, 0.027188275439318697), (2629, 0.02716128022178728), (81, 0.02714487438282642), (389, 0.027141175184873977), (1342, 0.027113401848184143), (659, 0.027109510476002432), (1943, 0.027082282443543316), (1981, 0.027077287651272625), (639, 0.02704630953748938), (233, 0.027040011188012532), (1028, 0.027039513479516566), (2645, 0.027022343780765328), (4264, 0.026998439523647617), (1004, 0.026987770185834484), (1776, 0.02698687094883792), (2129, 0.02696731731070984), (1139, 0.026910081251813444), (983, 0.026908387167458803), (1752, 0.026841233604678848), (1362, 0.0268226864333764), (2177, 0.026789219344377387), (1071, 0.026785324401071946), (615, 0.026775603123792607), (633, 0.026707420464107064), (367, 0.02670549740668674), (182, 0.026614432559965796), (2978, 0.02660053280464004), (3286, 0.026599786620708485), (1198, 0.026593984777653203), (4113, 0.02657693407427798), (3961, 0.026575049907101134), (4588, 0.02653374583514462), (242, 0.026529509091632982), (1217, 0.026482745753782854), (3602, 0.02641743212731617), (1785, 0.02637338948343552), (1103, 0.026361915399272233), (1425, 0.026295576873880296), (2375, 0.02628768866959496), (1220, 0.026257886422873907), (4411, 0.02625072949630548), (2681, 0.026210111204534575), (1771, 0.026193299410072285), (131, 0.026188399579805264), (706, 0.02618208699510271), (2824, 0.026174765280337915), (1304, 0.026171969741525847), (1614, 0.026171352315568275), (1515, 0.026167204046310545), (608, 0.026163420979476392), (2501, 0.026122894993593673), (3980, 0.02612186681499429), (2107, 0.02609757511740432), (432, 0.026076964118086226), (694, 0.026056127353992452), (2270, 0.02601603469213574), (4095, 0.02600443014001299), (3732, 0.025967415347113436), (53, 0.02596246695094038), (2711, 0.025941599222587278), (3692, 0.02592631039139674), (4071, 0.02592364743793637), (3582, 0.025882890032144543), (3222, 0.025873234267793543), (794, 0.02585978384229097), (703, 0.025852593277047378), (4099, 0.025842307887299545), (1610, 0.02580691554270923), (3600, 0.025799307359479575), (1833, 0.02579294691584722), (186, 0.0257767100798069), (2661, 0.025687814894062477), (1259, 0.025668911579699652), (2039, 0.025659755572669994), (3091, 0.025647953939069587), (2205, 0.02564693993597101), (1559, 0.025642524327800804), (1855, 0.02562706816437568), (1442, 0.025622357918655355), (2280, 0.025618023725576842), (1221, 0.025611852474290854), (300, 0.025596547155871584), (1648, 0.025582276041738402), (1649, 0.025534592575594955), (3700, 0.025520653212834237), (3426, 0.02548756459396541), (2442, 0.02548146480317081), (4119, 0.025474418753010944), (3010, 0.025462485629431313), (1135, 0.025425809192189217), (927, 0.025367095558427213), (719, 0.025361718643778723), (1469, 0.025327404704014064), (1153, 0.025308148129775932), (244, 0.025299246159107103), (4359, 0.02529757295086004), (2660, 0.02528887560367689), (708, 0.02524162672654035), (1168, 0.025217168266657194), (843, 0.02519952889006914), (3882, 0.02518487674295928), (2000, 0.02515705240751267), (3589, 0.025140147046335604), (2622, 0.025137855946033856), (1592, 0.025081755285314908), (2057, 0.025080173232000215), (4374, 0.025065296698771007), (1827, 0.025057151932953676), (2835, 0.02503891003007396), (2761, 0.025036302487642156), (1306, 0.02497283841817544), (3376, 0.024971201456318957), (798, 0.024968869733583254), (3294, 0.02492331652175672), (3872, 0.024920823377137722), (1651, 0.02486334584953226), (2591, 0.02485970906915636), (3833, 0.024845992063047002), (4191, 0.024818696146104623), (1789, 0.024810384600250097), (2744, 0.02480090783225803), (3153, 0.024795130998538206), (3005, 0.02472813215927302), (4287, 0.024722777892350955), (1340, 0.02471730151216445), (3063, 0.024649420285048722), (4013, 0.024646705462777682), (1860, 0.02461032988671533), (4525, 0.024604167404192866), (2094, 0.0246032735757191), (175, 0.02456720327716411), (1366, 0.02456055823260572), (1569, 0.024477930968022074), (963, 0.024458110629683897), (4015, 0.02444566640310877), (2389, 0.02444059816992996), (2975, 0.024424906575543474), (3821, 0.02439976954039475), (4148, 0.02437053218027143), (1872, 0.024354549432593305), (3634, 0.02435149680977493), (3651, 0.02432066263946861), (2745, 0.02430500756107385), (1285, 0.024270107363243865), (1664, 0.024265538213677752), (1504, 0.02423209338573565), (1226, 0.024220104602948066), (4081, 0.024212985771662872), (1601, 0.02419882967957556), (2940, 0.024196854822174502), (3780, 0.02417158947307735), (4640, 0.024124340597907367), (3909, 0.02411877515516671), (3619, 0.024039764423141548), (357, 0.023991451806719518), (1112, 0.023983680778072884), (4542, 0.023951351035548345), (3238, 0.023926025063586234), (2931, 0.02388708040798774), (3118, 0.02387470411364022), (1612, 0.023830381863589874), (3525, 0.023821278676063082), (4114, 0.023780527518900932), (4194, 0.023755208433183836), (376, 0.02368197753583296), (4349, 0.023678431316028856), (3295, 0.023661372175350654), (1714, 0.02365270257607556), (1443, 0.023649289885237935), (1668, 0.02364598473095788), (3067, 0.02364153945320109), (4182, 0.023611570248862), (2465, 0.02358150554402738), (685, 0.02354752313105188), (2433, 0.023529759598234667), (607, 0.023506259963068626), (2436, 0.023473101234641823), (3690, 0.023425501407717122), (951, 0.023393245606698324), (2732, 0.023377656007324887), (4647, 0.02337669063804633), (2697, 0.02336286493809283), (1245, 0.02334224019552548), (4032, 0.02326623600527647), (1532, 0.023243527041289253), (1367, 0.023141363689292), (1384, 0.02314116042356701), (3430, 0.023119671436793148), (422, 0.02311788672227849), (4139, 0.02310996782856941), (3283, 0.023059977311414043), (3865, 0.023055119426552813), (3927, 0.02305132338289972), (2014, 0.0230388412023506), (4614, 0.023001657319435043), (3950, 0.02299696872568513), (1222, 0.02297148385491754), (4732, 0.02290916059006251), (3036, 0.022894948806295442), (2141, 0.022874706564221258), (979, 0.0228698026125384), (545, 0.02284127572445048), (3903, 0.02283948738304963), (3219, 0.02283756009983595), (3390, 0.02280244314480556), (203, 0.022785569406868832), (1759, 0.022753427956538636), (818, 0.02275016878207018), (1140, 0.022746348439993826), (2995, 0.02268188360624468), (4646, 0.022641963153144425), (163, 0.022626424628544296), (2202, 0.022596798365057666), (816, 0.022567941877811373), (2791, 0.022524018887130806), (988, 0.022487445275116494), (734, 0.022413595040241843), (2616, 0.022413587676034394), (1411, 0.022372201707918905), (397, 0.022372010390089424), (2634, 0.02236228391362517), (2036, 0.02235823113234664), (2838, 0.022335793761884964), (3141, 0.022317565842636205), (2012, 0.022306213753852746), (921, 0.02227383122199987), (3829, 0.02224695262913957), (215, 0.022242317132628614), (3919, 0.022208199112199203), (1046, 0.02208511872533238), (4018, 0.022044421153496325), (3150, 0.02197550895114183), (57, 0.02185274700140009), (4053, 0.021852017178980283), (970, 0.02184308132084775), (4638, 0.021831912171251744), (4379, 0.021762606555811744), (3959, 0.021754525442099527), (455, 0.021746637223339218), (1487, 0.02173486958647173), (1029, 0.021693304599294243), (3989, 0.02164750631489214), (3061, 0.021631761767504358), (2457, 0.021529188014690927), (3386, 0.021526669549983002), (3004, 0.021526017692853023), (1375, 0.021518954985014237), (1132, 0.021517034914921608), (2227, 0.021491900434959618), (2892, 0.021491735172874588), (877, 0.02148905378993902), (3154, 0.021390776652125368), (850, 0.021383180443806764), (149, 0.021378319211690915), (740, 0.021372415808404484), (1045, 0.021368235558991477), (122, 0.021339767426221044), (4057, 0.021328215592433773), (1003, 0.021300449433811132), (3333, 0.021283686724711464), (519, 0.021264219278796608), (2276, 0.021252475481440953), (2234, 0.021249952152256866), (1291, 0.02123613855964484), (3730, 0.02120457428805044), (3551, 0.02119965728457661), (4375, 0.02116043845539199), (3374, 0.02113784958848429), (1059, 0.02103072455700645), (1741, 0.021007898313889765), (569, 0.021005482474633845), (2692, 0.02091295043341438), (1906, 0.020910095275145202), (904, 0.020907060330055946), (1838, 0.020880851890552807), (346, 0.020871850734899663), (1390, 0.020869342578525848), (2637, 0.020826467215193073), (2026, 0.020822928617986746), (2152, 0.020813288672028474), (2029, 0.020742504631504264), (1581, 0.020722569414657183), (4364, 0.020710729727613172), (2416, 0.020702119583718506), (4627, 0.020665458138262066), (4201, 0.02065119301049835), (3563, 0.020635802997783274), (2147, 0.02058971840285835), (2180, 0.02057820118927706), (2298, 0.020564622021840437), (1788, 0.020558468397607704), (1927, 0.020531365187237506), (1645, 0.02052527167970393), (1463, 0.020485025354585684), (3259, 0.020457637806218447), (191, 0.020454757065230034), (2639, 0.02044696235398126), (3764, 0.020445569818647154), (4395, 0.020435078860991912), (1719, 0.020434793866786993), (2145, 0.02036071983699267), (643, 0.020354870064990257), (4143, 0.020352522522922818), (4110, 0.020346783731432255), (3868, 0.020329385763623975), (1944, 0.020323854098354934), (1880, 0.02031860520924317), (469, 0.020298068054209747), (38, 0.020297981985741058), (968, 0.020289558565916233), (2219, 0.020223714718125205), (3375, 0.020202937807777106), (1472, 0.02017478490982606), (4650, 0.020142575549007086), (408, 0.020087907461396593), (1928, 0.020080365678094767), (4480, 0.020041361714835094), (742, 0.01997210074175002), (561, 0.019929555817852097), (3446, 0.01992225901759239), (3071, 0.019901133758809572), (1509, 0.01987832449067412), (4059, 0.019869557293799724), (3646, 0.019862550305994105), (2644, 0.019830609883882366), (3407, 0.01972087883123602), (713, 0.019699713774663574), (28, 0.019695805616740364), (1211, 0.019606584865838397), (942, 0.01958266788855189), (3756, 0.01957866892859548), (1319, 0.01956665043643735), (2830, 0.019452966373170538), (2611, 0.019425221704028724), (4259, 0.019415085110313608), (1152, 0.019321788291637818), (1595, 0.019228561227789338), (640, 0.019204966445912883), (450, 0.019179704113020005), (2510, 0.019143418054472), (1331, 0.019102701355744395), (4495, 0.019100179947297406), (3746, 0.019096844803868338), (929, 0.01905204989305135), (887, 0.019005884199319086), (4186, 0.01894178094025619), (2203, 0.01893446608038573), (2790, 0.018930029424054702), (2283, 0.018929758347517325), (3524, 0.018923328934779476), (1959, 0.018907851392869254), (1392, 0.018891640312287745), (1698, 0.01888586089985529), (3086, 0.018882497678043637), (2178, 0.018873520846488457), (2469, 0.018857093337103288), (4067, 0.018854733669201956), (152, 0.018839363233852793), (1359, 0.01878268610076528), (1502, 0.018758354737415953), (25, 0.018730536372301685), (287, 0.018714294363462364), (2485, 0.01869030000603431), (1417, 0.018684442085226346), (2924, 0.018653303810245117), (443, 0.01860341647528969), (3408, 0.018600036742038452), (1572, 0.018599217651285842), (895, 0.018581600729688105), (493, 0.018559100906433642), (935, 0.018551061905335852), (3314, 0.018538628688826386), (1234, 0.01851005322387435), (924, 0.018508383341604984), (4369, 0.01850455009565214), (2562, 0.018496646643000336), (3861, 0.018455038885947468), (1738, 0.018420585001159843), (4486, 0.01841230469018757), (2385, 0.018411878927151282), (3984, 0.018383183552313564), (4757, 0.018356517889110156), (3242, 0.01835213155134761), (162, 0.018343220508191697), (1821, 0.018343021573903513), (1054, 0.01833400848618242), (502, 0.01829963268608862), (3424, 0.018297987308225218), (2013, 0.01827763257109801), (1277, 0.01826361659707433), (2311, 0.018249341936171157), (3514, 0.018248594570178016), (3650, 0.01824373191538859), (3351, 0.018243633773551718), (4748, 0.01819405468423336), (4699, 0.0181480346912022), (4756, 0.018143751542873943), (3121, 0.01811782602997646), (1749, 0.018058166590880644), (1382, 0.018042844862459828), (2615, 0.01802152735043332), (2031, 0.017998209787002745), (4006, 0.01799462999441608), (3630, 0.0179891199956338), (555, 0.01798438994080257), (1946, 0.01796260974571043), (597, 0.017929265068030928), (63, 0.017867158838860333), (409, 0.017861226967820394), (195, 0.017860513261472487), (1239, 0.01784184145048079), (750, 0.017808668186287166), (938, 0.017806547343489194), (1971, 0.01780637374025658), (3797, 0.01779968381383982), (2397, 0.017778201588054016), (3101, 0.017770975276115413), (1204, 0.01773572675537187), (2246, 0.017731136898981325), (4263, 0.017716388462021795), (657, 0.01771280302469653), (1551, 0.017696579978728783), (1888, 0.017687434127423574), (1990, 0.017675019145616352), (2504, 0.017651481107851058), (2410, 0.017646034101151502), (696, 0.017595257221889492), (3258, 0.017560287679470352), (222, 0.01755538297091796), (13, 0.017522455640667022), (249, 0.017492928049091215), (3915, 0.017471589968849503), (3213, 0.017471565961545248), (2128, 0.017469097359784573), (1586, 0.017468847893096676), (3889, 0.017445002949154333), (2003, 0.01739541418758057), (1347, 0.017391880563923722), (3011, 0.017387290821476015), (1298, 0.017383998081790347), (2477, 0.017379260410526145), (1571, 0.017369068102019436), (2512, 0.0173554318754154), (1811, 0.017340305353893533), (2412, 0.017319097918473882), (2162, 0.017274116870683653), (427, 0.01727106096808402), (497, 0.017264646064718878), (395, 0.01725837263609279), (881, 0.017248702124988954), (374, 0.017247177583772463), (2687, 0.01719854642371055), (3771, 0.017161830159719296), (1950, 0.01716019848921272), (1324, 0.017159963051222884), (2409, 0.017149455349977076), (1779, 0.017126102458582437), (269, 0.017115093088833074), (4252, 0.017092395604336126), (496, 0.0170293305780406), (2196, 0.017010927414785895), (3800, 0.017002798973500804), (4483, 0.016983785246360936), (3406, 0.016976511928454095), (3803, 0.01697456643971147), (676, 0.01694837927697771), (1377, 0.016947435258867286), (830, 0.016909665557802725), (4178, 0.016890801031560262), (974, 0.016856335914040795), (845, 0.016840800377727432), (1772, 0.01683568111124764), (923, 0.016834980545786457), (270, 0.016823629302722166), (1117, 0.016793547749094945), (629, 0.016781688512639233), (543, 0.016754131811254715), (3538, 0.016751931937136883), (1430, 0.016743312632202394), (1034, 0.01674116153768548), (566, 0.016734289885015272), (1027, 0.016719702858823866), (1973, 0.016712284312494774), (447, 0.016703640015619386), (1886, 0.016698443108806665), (1854, 0.01669069305970912), (1929, 0.016665471853441693), (335, 0.016646856049829985), (2497, 0.016630485920494965), (606, 0.016611296372559033), (2965, 0.016606161526455655), (813, 0.016602884880992368), (255, 0.0165927704395299), (2544, 0.01658776761714157), (377, 0.016574639250582085), (3414, 0.01654755118007246), (871, 0.01652876529129574), (417, 0.01650213971598233), (939, 0.016501738016933776), (578, 0.01649905021413375), (3811, 0.016480147817699672), (0, 0.016477805867138186), (31, 0.016440987208109235), (3300, 0.01642834330540537), (1109, 0.016391950655351067), (995, 0.016363041023217152), (4551, 0.016360057113649015), (2746, 0.016356613048838033), (2239, 0.01629327180721579), (4356, 0.01625830261406302), (3924, 0.016250313709925145), (4741, 0.01622474241525324), (4689, 0.016211187819066962), (2654, 0.01619149307324718), (4517, 0.016184372287735782), (106, 0.01617279541161925), (840, 0.01617161352459401), (5, 0.016134900169477034), (1437, 0.016133850724618405), (148, 0.016122119112431155), (2558, 0.016089204081316442), (4427, 0.016069052452493772), (579, 0.016063104345632608), (1997, 0.01606182467000104), (1118, 0.016049204567224886), (1462, 0.016034838868197145), (2853, 0.016006575478738173), (3807, 0.016002831727943357), (4056, 0.01600025482905811), (4721, 0.01598408653653294), (863, 0.015980027855520273), (3158, 0.015958487873184518), (1831, 0.015906387078505474), (1210, 0.01590079309537573), (1550, 0.015863179521466552), (285, 0.015833486353952153), (756, 0.01581264325420738), (263, 0.01580720429541313), (2069, 0.015806137161957716), (4016, 0.015802673281707372), (128, 0.015795841152265424), (4020, 0.015782491091777002), (3001, 0.015778847775201898), (2636, 0.015773413611002814), (3735, 0.015756065658315027), (1483, 0.015723558085970726), (800, 0.015713610379879728), (4653, 0.015702519704322526), (3736, 0.015686878571379115), (1709, 0.01565930566829856), (2814, 0.015644722814413523), (2906, 0.015641522704268256), (3604, 0.015640217081801012), (4097, 0.015609304611394117), (956, 0.015600301703335085), (3695, 0.015574438263087837), (1977, 0.01556544761257174), (4729, 0.015547733223409087), (2774, 0.015503922428284835), (751, 0.015498370337613948), (1351, 0.015494509833581693), (4292, 0.01549239169233834), (2513, 0.01549231075896611), (3588, 0.015483765725424663), (3420, 0.015465855289192029), (3214, 0.015441493955295319), (3268, 0.01543736850456946), (52, 0.015431763132081422), (35, 0.015413385320473115), (4247, 0.015365857214249394), (4025, 0.015337632829263273), (6, 0.015320647346571594), (167, 0.015309271779639231), (1982, 0.015300232277113232), (2653, 0.015292001855129987), (86, 0.015279710354367152), (1057, 0.015278609031476155), (4158, 0.015255241190070448), (1584, 0.015255140016790531), (37, 0.015249900989808482), (620, 0.015220420638619173), (2668, 0.01521272873090739), (3096, 0.01519713872572846), (549, 0.015181484099370833), (3539, 0.015170169868867515), (130, 0.015164916206243462), (2627, 0.015154828065264803), (1254, 0.015152155357245858), (67, 0.015147459835148902), (2043, 0.01512675997606579), (2208, 0.015091865800704495), (205, 0.015077848199332326), (1688, 0.015075752060960573), (975, 0.015061009215707551), (1087, 0.015030582579521234), (452, 0.01502416811580641), (3135, 0.015004555420504594), (1413, 0.015004404475806045), (2430, 0.014999943987054402), (2061, 0.01497443664534119), (1535, 0.014940214898429982), (1271, 0.014940062663756047), (3456, 0.014935334545037936), (803, 0.01493081990649464), (2004, 0.014894401128791533), (4171, 0.014888167418160488), (2492, 0.014877095265995163), (1965, 0.014873370813366716), (1448, 0.014865784647842408), (1191, 0.014842909684079461), (2771, 0.014834771964240295), (3713, 0.014813559987201672), (3790, 0.014800118444454885), (1143, 0.014796922640609621), (3460, 0.014794243607515092), (4008, 0.014777944694727742), (3117, 0.014724797333267977), (707, 0.014705572369191214), (2648, 0.014683087625050113), (4610, 0.014672947606225104), (1090, 0.014655989160457496), (2856, 0.014625953546794673), (3474, 0.014619218953320714), (2132, 0.01460593605326792), (3190, 0.01460440404275443), (624, 0.01459680130387038), (1666, 0.014583142599611864), (1257, 0.014581563772719394), (604, 0.014575188236579363), (2656, 0.014570963178389532), (121, 0.0145652938923416), (3912, 0.014561272926398697), (43, 0.014556889504206525), (4277, 0.014515750017347642), (3603, 0.014511543210542668), (119, 0.014505397633610393), (2265, 0.014487585498659274), (2102, 0.014454277939264381), (2632, 0.014437586213085942), (3167, 0.014408408255821016), (4576, 0.014360512109062164), (2422, 0.014351959383190342), (758, 0.014350381744266812), (2213, 0.014347464137383322), (294, 0.014339102988180547), (258, 0.014337093387060485), (4360, 0.014315919439621051), (3890, 0.014304071299072473), (807, 0.014298561870795107), (1060, 0.014265241363338602), (1030, 0.014263430425537), (4337, 0.014262471472107931), (3696, 0.014258538529032671), (4324, 0.014239830805767283), (168, 0.014237045022208314), (1345, 0.014215570490442144), (3387, 0.014184702247586103), (2710, 0.014171638126801953), (605, 0.014162578380218175), (2367, 0.014153006187312129), (22, 0.01415150320875471), (1934, 0.014150704236328814), (188, 0.014147143100293936), (2019, 0.014142432763933052), (3122, 0.014105090819467647), (2377, 0.014104621739154662), (875, 0.014098671852083284), (1001, 0.014091636351901145), (1002, 0.014087482876448135), (480, 0.0140821161426395), (2589, 0.014076505791574297), (4453, 0.014073047128083868), (1167, 0.0140727873394636), (3802, 0.014065350224789084), (221, 0.014057774723238263), (2765, 0.014056989075021262), (3937, 0.014054099720561989), (70, 0.014049633557053381), (3161, 0.01404894535302707), (2224, 0.014041115595278653), (2968, 0.014020979164415324), (962, 0.014019840335049247), (1829, 0.01398234744517368), (2443, 0.013957302283403248), (1041, 0.01387896813035225), (4463, 0.013878819026666933), (3092, 0.013877293605582111), (3510, 0.013848291790291902), (49, 0.013803071725839604), (2862, 0.013790012727269619), (372, 0.013776532699846017), (3774, 0.013769190434492883), (3175, 0.013765004483779618), (861, 0.01376244275097653), (1575, 0.01375404584986515), (390, 0.013706785291550713), (1767, 0.013679773608759327), (4207, 0.013679375863806732), (1407, 0.013651271976049779), (364, 0.013634571314112234), (4557, 0.013626281422510536), (2516, 0.013610968749900358), (2819, 0.013608122550160112), (3105, 0.013598255803683297), (4045, 0.013571173652361887), (2809, 0.013555443169449892), (2301, 0.0135254929553651), (1376, 0.013524987320749788), (934, 0.013475698331087202), (3345, 0.013474836151954299), (3022, 0.01342760967203086), (2236, 0.013417350052302428), (3741, 0.013408295473878562), (1503, 0.013406152784037256), (1775, 0.013404245836123959), (3310, 0.01340118349564081), (2085, 0.013384037195207735), (2338, 0.01335909474010984), (517, 0.013349762791798196), (428, 0.013349471105510567), (4125, 0.01334229401227574), (4275, 0.013319505253098414), (981, 0.013311743988591942), (3027, 0.013305526078320437), (2285, 0.013304954651044408), (3847, 0.013304881790710687), (3921, 0.01330009664303819), (2065, 0.013284262444755963), (3327, 0.013262764852930166), (710, 0.013229867056570081), (594, 0.013216255739769475), (1098, 0.013208128668058032), (2183, 0.013205825067901713), (4329, 0.013190449959705128), (3871, 0.013157254459128295), (2724, 0.013139146283435597), (2315, 0.01312620953312081), (1085, 0.013096356240319004), (1197, 0.013093987497628445), (1911, 0.013090265040494419), (2047, 0.013068595837571004), (1608, 0.013051821277743566), (961, 0.013041987902540828), (2376, 0.013040026348026996), (4712, 0.013036533154986792), (4164, 0.013005625564781242), (4679, 0.012999695499390212), (433, 0.012964508328317106), (1136, 0.012963149002550143), (3945, 0.012955866066670176), (2596, 0.012940678806651253), (647, 0.012915659776680685), (4683, 0.012890229999802535), (1873, 0.012870694745944945), (3188, 0.01283214769122544), (219, 0.01282573003143484), (1465, 0.012819815435404596), (1133, 0.012819112742427134), (334, 0.012814633536742608), (101, 0.012798387437987134), (3471, 0.012793503081914634), (874, 0.01275174301502724), (2408, 0.012721218893472941), (2951, 0.012716627671004555), (375, 0.012696297026577987), (2994, 0.01268750714824406), (1913, 0.012677871103709649), (251, 0.01267387197451832), (1253, 0.012667619337113191), (3814, 0.012664547978823272), (3495, 0.012663598772039302), (1799, 0.012642409037376916), (1419, 0.01262087629091951), (1691, 0.012617036286360267), (4444, 0.012604741006810237), (4029, 0.012589957488011136), (2360, 0.012586192686013601), (1589, 0.012584437990344208), (3698, 0.01258443570556932), (3181, 0.01257855104453368), (3515, 0.012550005300860687), (746, 0.01254548316352962), (403, 0.012533293859268544), (4332, 0.012523210514963848), (2759, 0.012518378412375904), (1679, 0.012507109375622046), (4534, 0.012494980801319144), (1797, 0.012485660709577937), (1684, 0.012474907404779124), (1677, 0.012469485138253723), (3232, 0.01245162224116091), (4118, 0.012447972506290882), (2847, 0.012446814259266937), (520, 0.012443512678925383), (2252, 0.012437226816008715), (341, 0.012429032336511464), (4312, 0.012401956082493388), (4385, 0.012395525818719914), (2985, 0.012388934472462145), (4758, 0.012384227308758572), (1696, 0.012361564129530487), (1561, 0.012348631045358627), (2287, 0.012336766773204746), (1812, 0.012331117282659954), (1545, 0.012319708695302547), (3929, 0.012319199554299585), (2729, 0.012315194305201643), (217, 0.012287097686676986), (3985, 0.012281535291219689), (3965, 0.012269748114166038), (1208, 0.012268234603047521), (1993, 0.01226632605510799), (1654, 0.012263242463784072), (1067, 0.012253377212274296), (4587, 0.012244519528882395), (1305, 0.012224795511872562), (441, 0.012219667715819942), (4265, 0.012216650724602061), (129, 0.012209571734713983), (220, 0.012204092859794763), (1008, 0.012203739578774613), (339, 0.012199287757664401), (1428, 0.012178567120007481), (1241, 0.012156361183373599), (3077, 0.012132697423947568), (3317, 0.012130455981113411), (1689, 0.01211126807013699), (1396, 0.012072142657845506), (2578, 0.012008916566306791), (3638, 0.011998044496371204), (4612, 0.01198000832552397), (3907, 0.011976630444958804), (3616, 0.01196689151751108), (4242, 0.011955234403421744), (2827, 0.011951353862511185), (2944, 0.011948697378021018), (3794, 0.011940433476621558), (2271, 0.011931173933041671), (3021, 0.011897856796385808), (3265, 0.011896492676819607), (2120, 0.011888612183287966), (248, 0.011885583159021764), (4674, 0.011876952324999364), (1938, 0.011874215541484368), (2548, 0.011871386775654457), (4660, 0.011866895935637337), (3528, 0.011835066095518973), (3226, 0.01183475694946948), (788, 0.011814605638958146), (2017, 0.011781251915510169), (768, 0.011776618582492432), (2568, 0.011769879179519091), (309, 0.011761702082606674), (3738, 0.011751546701576906), (958, 0.011743192664322303), (1105, 0.011715566027392647), (573, 0.011698610999119702), (3842, 0.011693932826629286), (4193, 0.011684122969118927), (3228, 0.011678990995798744), (1522, 0.011657405025716841), (4062, 0.011656248362725087), (2237, 0.011647587629372914), (1795, 0.011617261594384922), (1485, 0.01159163321263585), (39, 0.011591617158362884), (2793, 0.011578349390107738), (4001, 0.011563698064189838), (785, 0.01155111855086324), (1129, 0.011548639071576688), (2256, 0.011544034575533465), (506, 0.011541564907429858), (135, 0.01153436772904296), (1963, 0.01152301054405214), (1517, 0.011493586894610691), (3518, 0.011490835873005825), (259, 0.011478257005642444), (3211, 0.011473655970734024), (3409, 0.011464268504346368), (4582, 0.011460620127683313), (1978, 0.011451340413091904), (4044, 0.011438941067182714), (2542, 0.01141562527216608), (3247, 0.011402385125818152), (3073, 0.011390154340505837), (530, 0.01137383741230387), (2498, 0.011371487068161053), (1459, 0.011363493351690464), (2738, 0.011357406862542684), (1061, 0.011349849193499961), (4594, 0.011335982719372233), (3830, 0.011319507413772781), (4652, 0.011303333871826058), (1968, 0.011302272044738128), (3454, 0.011292812497009148), (2720, 0.011279744012373555), (2763, 0.011274424451207408), (4477, 0.011243828739796567), (82, 0.011222022951435541), (3082, 0.011213002122846668), (328, 0.011212325863808888), (4682, 0.011202152128445414), (228, 0.011199893661215652), (2062, 0.011178572483534845), (3450, 0.011177636872600066), (4002, 0.011177138150728265), (4203, 0.011155997480836326), (1113, 0.011144833048434805), (2841, 0.01114384789156756), (1249, 0.01113914141901689), (3421, 0.011132825174700134), (1492, 0.011118960573205206), (1699, 0.01111643091839788), (99, 0.011111991076683977), (3364, 0.011110559072386325), (448, 0.011108912774522115), (1863, 0.01109652439418473), (2167, 0.01109372553827172), (508, 0.011066458696412226), (2680, 0.011066356809328728), (2560, 0.011046144759908939), (1825, 0.011043455443443345), (614, 0.011042671321390111), (3970, 0.011041756243307893), (847, 0.011036697939461552), (1412, 0.01098861329060135), (780, 0.010986513168569871), (2962, 0.010986207247109003), (1755, 0.010985958673762147), (2352, 0.010980780621569063), (3661, 0.01097675690951816), (1630, 0.010954394348215738), (2638, 0.01093557535203285), (1787, 0.010935150346080455), (3960, 0.010911342702613968), (1887, 0.010907002168594502), (3645, 0.010900920088185244), (2523, 0.010895384760653397), (683, 0.010878097936614711), (1307, 0.01086456356547762), (2160, 0.010863716144357393), (737, 0.010855640141508725), (3823, 0.010854990000417293), (1451, 0.010852787530374407), (1496, 0.010848788516504379), (1349, 0.010844595119125479), (3587, 0.010842030140579925), (2215, 0.01083652280956085), (3822, 0.010806915711837175), (1716, 0.010794182465098728), (2168, 0.010788840974490527), (4328, 0.010785304454387398), (1746, 0.010774896204743579), (2071, 0.01074053636560342), (2840, 0.010734760552316779), (1474, 0.010733818387897012), (568, 0.010707857543006), (2854, 0.01068938670414848), (1823, 0.010681904812479192), (1458, 0.010670949285959876), (4531, 0.010666771299473694), (540, 0.01066343604260908), (1354, 0.01065037052829545), (306, 0.010637338344676006), (2112, 0.010623301689567866), (48, 0.010616665811848572), (1987, 0.010597787236851411), (2877, 0.010584943933436721), (1270, 0.01058430218614048), (4297, 0.010579806476831441), (338, 0.010533403769328318), (123, 0.010530600370595725), (675, 0.010496629761513963), (2064, 0.010490758967667943), (2037, 0.010489457378528712), (159, 0.010483885857070094), (3516, 0.01046811586645351), (170, 0.010460879318772895), (3825, 0.010424129234226242), (4541, 0.010420634137272995), (4290, 0.010420389301964091), (2058, 0.010418835760136604), (4055, 0.01041355271502706), (898, 0.010400679642064018), (3271, 0.010400083386757677), (1344, 0.010396090216876423), (1883, 0.010395073390677393), (2005, 0.01038158921123722), (2494, 0.010377403753913201), (1296, 0.010362641416027192), (3397, 0.010361412923466365), (1817, 0.01036122363872775), (1907, 0.010360678562189946), (3633, 0.010340310166304576), (1798, 0.010333209773496513), (4269, 0.010324477929144368), (1095, 0.010317954855624423), (1537, 0.010305220261389265), (2725, 0.010294019544995281), (3201, 0.010291118170394109), (76, 0.010287991371651041), (2964, 0.010285729601111883), (2712, 0.01028425411879489), (12, 0.010278847514371522), (2609, 0.010266678879125026), (3218, 0.010262330294595227), (1619, 0.010257686499795644), (3678, 0.010240593426332885), (680, 0.010236564160113329), (1951, 0.010212407881200324), (1896, 0.01021124145587311), (1687, 0.010205592774291889), (3618, 0.01020295406774768), (2755, 0.010178147546476342), (4596, 0.010176056409843252), (2610, 0.010172443988028749), (3264, 0.010163716386634136), (1893, 0.010152334202915492), (3654, 0.010123269773018783), (3914, 0.010106545577250381), (2633, 0.01010531410837422), (211, 0.010061218629389839), (862, 0.010058527182056225), (1660, 0.010057195027529373), (1006, 0.010056360006019421), (4448, 0.010052425655647745), (3599, 0.010050384137326552), (890, 0.010038956812339676), (717, 0.01003798117335188), (2531, 0.010031700868726316), (4136, 0.010027469151244982), (2546, 0.010020512060228852), (762, 0.010007718949749765), (1048, 0.010002710079236626), (1364, 0.009995006754188813), (2016, 0.009992722270748535), (216, 0.00998901466019583), (3536, 0.009987592475483307), (2072, 0.009983739191445344), (3920, 0.009970395973637119), (3689, 0.00995639161195977), (2324, 0.009941470754044212), (2053, 0.009937867001676), (2126, 0.009926975401278577), (472, 0.009909875963315183), (2334, 0.009907605185293863), (3233, 0.009902670373218563), (631, 0.00989718669540219), (2977, 0.009856008566523335), (177, 0.009842783036583355), (3667, 0.009839251901994521), (3752, 0.009808943825631949), (288, 0.009805369562136379), (3392, 0.0098039757068452), (832, 0.009787526982200376), (2210, 0.009787001347159058), (2045, 0.009782675700779854), (4068, 0.009779291358547808), (353, 0.009776451415017758), (4135, 0.009762532173616572), (2277, 0.009757810943972347), (3739, 0.009732412811278145), (1985, 0.009726886774159027), (2193, 0.00971416726865721), (1574, 0.009713963714327627), (209, 0.009713251929035459), (4503, 0.009708209552471633), (343, 0.009707692314413686), (2109, 0.009703339375087742), (1957, 0.009700099662136396), (897, 0.009699326915748045), (3806, 0.00968850631457441), (4686, 0.009684770497877103), (504, 0.00968425896447413), (155, 0.009682943605089487), (1214, 0.009681686923282652), (4604, 0.009678086952349773), (3125, 0.009673643676210195), (3491, 0.009663948761333158), (3564, 0.009663505338426692), (1170, 0.009636952698579344), (4330, 0.009631511516678886), (3612, 0.009629825801930673), (3492, 0.00961431746461533), (3665, 0.009603266173793869), (2195, 0.0096008448619011), (3174, 0.009600478258124552), (79, 0.009596166379849882), (3330, 0.009593402839668783), (1678, 0.009571738848187641), (4394, 0.00955223231944834), (3477, 0.009545344644660397), (894, 0.00953582060969833), (2318, 0.009533463813961952), (348, 0.009529179118524883), (538, 0.009524494923415531), (2463, 0.009520789993987033), (738, 0.009512216789595565), (3237, 0.009507949203701016), (2665, 0.009507506227424306), (243, 0.009504620487997086), (1338, 0.009468119005728881), (319, 0.00946073628099136), (2388, 0.009460558094193385), (169, 0.009457865701932952), (4284, 0.009445238695276257), (2910, 0.009418666907243817), (870, 0.009412854977969308), (3447, 0.009406517446939752), (1617, 0.009398138388049305), (3412, 0.009388494127042906), (1653, 0.009387425112331519), (2698, 0.009379098568141541), (1422, 0.009372809030908574), (1035, 0.009351856077322526), (292, 0.009347442323292364), (4442, 0.009337274702117263), (4726, 0.009335141318005613), (789, 0.009318154112166993), (4472, 0.009305521663279043), (2268, 0.009297081748491622), (3641, 0.009297078683786021), (2027, 0.009293389143726597), (1453, 0.00929034613285587), (1969, 0.009290078175914951), (1421, 0.009280343437816412), (1597, 0.00927318437495299), (2671, 0.00926118095766072), (3917, 0.009260254029621124), (3826, 0.009254724738495), (782, 0.009244931724136742), (18, 0.009231281288454319), (1446, 0.009225143639983224), (3504, 0.009220761851454918), (854, 0.009187200364823227), (1877, 0.009186129014635622), (356, 0.009182461581962752), (3151, 0.009170058968005976), (2022, 0.009157299854626525), (2706, 0.009152035062018983), (767, 0.00913190586396361), (2859, 0.009126787265984839), (3293, 0.009111822295991619), (4124, 0.00910900588245095), (1404, 0.00910693096291856), (1742, 0.009102392469555194), (4739, 0.009094582417595306), (3819, 0.009089442981944137), (966, 0.009089331803585433), (2303, 0.009079305947597014), (387, 0.009079189542516911), (4635, 0.009077820118147452), (4007, 0.009074934147480876), (2812, 0.009072446671622108), (4257, 0.009068672232798846), (2525, 0.009065012282967473), (507, 0.009039275759360445), (1793, 0.009022862365202926), (1620, 0.009001624581058775), (4634, 0.008984643632180208), (1555, 0.008961901036264142), (410, 0.008956702898086144), (866, 0.00894954894025924), (2446, 0.008941403180141114), (3342, 0.008939580639421255), (2818, 0.008937638484553208), (1642, 0.008909841007683945), (2317, 0.008907912722704938), (744, 0.008903260992642884), (3854, 0.008902469373541316), (4402, 0.008901713422140573), (1418, 0.008875667694342192), (899, 0.008874264390636507), (2482, 0.008873661402577997), (1114, 0.008867071175320079), (4174, 0.008860838657015925), (907, 0.008853069035769932), (1875, 0.008840446528549317), (775, 0.008833925725901628), (1308, 0.008832384933655322), (3306, 0.008825853442009427), (202, 0.008824649324075031), (416, 0.008821925434853965), (3284, 0.008817046590488327), (2920, 0.008808357644833899), (957, 0.008790661525395652), (2954, 0.008790336903446567), (1360, 0.008768540893307208), (2555, 0.008763849661826514), (2055, 0.008725290323369255), (3311, 0.008708529376152727), (1000, 0.008659053838694575), (3108, 0.008641040064364308), (885, 0.008635138420759194), (1808, 0.008634357770921903), (3841, 0.00863354714059255), (3144, 0.00859773627300191), (1539, 0.00858449409316904), (2587, 0.008543514737886448), (3526, 0.00851422594151322), (484, 0.008509178123052394), (184, 0.008477680769220949), (1186, 0.008453447434144383), (97, 0.008449037677194519), (3894, 0.008443417938848365), (1301, 0.008411010488120216), (2547, 0.008405649183663025), (4473, 0.00838486607786623), (2614, 0.008368666596484966), (844, 0.00830736818669552), (1828, 0.008307214520000437), (3145, 0.00829311298434238), (336, 0.008281656911383996), (3393, 0.00828020098024539), (3668, 0.008252859431176322), (60, 0.00823602601393311), (2070, 0.008234910313656816), (1565, 0.00822929522352812), (553, 0.008212015774291684), (1743, 0.008195257048943184), (1352, 0.008178074545684724), (3855, 0.008169202261259095), (1845, 0.008141920903699192), (1312, 0.008124807214279352), (2076, 0.008119981114829783), (3981, 0.008099118682564571), (2603, 0.008086111112914476), (1548, 0.008080465484246251), (2900, 0.008080205529803233), (2211, 0.008067335061470355), (3578, 0.008057410261448798), (3928, 0.008042191983211731), (948, 0.00803786282353763), (2969, 0.007985195302368905), (442, 0.007983120863716945), (2581, 0.007977312015356265), (3325, 0.007972461794118748), (2563, 0.007962667382080357), (3957, 0.007935748196220676), (4271, 0.007899299173086644), (2363, 0.007889195370768907), (1369, 0.007880154348097645), (2526, 0.007877770503960817), (1669, 0.007855007528792058), (644, 0.007850631944390347), (2730, 0.007843844848636945), (3057, 0.007765374363636629), (3399, 0.00776287422225457), (3448, 0.007754501870270934), (3410, 0.007750267126848363), (3502, 0.007727266115440074), (368, 0.007663223842433654), (4524, 0.0076185607021722794), (1343, 0.007589442271405723), (153, 0.007503719511942786), (4449, 0.007491149887843511), (3384, 0.007484982144019046), (2032, 0.007481520352848096), (491, 0.0074638585703669606), (853, 0.007444371700882798), (3172, 0.007434705543646497), (3986, 0.007419427487277039), (3312, 0.007415507406965275), (3316, 0.007406398110715896), (3626, 0.007387199580341876), (1758, 0.00738284610981561), (1321, 0.007348031257345635), (225, 0.007342829835974222), (1381, 0.007326759534125467), (495, 0.007325423476768392), (3858, 0.007321456964413882), (2785, 0.007310098731127427), (562, 0.007304612698931012), (2486, 0.007289636113951336), (2079, 0.007288518111864417), (2678, 0.007269389515157026), (4121, 0.0072617870461808495), (3552, 0.007259551254762254), (424, 0.007257645727683985), (2873, 0.0072516519307439), (2339, 0.007251628297591441), (681, 0.007228528127020736), (3039, 0.007224972746450927), (3983, 0.0072133340264888095), (2470, 0.007211135247677822), (1011, 0.007210647248369247), (2518, 0.007209864377774446), (2532, 0.007208026604718306), (666, 0.007184732186235559), (3546, 0.007183605160558316), (2672, 0.007156415325434435), (3137, 0.007154973399424977), (4108, 0.0071443938070410735), (3221, 0.007141226777537349), (747, 0.007118537517699368), (4120, 0.007117052954194834), (4515, 0.007104937309267486), (3817, 0.007102649974260819), (2218, 0.007098325028913275), (4571, 0.007093196665999506), (4064, 0.007083078380540659), (4549, 0.00708304995360063), (3579, 0.007072504598286238), (3178, 0.00705772021674754), (1215, 0.007039183730987877), (3444, 0.0070381886310984815), (4077, 0.007035396898098313), (2933, 0.007035015829901639), (1486, 0.0070317381005233935), (547, 0.007020044118687097), (4091, 0.00701579279523255), (3323, 0.007015516290114535), (1681, 0.00701001554380066), (2233, 0.007006980229949125), (3831, 0.0070018082360595625), (1583, 0.0069952758481952385), (4240, 0.006970376021310517), (2127, 0.006966902914485803), (2458, 0.006958307867906864), (1056, 0.0069471321923430425), (1511, 0.006933512889134587), (704, 0.006904147900655511), (1246, 0.006897962287967726), (1640, 0.006896414159254368), (4659, 0.006890412295695229), (1150, 0.0068869914544426765), (4436, 0.006885295973316528), (4076, 0.006878830688042911), (1952, 0.006875773634947282), (232, 0.006874794456607679), (3586, 0.006871785656974128), (420, 0.0068664827471761215), (4492, 0.006859206406131964), (2263, 0.0068530427538057975), (4351, 0.006847510838491223), (3512, 0.0068456167365208015), (2757, 0.00683297889282731), (3131, 0.006831384872168075), (1282, 0.006826353868007903), (2963, 0.006817717076090616), (2817, 0.006808713878106583), (3457, 0.006807346390755378), (3461, 0.006806300854192511), (10, 0.006804655883383042), (2086, 0.006800694826371653), (603, 0.006791591784716709), (1031, 0.006789043299541955), (392, 0.006782728725541301), (361, 0.006778123829268727), (2719, 0.006776291173814489), (239, 0.006772900245852679), (3724, 0.00677054438138377), (3897, 0.006770026774049939), (3464, 0.006767323471891222), (1426, 0.006765041865096327), (4613, 0.00675963503896922), (2330, 0.006751218876536121), (765, 0.006748437324268031), (3103, 0.006746468527699031), (1859, 0.006739647236511287), (3276, 0.0067393113062729475), (1380, 0.006734263581147839), (654, 0.006730021180613929), (4555, 0.006728645442054312), (1185, 0.006727341664341883), (891, 0.006726205021208301), (1104, 0.006720919640553373), (600, 0.006718967511732449), (599, 0.0067176956552267705), (3969, 0.0067080895908798), (1336, 0.0067046721016110035), (2998, 0.006702439892775136), (1718, 0.0066931075586194756), (1881, 0.006678775124922544), (3870, 0.006675641460201264), (4621, 0.006672588038285632), (2015, 0.006667649108262728), (928, 0.006663555007757302), (3378, 0.006663225936879146), (201, 0.0066621462356978006), (3925, 0.006645490849028522), (1144, 0.006644770575590508), (2691, 0.006643344497170184), (2241, 0.006640242064219669), (2259, 0.006638213460211664), (1702, 0.0066368202683321845), (1155, 0.006623175721373486), (3507, 0.006619506221653449), (3930, 0.0066108259466026945), (918, 0.006608589292436657), (2816, 0.006607091133551348), (3549, 0.006603896429796779), (2222, 0.006595653736316615), (1636, 0.006579220060608739), (1961, 0.006578289639198578), (137, 0.006574277330354595), (971, 0.00657270865725962), (2431, 0.006572030322832517), (778, 0.006571515092609623), (4388, 0.006566669880585085), (3722, 0.006565418253710278), (1726, 0.006552659437998817), (1525, 0.006547148975093136), (4376, 0.006546854677193127), (1564, 0.0065399200845822755), (1431, 0.006538750300394261), (110, 0.006526244334327717), (908, 0.006523480352855892), (1266, 0.006514728826365365), (2444, 0.006513577279555806), (1704, 0.0065092731481561335), (3810, 0.006506857791810849), (2421, 0.006506202800091083), (2788, 0.006500979272042922), (1322, 0.0065003987226996025), (1587, 0.006500037108578773), (919, 0.0064893053020218874), (4607, 0.0064836046339943835), (2529, 0.0064812982821428), (2278, 0.006478253142266081), (2487, 0.0064715849523775335), (83, 0.006471103327220554), (945, 0.0064658973000190755), (1751, 0.006460733576219295), (1461, 0.006457139942878388), (2379, 0.006443780578163704), (1577, 0.006441485805390938), (2490, 0.006435432522725311), (3199, 0.006432252434392782), (529, 0.006430891180311021), (736, 0.006429989069668473), (4755, 0.006424466975137209), (1908, 0.0064197017448696155), (2937, 0.006411574845541425), (347, 0.006407552795791567), (1804, 0.006405162521974501), (3523, 0.0064007262457124875), (2198, 0.00639792175812403), (3926, 0.006396018452581708), (264, 0.006394548089678012), (1297, 0.006391110682859374), (1374, 0.006390412725825027), (272, 0.0063838949560854575), (4705, 0.006383874873969032), (3033, 0.006382153854366231), (931, 0.006381515320727189), (3343, 0.006379671304427337), (305, 0.006379578208231541), (2046, 0.006377850000074591), (1501, 0.006377825618848747), (3955, 0.006372586352739729), (3051, 0.006369154539748243), (1262, 0.006368766433029405), (4592, 0.006366016230948586), (2764, 0.006361376782488943), (3594, 0.006360568648140906), (1022, 0.006356626825749315), (525, 0.006351617720336569), (439, 0.006348261391039513), (2768, 0.006347125777033483), (3672, 0.006344838419935434), (3270, 0.006344292598854738), (1238, 0.006342285406741161), (3818, 0.006332800587960931), (65, 0.006332593892754022), (2503, 0.00633236837220225), (2858, 0.006328912759229377), (2137, 0.006328560249650387), (1692, 0.006318315407004166), (4241, 0.00631555602572057), (1986, 0.006315468475678588), (4082, 0.006307846477897645), (1447, 0.006298648385534181), (1857, 0.006286648354826758), (3644, 0.006279467097990829), (2722, 0.006268430514521694), (2189, 0.006268014222237729), (2329, 0.006263648380048547), (4157, 0.0062578609815715485), (2713, 0.006255932272235278), (150, 0.006251160998835242), (4218, 0.006246459742258803), (4202, 0.006243732206539279), (3040, 0.006235858520551311), (618, 0.006234294336760714), (4112, 0.006233271207796826), (3709, 0.00622422566740503), (2989, 0.006222021905757203), (2322, 0.006220558220140366), (2251, 0.006212916573245674), (3994, 0.0062058187098489774), (72, 0.006193348323465805), (790, 0.006189499565550743), (2349, 0.006182705060191266), (1145, 0.006174772062611986), (1146, 0.006174630442072501), (1267, 0.006173479141483987), (2407, 0.006172543180123476), (2245, 0.006168035337250578), (3990, 0.006163537861361726), (3720, 0.006162659925066713), (1368, 0.006161477457206696), (261, 0.006161279224472973), (2432, 0.006155492539333609), (2056, 0.006153812924427009), (3998, 0.0061523309790378865), (3562, 0.0061511237558206505), (223, 0.0061494510592622455), (521, 0.006148786983195289), (2889, 0.006147118976072306), (585, 0.006143288951023342), (486, 0.00613265422804502), (3053, 0.006128319688431215), (2537, 0.006125736443728134), (3568, 0.0061244505517144), (1632, 0.006122864973750889), (4438, 0.006122440116071251), (3119, 0.006121899292669474), (3567, 0.006118428494182502), (2829, 0.006118353950430587), (4617, 0.006107379911638293), (4279, 0.006106868830496671), (1526, 0.006102579706362816), (4481, 0.006101553276431027), (4704, 0.006100414855882103), (2897, 0.006099783283836165), (3052, 0.0060994052772869135), (735, 0.00609764764211798), (1218, 0.006092226577645781), (284, 0.00609028181174761), (498, 0.006088155659274505), (3055, 0.006076451694164776), (2404, 0.006073760372373479), (4441, 0.006066405143423785), (3465, 0.006065785921140208), (1274, 0.006064790777641714), (2631, 0.006064581251579217), (2775, 0.006062264291897032), (45, 0.006062109235769039), (171, 0.006061926288868586), (3042, 0.006060299292188209), (4017, 0.006059817190535394), (260, 0.0060571804414683164), (3712, 0.006054024924962084), (2870, 0.006053616765970998), (3561, 0.006053530835143534), (1988, 0.006051729700196377), (3891, 0.006047618249383249), (627, 0.006046761502163003), (3361, 0.00604525351828004), (2883, 0.006043006349091579), (3635, 0.006037514789616423), (4012, 0.006027170097823772), (947, 0.006023798882748167), (1756, 0.00602218556460457), (1824, 0.006002904168041577), (1914, 0.006001881411553965), (3291, 0.0060010537536841916), (3193, 0.0059990218578306114), (3566, 0.005998756197290303), (3320, 0.005998035135237665), (1723, 0.00599507929863595), (2731, 0.00599428898000283), (2139, 0.005993664369099808), (4749, 0.005993070438431241), (661, 0.005990824891291586), (4222, 0.005989094005108716), (548, 0.005988644988197615), (4529, 0.0059875445112476475), (4548, 0.005986448394234699), (2938, 0.005978475807349891), (2310, 0.005970744147293448), (4221, 0.005970624045113736), (492, 0.0059624282017108204), (2682, 0.005958307456362257), (3966, 0.005956035338402623), (2992, 0.005954569473737159), (2327, 0.005954192296753156), (4611, 0.005952420507409457), (1662, 0.005952077936821036), (2694, 0.005948589759521562), (1778, 0.005948370120988904), (3939, 0.005947831713717836), (4752, 0.005947246360148161), (3280, 0.005945683745946622), (690, 0.005941801241223331), (2874, 0.005927157724995138), (454, 0.00592703088508759), (3718, 0.005921840576236766), (2861, 0.005919277747765677), (2655, 0.005918140582536426), (916, 0.005917497423668879), (293, 0.005911644880907636), (9, 0.005909887696105421), (3321, 0.005908933462537138), (978, 0.005906995256287254), (2932, 0.00590448951239667), (4172, 0.005903844051945224), (2491, 0.005888066907646458), (3365, 0.005871528609636978), (2559, 0.005870643956217917), (1984, 0.005869719837558906), (3878, 0.0058695422520300316), (4418, 0.0058652501499947395), (94, 0.005864710909039511), (2832, 0.005860761055179918), (2075, 0.005851621934029999), (80, 0.005851605248000035), (4696, 0.0058506507151952465), (821, 0.005848844352584791), (2628, 0.005846202901080212), (3076, 0.005844583115361344), (4600, 0.005844403348438451), (14, 0.005843866962562791), (1794, 0.005843706676032715), (4407, 0.005841484212076226), (4339, 0.005833737905979514), (2392, 0.0058310303432896815), (3292, 0.005829861369851261), (776, 0.005828885949457743), (1568, 0.005827929061141933), (3762, 0.005818156774721617), (511, 0.005816310118198506), (2199, 0.005813373609093946), (2749, 0.005812257306422059), (1288, 0.005810748468932811), (352, 0.005804458417999292), (3459, 0.005803048192492305), (1935, 0.005796943539370965), (337, 0.005796409565718587), (4423, 0.005791110422895408), (583, 0.005789619360945865), (4019, 0.005789326619708364), (2425, 0.005788041093026946), (1626, 0.005786737328351406), (4109, 0.0057787079867058), (2643, 0.0057758603112119545), (4546, 0.0057727410794366895), (1809, 0.00577171197919849), (2255, 0.005761882134112259), (1816, 0.005756922225241781), (2262, 0.005753600971729792), (2257, 0.005749910064324076), (3322, 0.0057478153188752976), (889, 0.005747613102758585), (3262, 0.005746457331720255), (2350, 0.005738821629118698), (2514, 0.00573770250450623), (2901, 0.005733982703185374), (327, 0.005729233626431614), (664, 0.005724765590076769), (4230, 0.005722378344216838), (2154, 0.005720546584639492), (577, 0.005719864370074356), (3231, 0.005719025332105851), (4142, 0.005709883095079655), (2286, 0.005707452911755586), (2929, 0.005695964248327974), (4400, 0.0056932615631279685), (1025, 0.00569120796957988), (2156, 0.005686958317122924), (1994, 0.005682472770379331), (4102, 0.0056706129435996015), (3848, 0.0056661291434939864), (4450, 0.005661384613573965), (1468, 0.005660938446078476), (3015, 0.00565945496062875), (91, 0.005653975500092736), (3598, 0.005653512951503889), (2306, 0.005650544049360743), (3828, 0.005648336729422936), (4710, 0.0056453278349949815), (820, 0.005641748884958949), (2795, 0.005640185272250793), (3239, 0.005630815506428742), (3128, 0.0056298859741723386), (2423, 0.00562849404694377), (3354, 0.005622988382959865), (3140, 0.005620687135970003), (526, 0.005616170798030879), (3411, 0.005603264243824227), (2608, 0.005593783991227376), (3249, 0.005585983452541708), (1194, 0.0055837195901303985), (1482, 0.005582425178326662), (4469, 0.005580290640283303), (3687, 0.00557839261124712), (4692, 0.005575102532100723), (4521, 0.005574716357731376), (4544, 0.0055715851542463), (3363, 0.005570141086137313), (3852, 0.005564817793181664), (3357, 0.005551639718702446), (4353, 0.00554633357790926), (3684, 0.005542702681671828), (3537, 0.005539769684758273), (2557, 0.005539236508123761), (2438, 0.005532189968216351), (3159, 0.005527742872667113), (3748, 0.005525892043031395), (4306, 0.005521818843346785), (1521, 0.005515944233587975), (4107, 0.0055149845934754395), (3922, 0.00551357980301592), (2857, 0.005513192980429664), (3613, 0.005508942060759541), (4724, 0.00550569802384324), (3521, 0.005502338335044675), (2266, 0.005499711346294794), (3999, 0.005499497968561676), (234, 0.005496713833645829), (4151, 0.005489421796749711), (4572, 0.005481561456815092), (2, 0.005480087739968026), (3074, 0.005479772198673943), (4209, 0.00547307774596151), (2291, 0.005471720161843969), (4443, 0.005471435345131914), (3776, 0.005469830758855624), (326, 0.005469783936236287), (2797, 0.005466829527058498), (2957, 0.005464191076871383), (3874, 0.005461692084336927), (2488, 0.005458450218137471), (3031, 0.005455967497480414), (3832, 0.005452568123591066), (3123, 0.005447946953243345), (3731, 0.005446629964540433), (402, 0.005444852022129999), (3302, 0.005441941751625417), (2879, 0.005439430898839533), (3620, 0.005438752973728353), (4147, 0.0054384719106314395), (3544, 0.005436806954052127), (1655, 0.005433074749014281), (2966, 0.005429647022835094), (1178, 0.005425520803161912), (3358, 0.005422455756585816), (3020, 0.005422243142211042), (2415, 0.005419744691983651), (2855, 0.005416114617503122), (1593, 0.005412813681665468), (1064, 0.00541129053024499), (3164, 0.00540857334455541), (3206, 0.0054040371966033625), (1010, 0.005401872362148206), (2778, 0.005400768722741501), (1910, 0.0053955511092336), (3674, 0.0053912479265432415), (2993, 0.005387318984629425), (3901, 0.005386614607395999), (3257, 0.00538193172220023), (1264, 0.0053802580075287335), (1279, 0.00537728550692397), (1429, 0.005369560104684822), (78, 0.005368652525422754), (777, 0.005368277002387), (2296, 0.005367114597674241), (3413, 0.005364848983824847), (2895, 0.0053463468143604975), (489, 0.0053431347455345024), (2434, 0.0053397063490183555), (3911, 0.0053371859691895085), (3766, 0.005326550798260975), (3675, 0.0053243725707752135), (3484, 0.005311488376127667), (4554, 0.0053094584392840505), (2789, 0.005308879740898792), (4637, 0.005300099811832468), (4490, 0.005297082387131609), (1049, 0.005296398348547209), (4280, 0.005293568585267438), (2772, 0.0052910703194617), (4735, 0.0052855227965129545), (4023, 0.0052748844525292715), (4717, 0.005274157347643875), (431, 0.0052676517037735186), (4632, 0.005265953677753707), (3935, 0.0052633060816034884), (2613, 0.005262117279827531), (4416, 0.005257720999816558), (2570, 0.005257317589283506), (3081, 0.005256675610643413), (3621, 0.0052559828217671415), (1053, 0.005253691661830613), (1792, 0.005249140737220514), (2089, 0.0052485622905469615), (4694, 0.0052482358026603795), (1187, 0.005247938686288254), (4145, 0.00524691429222317), (2406, 0.005246677125375443), (518, 0.0052427591819443915), (2707, 0.005242379673769433), (1169, 0.005233949328625705), (1885, 0.005233643441718216), (4412, 0.005232382631022348), (1530, 0.005230535386611296), (2417, 0.0052298636739589845), (1748, 0.005229607831645452), (4030, 0.005228136285500027), (2846, 0.005226526863014215), (937, 0.0052185976637949705), (381, 0.0052165674096351766), (4075, 0.0052119592399140074), (3540, 0.005209751128721525), (2142, 0.005209499131890833), (3019, 0.005199863696150546), (3359, 0.0051982801574210384), (4126, 0.005197704520618368), (3884, 0.005197030808942755), (2696, 0.00519244120941198), (3072, 0.005191577370787273), (1947, 0.005185330127269318), (3754, 0.005180211646718358), (4163, 0.005178713135699224), (3729, 0.00517660671543949), (3425, 0.005175643375753404), (860, 0.005175395089201734), (1695, 0.005169625117148862), (2987, 0.005156759819972115), (2884, 0.005156410574232738), (3337, 0.005154013466574485), (3396, 0.005152243108894163), (3506, 0.0051518152735239445), (611, 0.005151418646724291), (823, 0.005148688361140746), (3944, 0.00514850434670341), (2872, 0.005141745651092836), (1395, 0.00514118573551842), (3355, 0.0051389441509058845), (925, 0.00513611476114742), (3165, 0.005130513070906696), (2478, 0.005127809905972185), (2187, 0.005126561360649458), (1656, 0.005121209226068711), (721, 0.005118074128713391), (4244, 0.005117324804000019), (2796, 0.005111912681833881), (3423, 0.005111100728136235), (985, 0.005109769628821571), (2702, 0.005105323242460693), (4295, 0.005099998506408988), (4117, 0.0050990454221589935), (1497, 0.0050979199342511584), (1184, 0.005095993558318935), (4753, 0.005093493241113591), (3883, 0.005091740933501754), (2078, 0.0050796774659821915), (2223, 0.0050789113748270455), (2346, 0.005078836581009017), (2734, 0.005076466528441034), (3867, 0.005074437385760837), (2302, 0.0050736321781405195), (2437, 0.005070172186485218), (4187, 0.005068450355874468), (1843, 0.005066435198277717), (107, 0.005066259919152961), (2893, 0.005065588863428555), (3186, 0.005064891976698375), (998, 0.005063854316920028), (999, 0.0050597157809791704), (2881, 0.00505909294537626), (2411, 0.005058078883015601), (3148, 0.005057532687908569), (2623, 0.005056904669577393), (2936, 0.005056609389607697), (478, 0.005055434023673708), (4092, 0.005055064366175406), (668, 0.005053247616090049), (2400, 0.005052383303535465), (2914, 0.0050518167023329685), (3680, 0.005051242083345257), (3992, 0.005049334837295099), (4494, 0.0050463497308748315), (281, 0.005042738205144328), (1383, 0.005042611841325935), (235, 0.005041881932302145), (3013, 0.005039090353269292), (576, 0.005035542012561244), (419, 0.005030984110253636), (3373, 0.005027672529079347), (4333, 0.005026460286101899), (533, 0.0050242278975768705), (1023, 0.005021194895076362), (1489, 0.005019391751818311), (3560, 0.005019071103938654), (3962, 0.00501688426087986), (2974, 0.0050152269203961415), (922, 0.005011679452082636), (4718, 0.005009879918962768), (3196, 0.005009072055999783), (596, 0.005005058379370972), (2916, 0.005003541056018007), (1862, 0.00500286336192205), (1499, 0.005000482318248366), (3032, 0.005000036809616916), (4396, 0.004997759884651091), (2134, 0.00499653730245263), (308, 0.00499515929949923), (2356, 0.004993626398659968), (4401, 0.0049912084350931), (4293, 0.004990094936441791), (3737, 0.004987983095934479), (3593, 0.004986544132111239), (458, 0.004984481848780136), (3804, 0.004983019154941094), (3640, 0.004981774428413662), (3273, 0.004973162247263003), (2209, 0.004973128385674291), (2782, 0.004972552722000352), (3157, 0.004972055898051801), (4397, 0.004971492993143631), (41, 0.00497057307970397), (1498, 0.004966275058587823), (4706, 0.004962850934286958), (3003, 0.004962328549207079), (2505, 0.004960974974239136), (2108, 0.004958096853819682), (1890, 0.004956698428211041), (4138, 0.004951426072993501), (888, 0.004950891713105951), (2592, 0.004945340606689328), (421, 0.004939789346235287), (3967, 0.00493817926300889), (3026, 0.004935401561517569), (2040, 0.004935079664646673), (4042, 0.0049338232337025004), (857, 0.004932925890505607), (2159, 0.00493110948823371), (2428, 0.00492985270482806), (715, 0.00492940352367254), (1580, 0.004929270098866953), (2890, 0.004929236754671449), (4619, 0.004928701761327268), (3097, 0.004925763937827189), (2049, 0.004924733851374447), (1754, 0.004920921303554704), (3417, 0.004919998573581688), (587, 0.004912992879011445), (3116, 0.0049088280980967534), (476, 0.004903594627512868), (4446, 0.004900370399515397), (2464, 0.00489925158381513), (4046, 0.004897187278942989), (2390, 0.004897104069425734), (3183, 0.004891729873819648), (4048, 0.004890353101215809), (369, 0.004889741712579185), (4601, 0.004889518152816397), (253, 0.004884062571427364), (3714, 0.004882745097500968), (4130, 0.0048825692639569915), (2229, 0.00488188139887538), (318, 0.004881850273846312), (3497, 0.0048811600803827255), (896, 0.004880040920005396), (1866, 0.004877792516352996), (673, 0.004874979109544526), (3813, 0.004874135121506841), (4133, 0.00487094806634785), (3749, 0.0048706967356496435), (4116, 0.004870363562227435), (3044, 0.004869414396698347), (2293, 0.004869307790529712), (4522, 0.004868209277530418), (1805, 0.004867094899805726), (350, 0.00486323722969282), (499, 0.004861483152872894), (2097, 0.004861297855036521), (3064, 0.004860826994585688), (2915, 0.004857932998937466), (2214, 0.004857067050464559), (4087, 0.0048561861662309615), (2882, 0.004855598130317105), (2507, 0.004852701583926163), (8, 0.004851439771796284), (3642, 0.004844212634952405), (1897, 0.004843533941394671), (4722, 0.00484291774472707), (1325, 0.004841916224446811), (4414, 0.004840768757663229), (2888, 0.004839033067938095), (2705, 0.004837005434399267), (3694, 0.0048345483073828355), (4545, 0.004834219651314831), (3269, 0.004832229700854779), (952, 0.0048290091164418965), (1015, 0.004828936928753165), (1874, 0.004827776003564632), (3704, 0.004827513866807595), (3893, 0.004825934972504312), (4024, 0.004824145927825795), (2398, 0.0048223863315661536), (2116, 0.004821399584113928), (3757, 0.004818858405275003), (3356, 0.004817500527613869), (4579, 0.004815119658658616), (210, 0.004814556233180062), (2776, 0.004811318089556951), (4132, 0.004808484883304686), (1995, 0.004808416452320917), (4373, 0.004808283784993684), (430, 0.004808214749971625), (4161, 0.004805871528426677), (4657, 0.0048045343108043355), (3112, 0.004803679029991443), (4540, 0.004800059299105543), (4245, 0.004799665400271124), (1708, 0.004798052278697434), (3095, 0.004796030576135887), (991, 0.004795272183947996), (3496, 0.004795173251318563), (2254, 0.004793796054556064), (1637, 0.004791886699147172), (2723, 0.0047910386041619315), (485, 0.004787349023145563), (3781, 0.004786472232998606), (2786, 0.004783947208827111), (4574, 0.004783202769318095), (872, 0.004782471722562905), (1683, 0.004780389571341576), (1409, 0.004779221246905609), (2260, 0.004778837624161161), (3728, 0.004777333690319795), (21, 0.004777243280791349), (3873, 0.0047768099632359345), (4680, 0.004776390588584051), (2391, 0.004776067745163176), (1712, 0.004775071738406039), (227, 0.004774249579190811), (1141, 0.004774059759618507), (4005, 0.004773455435396996), (3007, 0.0047724440061367), (1119, 0.004769572850004164), (2393, 0.004767388118305263), (4231, 0.004765408624011261), (826, 0.004764329443781342), (3601, 0.004764297384634669), (2151, 0.004762973416098607), (2664, 0.004762590980037608), (4357, 0.004761959399867914), (2096, 0.004761713656739845), (2970, 0.004761655092359357), (2522, 0.004761122701111221), (4355, 0.004759207055379738), (3987, 0.004757990537876444), (2105, 0.004757016509867724), (4175, 0.004756876714200957), (3973, 0.0047563130976729165), (246, 0.004755575243935341), (3590, 0.004745405941311967), (208, 0.004742787023962182), (2565, 0.004738968115405355), (3084, 0.004738090514239552), (4489, 0.004738014832361861), (3326, 0.004731496402415864), (3483, 0.004729985699362362), (4505, 0.004728661912859167), (1853, 0.004728614268254778), (2953, 0.00472857426267247), (2714, 0.00472794122026999), (1685, 0.004726512422097853), (193, 0.004723306396833629), (4052, 0.004721447324633307), (4318, 0.0047205905960008895), (1918, 0.004718794077787656), (1822, 0.004715830105998854), (4, 0.004713577707683866), (1225, 0.0047128027969332), (4420, 0.004710611874009871), (4566, 0.004709361410309544), (1400, 0.004709090470172223), (1916, 0.004707681582080082), (3388, 0.004706883749860578), (1075, 0.004706051599362347), (783, 0.004705997246849156), (4474, 0.004703775098519112), (1007, 0.004703024500908025), (1670, 0.004701948012097142), (51, 0.0047001962650602535), (178, 0.0046996233117679405), (1570, 0.004698210898132855), (1902, 0.004695822624960532), (4225, 0.004694555161643618), (2419, 0.004693435760406599), (3372, 0.004691805081558711), (716, 0.004684666368252389), (173, 0.004682054849190476), (1736, 0.004681059712608808), (564, 0.004680258680164449), (1439, 0.0046775396352848764), (4430, 0.004677327276741462), (4497, 0.0046771504207837634), (3437, 0.004676775157119905), (3493, 0.0046758633284006475), (2083, 0.004675197967988101), (20, 0.004672771438125544), (2926, 0.004672074831663182), (3770, 0.0046716435650816495), (580, 0.004668258688148124), (3862, 0.004666820979887701), (1229, 0.004664236618780524), (4083, 0.004664028569478311), (482, 0.004662954046665476), (3382, 0.004661614719483613), (879, 0.004660782351636165), (2561, 0.004660751286018431), (3241, 0.00466066815698716), (3845, 0.004659732134599724), (2601, 0.00465905800522766), (1475, 0.004657203092454268), (23, 0.0046554593626781686), (2545, 0.004654360956557764), (2370, 0.004654287017250219), (1513, 0.004653726305672902), (3224, 0.004651140711701138), (3902, 0.004648246615216579), (1083, 0.004648173851653024), (884, 0.004647968333636801), (4361, 0.004647896548211814), (2904, 0.004646641190747493), (2405, 0.004646405514171977), (1727, 0.004644907816753981), (2319, 0.004640969111506551), (4625, 0.004638601791798903), (2148, 0.004630484346121453), (637, 0.004626244601847348), (3517, 0.0046256626002879634), (2123, 0.004624103899244971), (584, 0.004622577480439339), (1703, 0.004622292434455556), (1765, 0.0046205321113943765), (980, 0.004617381979032961), (4422, 0.004616667247797161), (2919, 0.0046152294637519), (3198, 0.004615068093424709), (1629, 0.004611675093063516), (806, 0.004610440512138587), (4249, 0.004609500410390011), (3623, 0.004608575973860265), (120, 0.004607429069732312), (3636, 0.004603919677509025), (1717, 0.0046010146889368785), (1516, 0.004600891310075285), (2048, 0.004598182917403046), (1171, 0.004597768531981602), (3290, 0.0045975239106796914), (743, 0.004590759164277397), (176, 0.004590535959532631), (2230, 0.004588079517282722), (2466, 0.004588054549598194), (1294, 0.004586202044914814), (1334, 0.004586128086994768), (509, 0.004581514764264371), (4098, 0.00457950686593907), (71, 0.0045768151815875294), (3445, 0.004575305366375356), (1355, 0.0045749608750508715), (4273, 0.00457167350151132), (3542, 0.004570936418824319), (652, 0.004569585702987933), (3571, 0.0045683008947170626), (2386, 0.004567515406504224), (1174, 0.004567148869166599), (1931, 0.004564546803599215), (3699, 0.004563110635023683), (1176, 0.004560312221705045), (1182, 0.004558093123813771), (1740, 0.004557336242607352), (593, 0.004556741521596554), (3113, 0.004556654509719761), (238, 0.004556568412637303), (3606, 0.0045551081286346745), (2295, 0.004555061837261527), (4197, 0.0045544063379284044), (3653, 0.00455405635583353), (2073, 0.004553275588385801), (3182, 0.004550994687284292), (2292, 0.004550158047876011), (1122, 0.004548360247431822), (3707, 0.00454694465470335), (2155, 0.004545641941446264), (1942, 0.004545257391896603), (3501, 0.004541229870343229), (994, 0.004540318623853741), (1440, 0.0045365245069393725), (2313, 0.004535780973541833), (4049, 0.004534089222042291), (2374, 0.004527735997498317), (2887, 0.0045268117637550466), (1476, 0.004526246395879646), (2652, 0.00451656379483033), (4677, 0.004515519615403412), (1410, 0.00451532444378158), (4391, 0.004514926830019675), (1335, 0.00451241896326463), (636, 0.004511903755856764), (1722, 0.004511470500561139), (2122, 0.004510140020345212), (1922, 0.00450991637964279), (1706, 0.0045082772567267854), (2396, 0.004508215605038426), (4266, 0.004508128876524261), (3227, 0.004506910322492439), (3210, 0.00450643117999866), (628, 0.004504326388669063), (882, 0.004502246979424867), (1232, 0.004502057539159564), (2934, 0.0045001462029764065), (2192, 0.004499112108498065), (2606, 0.004498453242989406), (3155, 0.004498159852630149), (3436, 0.004496324985936297), (2783, 0.004496065559283318), (2067, 0.004494486852461972), (3541, 0.004494050985446437), (2533, 0.004493398776121357), (1876, 0.004493269145274175), (2284, 0.004491710737126476), (2826, 0.004491485317986531), (4435, 0.004488922572195915), (378, 0.0044867453186892845), (3341, 0.004484075963874703), (4715, 0.0044791457025248425), (1488, 0.004478959099299457), (2344, 0.004476908638726058), (1385, 0.004473245164164813), (2695, 0.004473137681136123), (2831, 0.004472759834031535), (2354, 0.004472331247627205), (114, 0.0044718770562852915), (2495, 0.004467238099481923), (226, 0.004467043917159803), (370, 0.0044642981601786475), (1378, 0.004463842443209638), (1163, 0.004459790071146814), (66, 0.0044589275254678625), (2212, 0.0044579581325815895), (2387, 0.004457927988007059), (3346, 0.0044557694459878075), (2943, 0.004451593487440865), (1021, 0.004450153540930219), (3673, 0.004449804448843402), (3216, 0.004445864061305914), (4409, 0.004441232494488472), (4060, 0.004438806099393571), (1102, 0.004434072884875161), (4000, 0.004431484307290059), (3441, 0.004430978174148528), (1313, 0.004429868965316447), (3727, 0.004429659240887484), (1891, 0.004428910651806835), (2174, 0.004428672683272674), (1438, 0.004428326592037028), (1634, 0.004428007594856384), (400, 0.004426657976751349), (1252, 0.004426410394473115), (3624, 0.004426278649222228), (1072, 0.004425027907156695), (490, 0.004424034554925626), (2060, 0.004422557889970177), (3565, 0.00442154295801049), (3596, 0.00442152152251437), (3888, 0.004420543133917779), (247, 0.004417426476022848), (466, 0.004416961350404244), (464, 0.004416092132400664), (2569, 0.004414612492364045), (3381, 0.004414343592186738), (174, 0.004412961956270155), (534, 0.004412576640726057), (1598, 0.004410262278562503), (1621, 0.004404359296094188), (880, 0.004403547784046858), (867, 0.004403123642141405), (4487, 0.0044016343809322395), (3093, 0.004400684001470617), (1546, 0.0043977839077834245), (2961, 0.0043976502276827775), (3647, 0.004395754070340256), (989, 0.004394432090997719), (1100, 0.004393772901726273), (1110, 0.004391478445604056), (3499, 0.0043890314174383025), (3827, 0.0043805030886133415), (3379, 0.0043801980988412), (1286, 0.004379936227052371), (2216, 0.00437861535010641), (1084, 0.004377880870502622), (1882, 0.004377422489599684), (2111, 0.00437632839039156), (98, 0.004375705358264086), (4362, 0.004374600102340142), (2945, 0.004373346102453946), (26, 0.004371446439087319), (2087, 0.004369763864886536), (4530, 0.004369418735884915), (3220, 0.004366714560187602), (4036, 0.004365388485398966), (4641, 0.004364450251653229), (3069, 0.0043629786975319055), (2909, 0.004360952976256266), (4743, 0.0043593724550538265), (446, 0.004358326324627015), (799, 0.00435538007467647), (3402, 0.004353736177059038), (2279, 0.0043531437790004235), (2008, 0.004348476994957055), (1096, 0.004346522126764456), (358, 0.004345217650337556), (1017, 0.004342604260984898), (1967, 0.004340396115411406), (3075, 0.00433912174252856), (1813, 0.004337524507573726), (779, 0.004337136082089073), (329, 0.004334112882735922), (4381, 0.004331339120033181), (4673, 0.004330814595127588), (1044, 0.004328058808632111), (2912, 0.004326124160494681), (1671, 0.004325577309621473), (3348, 0.004323745703363878), (817, 0.004323557470273819), (488, 0.00432147783879779), (4336, 0.004315508597346907), (4069, 0.0043154351810241205), (1247, 0.004315303526045339), (3481, 0.0043144055824325), (651, 0.004313443578481552), (87, 0.00431298063765847), (2467, 0.004310544281498636), (3660, 0.0043085545722387), (2716, 0.004303486190793335), (1864, 0.004300735339712524), (3900, 0.004296217876813392), (1020, 0.004286385750832508), (3503, 0.004284210372821236), (4670, 0.0042797525396611686), (1478, 0.004278385216959751), (2024, 0.0042783798589806615), (2752, 0.004273273303501418), (4567, 0.004270101077355103), (1416, 0.004269533291706709), (58, 0.0042658303814771415), (2779, 0.004265084903931221), (1744, 0.0042622446628996944), (3978, 0.00426153325818023), (64, 0.004261161330863126), (2540, 0.004258214981553157), (3733, 0.004255308817646656), (2121, 0.004253566241910701), (3035, 0.004253371298378762), (3691, 0.004251381800349705), (164, 0.004251354288863696), (2242, 0.004246717805580725), (1123, 0.00424622271375847), (2068, 0.004245523919511054), (505, 0.004244393357719006), (4206, 0.004243964074106953), (437, 0.004239402978229414), (4345, 0.004237982761962649), (373, 0.004234669030829019), (2572, 0.004232483149601709), (4246, 0.0042303319677352725), (2679, 0.004227821647623047), (434, 0.004227207672023285), (2651, 0.004227153105436424), (325, 0.0042220142156763), (2800, 0.00422139637923257), (1032, 0.004219960404431968), (3014, 0.004217823574501586), (3194, 0.00421711970046044), (116, 0.004216823747275426), (1036, 0.0042141063618040524), (3734, 0.004214012297630633), (276, 0.0042128273049757145), (2972, 0.004211440855405719), (1663, 0.004209096732819951), (2166, 0.004207801758733806), (236, 0.0041967903915403225), (1203, 0.004195004633957593), (1372, 0.004191208142116673), (903, 0.00418809676296883), (941, 0.004184665834306161), (1665, 0.004183455083758835), (471, 0.004172418757641188), (3452, 0.004166276532692608), (229, 0.004165445172200951), (944, 0.004162707573972478), (1819, 0.004162526931817538), (3725, 0.004160197763801454), (1433, 0.00415672865245767), (2201, 0.00415630715901356), (111, 0.004153634386207174), (1558, 0.004153328550348061), (2528, 0.004149196887212879), (868, 0.004148357735306294), (2907, 0.004143764180489697), (1641, 0.004143248440862301), (589, 0.0041408693440558855), (3120, 0.004136767336013512), (2868, 0.004133913262860754), (1519, 0.004131703586696599), (1760, 0.004130946131265407), (136, 0.0041260010016467875), (2735, 0.004125298167247535), (3913, 0.004124850643971615), (2399, 0.004124310786230578), (2593, 0.004122264661319245), (3369, 0.004121295013820778), (558, 0.004120024943000714), (355, 0.004119923208245753), (1357, 0.004118255825460407), (1667, 0.004117746020954804), (1543, 0.004116633254910917), (1814, 0.004114012952241968), (1065, 0.004109387212405604), (2453, 0.004106498473231271), (3767, 0.00410433152249641), (3876, 0.004101350748913689), (457, 0.004100795486793354), (359, 0.004100329619790861), (183, 0.004097693385129434), (3050, 0.004093553158029195), (1672, 0.004090216680711918), (1628, 0.004088230023085859), (4620, 0.004082401139405104), (3742, 0.004081208644549462), (4502, 0.004080868335849483), (1434, 0.004079312863634459), (1796, 0.004076694791321416), (199, 0.0040740353559497), (1730, 0.004073467632105407), (2728, 0.004066944512529083), (2803, 0.004066132779754927), (3278, 0.004062735628725136), (1680, 0.004057977109130828), (1237, 0.004055926423146456), (1538, 0.00405562048069166), (3418, 0.004054830393687499), (3267, 0.004054281298497388), (2402, 0.004046406542689149), (1869, 0.0040453967403051416), (473, 0.004042309020749873), (4154, 0.00403741956512102), (1387, 0.0040342660023065195), (581, 0.004027705199271054), (1690, 0.004025600589110661), (3974, 0.004021553453629925), (804, 0.004018711099080502), (1739, 0.004017493863724552), (2248, 0.004016922195712888), (161, 0.0040161702707779655), (3863, 0.004015035002286076), (2326, 0.004010010203672022), (1219, 0.004008544260617168), (158, 0.004007922133000843), (1980, 0.004007582353101929), (4080, 0.004006237814269482), (2976, 0.004005395476756893), (2607, 0.004005155926976077), (3795, 0.003997165577993006), (1921, 0.003993170132603088), (815, 0.003991803214433105), (2580, 0.00399019580004932), (732, 0.003988719008915544), (2163, 0.003986850627318142), (1414, 0.0039861449868612), (268, 0.003985139531140737), (4141, 0.003983822693197851), (2264, 0.00396955374873715), (1423, 0.0039654498552747185), (4608, 0.003965061840404314), (132, 0.0039613397786285405), (4661, 0.003960718329856835), (4104, 0.0039605285144012365), (1830, 0.003959150606084382), (1251, 0.003953860832321735), (200, 0.003948178997345723), (712, 0.003947602487989352), (2502, 0.003942233070778676), (1199, 0.003941769036949878), (4220, 0.003941720881881579), (2753, 0.003936304215898032), (92, 0.003932180493914233), (2240, 0.003921084270994088), (851, 0.003914381968351657), (317, 0.0039124669068605076), (4432, 0.003910920461009314), (3880, 0.003898264220249947), (2721, 0.00388513072818993), (2747, 0.00387169521003442), (147, 0.0038657630869072504), (642, 0.003859520843051128), (4386, 0.0038536857116694846), (1450, 0.003853077833029894), (1370, 0.0038527468232553517), (278, 0.0038483577598057914), (2527, 0.0038432154197409465), (286, 0.0038343186046706076), (4723, 0.0038329325345287085), (3569, 0.0038309930107431767), (2382, 0.003827638173897953), (1763, 0.0038264026024941175), (4476, 0.0038235268348799133), (2577, 0.0038211466451896427), (1088, 0.003819677857611878), (1050, 0.0038066780728913197), (2758, 0.0037949065447307005), (626, 0.00378670599899547), (1356, 0.0037843170561781517), (4458, 0.0037743835485888433), (617, 0.0037725773830298162), (4636, 0.0037681525958768356), (2157, 0.0037572843324616763), (1801, 0.0037525768252747354), (1042, 0.0037319320728428805), (3331, 0.003724866084181033), (3252, 0.003723307309261156), (1078, 0.003721197709723948), (1547, 0.003710772775512637), (796, 0.0037097615258839846), (3056, 0.0037017524544176936), (142, 0.003699197348130466), (4200, 0.0036946441551837543), (4578, 0.0036759582743994385), (3548, 0.003674606771391723), (113, 0.0036745198933223113), (3952, 0.0036716292157918723), (1427, 0.003662955638695985), (4713, 0.0036618632510652476), (1415, 0.00366103391211447), (3313, 0.0036481581168517976), (4065, 0.0036225237764459556), (1317, 0.003621008907464936), (1303, 0.003602761945639481), (4243, 0.003598143692198954), (953, 0.0035978394242370377), (3274, 0.003593762319360988), (1989, 0.0035890472571371455), (2925, 0.003587749070678028), (194, 0.0035851957308278156), (3296, 0.003573398506030335), (4593, 0.003562828742175755), (3248, 0.00355835020681621), (2917, 0.0035197532920184186), (3062, 0.003514008919308839), (3301, 0.0034992777027380135), (2767, 0.0034862784503327826), (4308, 0.003483263438352436), (2748, 0.0034722213719816032), (4425, 0.003468733698028589), (4528, 0.003467837471125039), (2475, 0.0034541995384312512), (4734, 0.0034513885906149915), (571, 0.003445386236690033), (1403, 0.0034333231411666767), (271, 0.0034246824518124512), (3904, 0.0034170185183256675), (1774, 0.0034120142777663395), (351, 0.0034093152518642825), (2849, 0.003396735004374425), (3037, 0.0033859728661480384), (2361, 0.0033683092552044694), (2394, 0.0033676626151236838), (2288, 0.003364508424657478), (4445, 0.003354703598616358), (4644, 0.0033519957057408594), (429, 0.0033501143079370777), (4643, 0.003301362257290646), (3349, 0.003297480278264163), (4079, 0.003290446404536203), (2902, 0.003286886600464437), (406, 0.0032750463116688632), (3527, 0.0032745711989527054), (283, 0.003271969292092971), (933, 0.003211619806360661), (986, 0.003208834558714984), (4014, 0.003203226568796933), (761, 0.003200985028833189), (641, 0.003200124871071583), (3553, 0.0031727278014054778), (831, 0.0031548330424961473), (4668, 0.0031547612115969625), (2173, 0.0031528191859306015), (4228, 0.0031499724084180585), (542, 0.003134372501327935), (2289, 0.0031279831705847134), (693, 0.0031270407270489833), (3719, 0.003125776878093182), (4520, 0.003107025523380892), (1350, 0.003103166524449654), (2946, 0.00310136606533589), (4129, 0.003100379314003205), (646, 0.0030807492987961933), (4461, 0.00306808494127863), (3918, 0.0030672529071961913), (157, 0.00306106236832513), (3171, 0.003057430296482902), (4693, 0.003052326410776126), (2080, 0.0030515793673932066), (3170, 0.0030484798048495063), (4573, 0.0030465533093141945), (2886, 0.003045295002928089), (2401, 0.0030446268380051877), (3898, 0.003041044289345761), (3799, 0.0030225724923799466), (858, 0.0030174423672469394), (1160, 0.003013354980288362), (396, 0.0030127088194912975), (2997, 0.002997998453669118), (1884, 0.0029962656880429834), (4603, 0.002990406412260132), (4254, 0.0029899294450080665), (197, 0.002985616465709789), (2099, 0.0029852901016483354), (3176, 0.0029782580740536535), (140, 0.0029754668509587366), (3500, 0.002974607262185948), (3615, 0.002974564654700579), (766, 0.002966815145823756), (3627, 0.0029667516639149084), (838, 0.0029635489283828067), (3663, 0.002948222898257321), (3455, 0.0029446068125877317), (3558, 0.002943071301241363), (1183, 0.002934127988630467), (2556, 0.002933269761750985), (4616, 0.0029328462873956193), (2674, 0.0029260109749803124), (2362, 0.0029228845321190994), (24, 0.002918959068762404), (2011, 0.0029166953228804385), (4326, 0.0029146917028753175), (1161, 0.0029073993357769164), (1826, 0.002900868833874596), (1892, 0.002887853203788354), (4475, 0.002885119729834395), (917, 0.0028720606410299458), (672, 0.002861400865797871), (2741, 0.002850321607997751), (1625, 0.0028498134344120325), (3755, 0.002836537845549238), (252, 0.0028196362193565324), (4066, 0.0028189137795208994), (4343, 0.0028130741075078594), (4232, 0.0027822171552634193), (1397, 0.0027784357810075717), (4429, 0.0027758912262604352), (103, 0.0027721849435014163), (2520, 0.002748937411320148), (4296, 0.002746755342361758), (2743, 0.0027420007060312184), (267, 0.002728652520716819), (1627, 0.002724409073125836), (3669, 0.002713841886530921), (3629, 0.0027102337638621864), (3065, 0.0027077326990909423), (2146, 0.002703978556313399), (4026, 0.0026985523522716336), (4681, 0.002693695824077862), (3347, 0.002688412950201857), (1209, 0.0026775388451876947), (2538, 0.0026740702031942338), (16, 0.002670183686311856), (2602, 0.0026584896256074122), (3024, 0.0026417646424107735), (3254, 0.002628081380922592), (4311, 0.0026259818879701955), (2034, 0.0026054344713762213), (1037, 0.0026028931439647605), (645, 0.0025895569330997206), (4626, 0.0025863517947908865), (3679, 0.0025743748700432323), (4744, 0.0025656537305981837), (3431, 0.002564456966485339), (527, 0.0025512838040539334), (2010, 0.0025231725040319114), (1040, 0.0024810066999305463), (224, 0.00245566320057212), (3261, 0.002454072630764295), (1861, 0.0024392491522837083), (453, 0.00239956988393147), (296, 0.002398056196787146), (2658, 0.0023900804374481733), (4301, 0.002379180437591892), (3760, 0.002186514964123121), (4313, 0.0021307568780857063), (3608, 0.002085261359889904), (2737, 0.0020499057971573383), (2597, 0.002024639770259376), (3475, 0.001993125207812371), (2701, 0.0019844741282474265), (3115, 0.0019090266122857526), (2703, 0.0018983493671203442), (4671, 0.0018860263059418412), (3185, 0.001860844058751558), (4654, 0.0018597852477272383), (3703, 0.0018305602404399374), (3088, 0.0018237297102165963), (2669, 0.0018137535150746704), (2657, 0.0017965322127019934), (764, 0.0017899869940689575), (3717, 0.0017810397545191387), (2358, 0.0017673837920689907), (2659, 0.0017667409804621875), (2312, 0.001765829351183158), (2891, 0.0017374212410628492), (996, 0.0017308210641725063), (3009, 0.0017175473400712637), (4021, 0.0017143628998772128), (4618, 0.0017135501083976087), (2500, 0.0017113894809292899), (3266, 0.0016968316429177828), (2395, 0.0016967534482151437), (3796, 0.0016965267926967755), (4239, 0.001694670573272991), (3949, 0.0016861835397573275), (4134, 0.0016833956325072454), (570, 0.001675452053620156), (4499, 0.0016735355158071722), (2922, 0.0016690750873311403), (2365, 0.0016676749006582087), (4709, 0.0016673647711986383), (4691, 0.0016615603366407679), (4700, 0.001660959031541548), (4666, 0.0016607279097057958), (4115, 0.0016551771654795472), (2990, 0.0016513553623532145), (3204, 0.0016421216400731044), (1939, 0.0016280194913278604), (2281, 0.001627497878983589), (4500, 0.0016212238902661223), (4198, 0.0016198311310898883), (2483, 0.001617832890632688), (2715, 0.0016149836160338786), (3702, 0.0016115162364401718), (2536, 0.0016025336728075392), (3975, 0.001599031275444678), (2948, 0.0015975833677342307), (2521, 0.001597156937726883), (4537, 0.0015969146977599475), (4740, 0.00159266163346312), (3439, 0.0015912058419776162), (2228, 0.0015877916296817337), (462, 0.0015845874749906787), (2928, 0.0015841651259611712), (4166, 0.0015838144604807761), (4040, 0.0015830529423966622), (3715, 0.001583047246538368), (3217, 0.0015809260585877211), (4219, 0.0015771286267281213), (2941, 0.0015765843199656705), (2282, 0.0015762146421551978), (391, 0.001571233962920592), (4440, 0.0015689333492639324), (3255, 0.0015628250068167784), (4464, 0.001559917486299096), (2875, 0.0015592757508478229), (2455, 0.0015571803927952245), (3472, 0.0015564703925205192), (4170, 0.0015526665732343025), (3740, 0.0015526538480915976), (3936, 0.0015520202843032598), (4047, 0.0015506624957755768), (2983, 0.0015483779967502005), (2600, 0.0015478323916511155), (3087, 0.001547800938845008), (4302, 0.00154193398368947), (2543, 0.0015394272522570589), (2308, 0.001535387475206468), (4208, 0.0015351532412739217), (2939, 0.001528045227619245), (3671, 0.0015271907948996794), (4058, 0.0015260399075331462), (2564, 0.001524199479285516), (4122, 0.0015237023213709399), (3049, 0.001523342655273149), (2515, 0.0015231967481313489), (2869, 0.0015204692730949763), (914, 0.0015190899348212358), (4759, 0.0015183987915593899), (3025, 0.0015112228007552154), (2328, 0.001505867799258974), (1058, 0.0015038168071108944), (1051, 0.0015005090502384865), (842, 0.001500212223272654), (4725, 0.0014977415911125716), (3942, 0.0014967036640272712), (2077, 0.0014963046829131674), (3744, 0.0014931882767927273), (3089, 0.0014907100552863902), (4720, 0.001489179880942693), (2927, 0.0014868198725565903), (1258, 0.0014861015113812504), (3554, 0.0014852360320242546), (4514, 0.001484067984194498), (4698, 0.00148030704756956), (2781, 0.0014786312936460341), (2837, 0.0014781276969538294), (3203, 0.001477656893721684), (2756, 0.0014770449337169365), (2727, 0.0014757345310217281), (3054, 0.0014743007082504596), (3607, 0.0014742441514227194), (531, 0.0014731292001767889), (4408, 0.0014731048549674994), (4539, 0.0014716729063897003), (1941, 0.0014685214823253008), (3758, 0.0014674627201230798), (4570, 0.0014666994736792628), (4506, 0.0014648820727935006), (3996, 0.0014629347575776902), (1790, 0.0014626581847028831), (2253, 0.001462195015705435), (4730, 0.0014616126054262575), (2333, 0.0014606051317773154), (4204, 0.0014603630127565707), (3686, 0.0014586432722942045), (3017, 0.0014577919535309798), (2567, 0.0014560135363489107), (4341, 0.0014554581822722073), (4645, 0.0014537244471225822), (2009, 0.0014532185389350477), (461, 0.0014530081849036302), (1615, 0.0014530078804011952), (3535, 0.001452905595128043), (795, 0.0014502184710501655), (3789, 0.0014490504716725614), (2273, 0.0014482065996988904), (4711, 0.0014481542223331722), (4642, 0.0014479991467126075), (4451, 0.0014476742279177688), (2750, 0.0014474600605829614), (4215, 0.0014474473419877542), (1591, 0.0014473465985828005), (2247, 0.0014470588048312014), (955, 0.001446708052041138), (582, 0.00144549312387241), (3324, 0.0014420022763416004), (711, 0.0014414388357931343), (4285, 0.0014399043119929418), (4417, 0.0014388993359881527), (2635, 0.0014377051455012604), (3931, 0.00143534851585063), (3573, 0.00143503179618586), (1940, 0.0014340717714236555), (2468, 0.001433641021041548), (950, 0.0014335634627680562), (1540, 0.0014333972342951582), (4238, 0.0014318159105949123), (1466, 0.0014304149524441397), (3256, 0.0014303233826981137), (4424, 0.001428682328420044), (574, 0.0014267545748173106), (3440, 0.001425640176099303), (3547, 0.0014250866262852074), (753, 0.001424038084469431), (4346, 0.0014235435322278254), (2261, 0.0014223191303000813), (3617, 0.001421884540195717), (4597, 0.0014216747885825835), (1014, 0.0014215821524738634), (4276, 0.0014212432056601501), (1815, 0.0014203957868977749), (4316, 0.00141958127733139), (905, 0.0014194016038132963), (3947, 0.0014179563224526203), (3708, 0.0014167295836762705), (4750, 0.0014165216235844389), (4010, 0.0014158176632909337), (4547, 0.0014155120527753861), (679, 0.0014141234772385447), (4331, 0.001413407792849613), (3532, 0.0014127463346736424), (4747, 0.0014122085285163185), (4527, 0.0014108743027503282), (4538, 0.0014108193717151246), (2676, 0.0014085927941797412), (760, 0.0014076336552239347), (1507, 0.0014067619409506692), (3251, 0.0014054516661672456), (3972, 0.0014054156948982597), (3851, 0.0014048924173054836), (4714, 0.0014048011017971792), (125, 0.0014047312018529744), (4496, 0.0014044784957050894), (2952, 0.0014042956656921577), (2305, 0.0014033885363367632), (855, 0.0014010626944643701), (1424, 0.0014008891002017698), (3791, 0.0014001274015359862), (4526, 0.001399549272761617), (2267, 0.0013990953313206135), (4335, 0.0013976472914229558), (537, 0.0013967372310029827), (2982, 0.0013964304115070927), (3253, 0.0013953824629247625), (2476, 0.0013953520053816503), (2864, 0.0013947893070284177), (3473, 0.0013936928771418912), (1713, 0.0013933563664646292), (2357, 0.001393021219523733), (2181, 0.0013927998405328342), (3649, 0.001392029613373053), (4746, 0.001391750148980801), (4317, 0.001391432062469261), (4737, 0.0013913084972700463), (2186, 0.0013908368920938009), (2138, 0.0013907391123332215), (4389, 0.0013902786836239938), (4452, 0.0013894592014195594), (2576, 0.0013881761351502845), (3820, 0.0013872218022635988), (839, 0.0013863557948689913), (1999, 0.0013860932705736532), (207, 0.0013859897005077057), (2967, 0.001384140367313746), (89, 0.0013835931308359114), (1560, 0.0013827574158624342), (3168, 0.0013817224594419829), (2066, 0.0013803960714560183), (3110, 0.001380384304384071), (682, 0.0013800538689268187), (2700, 0.0013784924369527878), (4307, 0.0013776676751137212), (4105, 0.0013773655708700842), (3470, 0.0013773293154439794), (139, 0.001376752159851125), (1311, 0.0013766009358694717), (40, 0.001376476858899672), (4630, 0.0013760817710164086), (4185, 0.0013760362357519954), (2810, 0.00137527581552679), (2420, 0.00137448164587892), (2683, 0.0013744638285626944), (4707, 0.0013743717092341815), (2164, 0.0013734653307046854), (2956, 0.0013734523607218363), (2799, 0.001373410350651431), (3838, 0.0013731379926295326), (2921, 0.001373043099478242), (3008, 0.0013718112683699852), (3505, 0.0013713266502305187), (2304, 0.0013710352038234762), (1158, 0.0013709503697541335), (1976, 0.0013707797174060535), (3964, 0.0013704478461172404), (2852, 0.0013703246248044296), (2479, 0.001370251048669597), (4580, 0.0013693029386047998), (1391, 0.0013689890337858983), (1260, 0.0013688061457128283), (2381, 0.001368119903765837), (3080, 0.0013677510423902495), (4043, 0.0013677310697047841), (1962, 0.001367001781169505), (2384, 0.0013666635240159877), (663, 0.0013652941877307422), (3180, 0.0013651857156505307), (2372, 0.0013644853785473446), (2383, 0.0013643958050407932), (1371, 0.0013631916917956086), (3281, 0.0013631449798744092), (2733, 0.0013630961484737232), (365, 0.0013626751041178754), (2843, 0.0013626452461787688), (3682, 0.001362471574695487), (1836, 0.0013624521429435985), (3808, 0.0013624383826479004), (4034, 0.001361363834647472), (1240, 0.00135996083037857), (3688, 0.0013596789255063216), (3371, 0.001359323468779318), (2806, 0.0013589842689462714), (1460, 0.001358621033695242), (3572, 0.001358568678969821), (385, 0.0013584069734691247), (686, 0.0013562050985108185), (2343, 0.0013562049528967654), (3192, 0.001355618957627365), (4003, 0.0013555116926322758), (550, 0.0013553948030343118), (362, 0.0013548272288409935), (4227, 0.0013546268943374095), (1766, 0.001354116871409625), (2165, 0.0013535337698804039), (2341, 0.0013527233491288627), (2662, 0.0013524575331261145), (3697, 0.0013518646138033232), (1554, 0.0013510578484520024), (3519, 0.001351001416148097), (2314, 0.0013499043528975945), (3453, 0.001349715726430625), (1786, 0.0013496612412723758), (2244, 0.001349590788307704), (595, 0.001349565122294432), (2930, 0.001349183111354608), (1089, 0.0013491237188776462), (3581, 0.0013489509065630748), (3207, 0.0013485016179679888), (3529, 0.0013484989765914386), (990, 0.0013480053885732497), (141, 0.0013478413996588425), (841, 0.0013474182829357638), (69, 0.0013473731527956193), (3837, 0.0013469664741994167), (2626, 0.0013467612768586093), (2452, 0.0013462323349052023), (3869, 0.0013452085288430111), (3816, 0.0013438730604287807), (2811, 0.0013438070676861683), (3787, 0.0013434334801299352), (1091, 0.001343426955554233), (2101, 0.0013428527777897441), (2717, 0.001342485019508574), (100, 0.0013420926791595795), (2575, 0.0013412229743520977), (363, 0.0013409045506388283), (1803, 0.00134013009651855), (1806, 0.0013396874977203363), (1162, 0.0013387759729309827), (1674, 0.0013386177263076413), (977, 0.0013385331416842885), (678, 0.0013377795084636498), (1491, 0.0013372702618789749), (4258, 0.0013370392562027618), (3263, 0.001336846692305725), (4196, 0.0013361629929351476), (2604, 0.0013357811761227684), (4491, 0.0013352163136719447), (3202, 0.0013342058818232067), (513, 0.0013339618138239777), (1265, 0.0013337140132695159), (2979, 0.0013332029006006062), (1563, 0.0013331914733663607), (4676, 0.001331977790518233), (2082, 0.0013312612754398125), (2136, 0.0013299514408093337), (1894, 0.0013297681913187762), (4493, 0.0013289733313754147), (2021, 0.0013282946713338985), (4086, 0.0013278969497025285), (4595, 0.001327842805472837), (2599, 0.0013263068977933978), (2171, 0.0013256939866021112), (2084, 0.001324346031642339), (1441, 0.0013228809226092523), (2880, 0.0013225922843149581), (3468, 0.0013225566344597494), (4090, 0.0013223253154806376), (1661, 0.0013214651186231174), (1724, 0.0013213073328752784), (1770, 0.001319509163247151), (3943, 0.0013190377009290979), (3768, 0.0013186349811845919), (2451, 0.0013179764352469754), (4167, 0.0013163973798424524), (2243, 0.0013162701761805216), (1731, 0.0013156478272632736), (405, 0.0013155639917077128), (3451, 0.00131530443959095), (2124, 0.001315210322896836), (4094, 0.00131514115455811), (2462, 0.001314838432552844), (754, 0.0013147075902231978), (3782, 0.001314462384525829), (1705, 0.0013140778026191685), (2670, 0.0013135511787374585), (4347, 0.001313257617156324), (4131, 0.001313210945122154), (3834, 0.0013130173871669726), (4173, 0.0013129598727462), (992, 0.0013128354201773966), (4179, 0.0013124386039702388), (4478, 0.00131198637081978), (1732, 0.0013115728220600036), (180, 0.0013113419461945048), (4370, 0.0013106162421871062), (413, 0.0013103898094717818), (1737, 0.0013090161923008186), (1333, 0.001308631671421011), (2704, 0.0013080478740446115), (1659, 0.001308017628857006), (2630, 0.001307002542162414), (3109, 0.0013069589513078604), (1280, 0.0013067377678722012), (3997, 0.0013064624107868156), (1791, 0.0013064305863615439), (536, 0.0013059821816282582), (1205, 0.0013057220062245695), (3236, 0.0013051798861616155), (1856, 0.0013050499716342273), (4560, 0.0013050386318413753), (2499, 0.0013047558945410858), (3710, 0.001304651487694964), (1926, 0.0013039791225038775), (17, 0.0013035799960043318), (1596, 0.0013035464792635833), (2044, 0.001303501502217873), (3934, 0.0013031416840121872), (4622, 0.0013026149205131849), (960, 0.001302391297276898), (4256, 0.0013022538280994267), (384, 0.0013022245046536004), (3442, 0.0013017140433161229), (1099, 0.0013012577833117535), (3401, 0.0013007349296092006), (3048, 0.0012999333863509017), (4384, 0.0012997800859882213), (4233, 0.0012997661181803105), (4655, 0.0012989344984078372), (4662, 0.0012984456716120863), (3905, 0.0012980794215237687), (1904, 0.001297789174921565), (275, 0.0012977259849849983), (2566, 0.001297384266377048), (1452, 0.0012971065262748621), (4260, 0.0012970479086242808), (4180, 0.001296820945126718), (1531, 0.0012966584900443619), (415, 0.0012961809348354168), (1401, 0.0012958355738396307), (4027, 0.0012958269124545704), (3041, 0.0012953191907479672), (3631, 0.0012947201366045491), (3422, 0.0012943930127474394), (1328, 0.0012941035175858377), (4323, 0.001292612317110795), (1975, 0.0012925833311810647), (1389, 0.0012922561992200344), (4392, 0.0012922164805027503), (1449, 0.0012919218635912926), (4410, 0.0012914581839812333), (667, 0.00129020279768347), (1189, 0.0012900948027922698), (3208, 0.0012900237184822686), (3189, 0.0012893190086676193), (1955, 0.0012890322210376928), (2054, 0.0012885778583778828), (1393, 0.0012885538894896952), (1299, 0.0012882292025172344), (1603, 0.0012878348934630536), (1835, 0.0012876200388393744), (143, 0.0012873399518135954), (2413, 0.001287247340935169), (231, 0.0012868571817742321), (2754, 0.001286580251298166), (3029, 0.001286541680866592), (320, 0.0012865248802711652), (1193, 0.0012859338911566547), (1233, 0.0012858071654407478), (3513, 0.0012857546825951543), (1142, 0.001285626138386462), (2217, 0.0012847162445847298), (2002, 0.001284418464025863), (3415, 0.0012843349082888346), (752, 0.0012842004982082677), (4639, 0.001284113892040728), (2380, 0.0012836274576028376), (2249, 0.0012834487463598116), (3769, 0.0012831204489772805), (1588, 0.0012823262392499355), (3107, 0.0012820981236085114), (4100, 0.0012819182292281139), (2605, 0.0012810557753676604), (4421, 0.0012810434760938292), (3591, 0.0012808065336721037), (2090, 0.001280783223934371), (797, 0.0012807491689369708), (2042, 0.0012805631716141083), (4433, 0.001280342418339604), (4556, 0.001280011617474028), (3162, 0.0012796664306133501), (2345, 0.0012793268225475113), (516, 0.0012791811141739298), (1432, 0.0012783083895110952), (1024, 0.0012781626698359291), (386, 0.0012778877607566355), (4586, 0.0012778651466709165), (1534, 0.0012771797697623828), (1536, 0.0012762127311529087), (3229, 0.0012757394515930634), (27, 0.001274782085650781), (3849, 0.0012746230767351483), (793, 0.0012744899533466086), (1244, 0.0012744776251066578), (1932, 0.0012742980972823654), (2325, 0.0012741199421376834), (4559, 0.0012738535483457713), (2905, 0.0012733077440347765), (1602, 0.00127329425139368), (3798, 0.0012729412647050173), (2194, 0.0012727923900857586), (784, 0.001272447724033155), (3995, 0.0012723223887419564), (4552, 0.0012720305979562064), (4716, 0.0012718916957860696), (313, 0.0012718109552750693), (1165, 0.0012711995566245932), (1542, 0.0012705848026997408), (2794, 0.0012704926431996036), (1470, 0.0012702505225033742), (4648, 0.001269170257734496), (3287, 0.0012686683618554763), (2106, 0.0012686485850787882), (3428, 0.0012678579103056619), (151, 0.0012677031049839296), (671, 0.001267195133527843), (2726, 0.001267190667672516), (1847, 0.001267125999200168), (2456, 0.0012666265887592064), (2519, 0.0012658601997542478), (3398, 0.001265681668791357), (3489, 0.0012649928831838838), (2332, 0.0012646529065535902), (59, 0.0012643854989160435), (4456, 0.0012638350152096272), (730, 0.001263625966342003), (1697, 0.0012632094940916718), (95, 0.0012623844527333435), (2235, 0.001261041300161759), (1777, 0.001260785137103793), (2092, 0.0012606795001690087), (814, 0.001260645305930233), (809, 0.0012599055165242352), (1917, 0.001259741594064701), (4377, 0.001259431995823853), (118, 0.001259210236614873), (902, 0.0012588826285473169), (245, 0.0012588048590834353), (2307, 0.001258794930853154), (869, 0.0012582592015509101), (4251, 0.0012581905400260696), (572, 0.0012580837633750983), (1901, 0.0012580087332984102), (2947, 0.0012578358025402958), (4088, 0.0012576575246425019), (2172, 0.001256763110178915), (846, 0.0012566257131148234), (3683, 0.001256235633133117), (3522, 0.0012560080083138586), (42, 0.0012552806460762666), (4168, 0.0012551312428894614), (3209, 0.001255105401169155), (1435, 0.0012546752892362877), (1686, 0.0012546492230466224), (3632, 0.0012543904672321989), (4678, 0.001254305261680454), (1761, 0.001254119797592837), (2200, 0.001254096152743139), (134, 0.0012536587694860026), (2030, 0.001253549125989405), (1832, 0.0012533758053797166), (3486, 0.0012530297233307056), (1958, 0.001252725935124591), (2960, 0.0012516823728368719), (3815, 0.0012511925171432847), (145, 0.0012510692588561035), (1166, 0.001250969526158767), (2708, 0.0012509107118126384), (528, 0.001249590889627455), (4380, 0.0012489293206021474), (3404, 0.0012486115631377783), (1386, 0.0012476734434849466), (3060, 0.0012474715535637992), (2551, 0.0012469568902779237), (592, 0.0012464598949476057), (3576, 0.0012464281996293204), (658, 0.0012463207950779336), (54, 0.0012463099576270245), (2896, 0.0012462467889912446), (4702, 0.001246188870580299), (1889, 0.0012459422522896242), (2685, 0.0012454808220531209), (1302, 0.0012447081203443959), (2041, 0.0012446091670786335), (811, 0.0012442077023127325), (2991, 0.001243576834657442), (2586, 0.0012434337947626326), (3908, 0.0012433886870445313), (4214, 0.0012431541860369291), (1473, 0.0012430463501020208), (2549, 0.001242972906945153), (3520, 0.0012423613420536196), (4485, 0.0012422540760214206), (3332, 0.0012420521993902962), (714, 0.0012417527931114969), (1879, 0.0012415689837780275), (1611, 0.0012413477358479484), (1956, 0.0012413319290919787), (4041, 0.0012412826532052544), (1930, 0.001240613401768788), (2130, 0.0012405484102229905), (909, 0.0012403768118686824), (3002, 0.001240217262867912), (3676, 0.0012401896492884909), (1769, 0.0012401701256463434), (630, 0.0012400165341738252), (3245, 0.001239962925766226), (2335, 0.0012380836151504025), (312, 0.0012368319018150687), (30, 0.001236670892930628), (1945, 0.0012365643294867013), (398, 0.0012357766576751579), (3034, 0.0012352291253745337), (2449, 0.0012351912992642766), (3494, 0.0012351204555054519), (3482, 0.0012347575404097018), (2815, 0.0012344861183843094), (2153, 0.0012339526124003513), (4103, 0.0012338858330550135), (494, 0.0012328794893118327), (1388, 0.0012325900080709974), (451, 0.0012325538299550803), (552, 0.001232299502687065), (4184, 0.0012322611229691938), (3427, 0.0012318826286540922), (4383, 0.0012315337980305196), (2472, 0.0012311421327664766), (315, 0.0012310516902941397), (3006, 0.0012310126386694065), (2583, 0.001230608780293497), (1151, 0.0012305839227591904), (943, 0.0012301908787544778), (265, 0.0012301373095357016), (665, 0.0012299885889169955), (3887, 0.001229574018539704), (3367, 0.0012291803763143099), (1172, 0.0012287419806762314), (2081, 0.0012285488733143998), (4310, 0.001228494101540462), (2709, 0.001228401121885539), (1566, 0.0012282364627995627), (3662, 0.0012277117158131078), (2804, 0.0012276270978466204), (4738, 0.0012266958184989271), (4195, 0.0012265753811915572), (4736, 0.0012265114550919544), (849, 0.001226443533633164), (3416, 0.0012261048975954012), (1227, 0.0012260370878878568), (1644, 0.0012258663306632907), (1455, 0.0012257625048353706), (4291, 0.0012255335795156909), (1269, 0.001225275216200817), (2773, 0.0012252392553782957), (965, 0.001224571363042358), (3104, 0.0012243811496162813), (3106, 0.0012236409650990098), (4623, 0.0012228541014226932), (4128, 0.001222775515037438), (4457, 0.001222733561405174), (4675, 0.0012226430675141126), (1638, 0.0012226119357775407), (906, 0.0012221304812759042), (946, 0.001221278348293725), (1444, 0.001221208085354332), (2336, 0.001220371295736592), (4248, 0.0012201062216167318), (1196, 0.0012192500294094068), (181, 0.0012190918123491659), (3432, 0.0012182719513389127), (3545, 0.0012181394077322352), (423, 0.001218086600031948), (2836, 0.0012177501567341737), (2839, 0.0012175261213278306), (834, 0.0012172711156127301), (4665, 0.0012172115587082428), (1604, 0.001216801077493316), (4278, 0.0012167991948466327), (1834, 0.0012166696422268892), (3058, 0.0012162693838551329), (1012, 0.001215770279392358), (1837, 0.0012152199134013203), (4509, 0.0012148226374455889), (1159, 0.001214561382507858), (2471, 0.0012131799310946569), (718, 0.0012124433619575647), (2825, 0.0012123942649999008), (1867, 0.0012120410565395826), (50, 0.0012119928755136991), (2435, 0.0012119206920270416), (133, 0.0012111928362206691), (535, 0.001210953211675721), (3350, 0.0012107595321199651), (1549, 0.001210600879780115), (3443, 0.0012105121664067959), (3476, 0.0012104187774197158), (1263, 0.0012102821393820172), (467, 0.0012098559097132023), (1358, 0.0012095463415601863), (1757, 0.0012090571993876634), (1573, 0.0012090549241464872), (1508, 0.0012086330761432288), (322, 0.0012085172573841516), (4754, 0.0012084586327453174), (1849, 0.0012081916553458188), (3508, 0.0012077860810793834), (1937, 0.0012065479495233812), (3793, 0.001206518998275688), (1622, 0.0012064122497848515), (634, 0.0012056287263368566), (1082, 0.0012053378632100905), (3685, 0.0012040067729901945), (2973, 0.0012037111954017498), (1635, 0.0012036725518454554), (1097, 0.0012036016951126316), (1128, 0.0012035799030821791), (459, 0.0012033621526433072), (1773, 0.0012024399798020763), (539, 0.0012019636045891718), (1094, 0.0012010609686215175), (3288, 0.001200802947852646), (1842, 0.00120080066936997), (4224, 0.00120051557993439), (3773, 0.0012003508429281337), (3400, 0.0012002426022117972), (2663, 0.0011998422497824257), (1406, 0.0011994702127851586), (4352, 0.0011992157474508096), (2232, 0.0011990161282081884), (1541, 0.0011975399366728778), (4234, 0.0011972555515017864), (3836, 0.0011969337664950207), (567, 0.001196800001558242), (3585, 0.0011964293761937655), (4039, 0.0011963711262577598), (1933, 0.0011963088582422237), (557, 0.0011959866762817934), (2677, 0.0011957802514309653), (1846, 0.0011955659960985435), (4615, 0.0011955297455253882), (230, 0.0011951924801499808), (1607, 0.0011951729793149492), (503, 0.0011938639602248548), (1315, 0.0011937677809501126), (1966, 0.0011925447158753048), (1953, 0.0011924783557659608), (1235, 0.001191971910519085), (3583, 0.0011916866598378213), (321, 0.0011912183580976786), (273, 0.0011909748561680848), (554, 0.001190519190457829), (825, 0.0011903099143382586), (662, 0.0011900040692500583), (3879, 0.0011898604370513142), (3555, 0.0011897253085770448), (4367, 0.001189325798982683), (1618, 0.0011883736300165161), (1063, 0.001186784951681403), (2693, 0.0011864152970615742), (556, 0.0011863689875458575), (2828, 0.001186312325554214), (3366, 0.001185301168309139), (2095, 0.0011852963018139098), (546, 0.0011841498525367309), (3896, 0.0011834442031584556), (1076, 0.001183045991898911), (1287, 0.0011824509229727514), (2918, 0.0011824347959259653), (4543, 0.0011822003383979117), (3156, 0.0011821075681526085), (1900, 0.0011816032834351825), (3664, 0.0011797002446679926), (1293, 0.001179676818341877), (1125, 0.0011793758122215629), (1996, 0.0011792653323682233), (2369, 0.0011786200185871926), (3490, 0.0011785937999435165), (4303, 0.0011785387919145223), (1544, 0.0011781439275167878), (1230, 0.0011780123892199542), (772, 0.0011774040542292072), (2641, 0.0011760743230278031), (1231, 0.0011760700490681057), (93, 0.001175508484439254), (3126, 0.0011753533264295996), (1912, 0.0011750379149945522), (3595, 0.0011742495342573999), (4253, 0.001174054448422294), (1552, 0.0011734315929220645), (1810, 0.001173379893170098), (3605, 0.0011732785429403678), (2206, 0.0011731142318442695), (1633, 0.0011727180606922315), (1490, 0.0011726438806454167), (1207, 0.0011725059794889545), (3824, 0.0011723361940259316), (1839, 0.001172045849639153), (3309, 0.0011719634338272363), (2620, 0.001171138017109987), (2865, 0.001170593790576822), (3881, 0.0011704167499031466), (2050, 0.0011702757850426976), (1327, 0.0011670877333390037), (2787, 0.0011670349459696862), (2140, 0.0011669906661725367), (1073, 0.0011668312105799759), (2517, 0.001166714711406399), (144, 0.001166338656786426), (2950, 0.0011663256408090924), (3177, 0.0011658650312784276), (2690, 0.0011654559093455333), (741, 0.0011653837887855042), (1363, 0.0011647777920122053), (360, 0.0011645711465021254), (1631, 0.0011644307771642797), (827, 0.0011643243256670135), (819, 0.0011632795140532467), (649, 0.0011631702340427427), (4037, 0.0011626651076717973), (2823, 0.0011620047520302587), (3023, 0.0011611942692725055), (3859, 0.0011608751785028518), (812, 0.0011605368446856164), (835, 0.0011604334876411078), (185, 0.0011603122061958555), (859, 0.0011601472362912616), (1256, 0.0011588264786231129), (3723, 0.0011583313173784652), (3864, 0.001158218076816557), (3783, 0.001157799670406371), (3991, 0.0011574384617668953), (1181, 0.001156412310585311), (1783, 0.0011548126499443098), (3609, 0.0011540471125425869), (2179, 0.0011538730008453493), (2184, 0.0011529141091681367), (4569, 0.0011521217137351238), (311, 0.0011519869923293377), (3250, 0.001151081143336707), (4690, 0.0011509961356716942), (3622, 0.001150413305481456), (2594, 0.0011495859052377939), (1556, 0.0011495472351161075), (1868, 0.0011494539212604277), (650, 0.0011491326285379742), (833, 0.0011486340909329824), (468, 0.0011485528005925369), (1721, 0.0011484769363818079), (4585, 0.0011484389851192532), (702, 0.001148287838295815), (1898, 0.0011478438951873175), (2170, 0.0011478224920210612), (4667, 0.001147789009376828), (3319, 0.001147530481797792), (3788, 0.0011472966790841786), (648, 0.0011470223430488798), (1992, 0.001146621351122616), (3100, 0.0011464700470256493), (1086, 0.0011463484272951257), (4270, 0.0011449918201192717), (3136, 0.0011447136462241552), (2052, 0.0011446144932578243), (1899, 0.0011441825854773297), (3338, 0.0011434559167866753), (1180, 0.0011432111593914032), (1457, 0.0011429936588540175), (1673, 0.0011428251216241548), (2038, 0.001142537593469545), (2590, 0.0011425348773472428), (2866, 0.0011420896520865662), (1820, 0.0011413742042883398), (4697, 0.0011412350618861904), (2450, 0.0011409568477418431), (3543, 0.0011409291313436002), (3143, 0.0011403835237572175), (4305, 0.00114019901358276), (3550, 0.0011400800445779857), (2272, 0.0011400189311642774), (532, 0.001139692042934518), (2119, 0.001139452430136977), (3775, 0.0011390044060303468), (4325, 0.0011384055383051707), (2429, 0.0011377184684263255), (316, 0.0011375001921784618), (2093, 0.0011351244937344125), (4236, 0.0011350786655947912), (745, 0.0011348363106263822), (3114, 0.0011346309414220362), (3993, 0.0011339859809664334), (770, 0.0011336331577466215), (4664, 0.0011328222724165604), (4165, 0.0011318499130087644), (1149, 0.00113152088733811), (475, 0.0011310240045445162), (3753, 0.0011306617519154971), (695, 0.0011304729518952636), (379, 0.0011303042217480747), (2445, 0.0011296522570581726), (1979, 0.001129373429881956), (2274, 0.0011293155037104708), (3843, 0.001128962268635095), (382, 0.0011288815774455608), (3923, 0.0011277483564983515), (3395, 0.0011275112685568813), (4577, 0.001126935987246417), (2984, 0.0011268293433491837), (920, 0.0011267353378735035), (2110, 0.0011261453329679304), (4235, 0.001124574627831719), (801, 0.0011243414214172024), (3244, 0.0011243315891242783), (2225, 0.0011241779192863353), (4322, 0.0011237828824105147), (2207, 0.0011236662675601658), (1242, 0.0011230119471864475), (2125, 0.0011225300645719431), (1038, 0.0011210012758732795), (1055, 0.0011207123962515778), (1529, 0.0011205891932425367), (2007, 0.001120302156392521), (3130, 0.0011197034325278882), (1729, 0.0011178824486092465), (1236, 0.001117019510326484), (1840, 0.0011167457596745227), (3885, 0.0011165407795346621), (2033, 0.0011164263370110066), (4072, 0.0011163991620470046), (1200, 0.0011156538568452249), (4405, 0.0011154723693092296), (3197, 0.0011154406818278308), (3098, 0.0011149970467390277), (3047, 0.0011146058312262574), (4447, 0.0011135334459868107), (1567, 0.0011118167176186566), (1093, 0.0011093345157537119), (1657, 0.001108512979233909), (1310, 0.0011077708037582146), (3726, 0.001107083931050451), (893, 0.0011067635126630617), (1134, 0.0011064055351296235), (1316, 0.0011044255465283252), (4437, 0.0011040463257808771), (997, 0.0011038702436460502), (4366, 0.0011036025757831145), (1016, 0.0011024866077795155), (501, 0.0011021797776801468), (1399, 0.0011009290620782716), (2185, 0.001099555414739493), (1715, 0.0010992684557453037), (323, 0.0010980913812826739), (1870, 0.0010972096502899274), (932, 0.0010971950053674901), (954, 0.00109696830874923), (1, 0.0010963011819585112), (2833, 0.0010940482859478902), (1154, 0.0010940107757226132), (383, 0.001093896334719376), (4237, 0.0010934809822275018), (333, 0.0010917910010430202), (3099, 0.0010917363773425622), (2871, 0.0010913581245115189), (3485, 0.0010906801067927777), (3068, 0.001090655849459722), (2935, 0.001090133270455457), (1694, 0.001089759140807231), (47, 0.0010894464695910201), (393, 0.0010869395268026342), (3948, 0.0010852150445277518), (3785, 0.0010848202731167462), (4358, 0.0010829335185697621), (836, 0.00108204960077099), (4365, 0.0010811034690117402), (1283, 0.0010793981316355938), (912, 0.0010793007648759636), (1405, 0.0010792587164919875), (1213, 0.0010782015054680337), (3160, 0.0010781485364651732), (187, 0.0010773441169734414), (4558, 0.0010762192281074884), (2820, 0.001074478371963662), (4532, 0.0010744231179256826), (257, 0.0010720908455380217), (4468, 0.0010716938312278351), (2718, 0.00107112913661677), (2059, 0.0010704723019385521), (1590, 0.0010701520176365153), (1348, 0.001069138751332502), (4035, 0.0010679897150306457), (4415, 0.001067361971149834), (2539, 0.0010655199599685643), (3509, 0.0010649101060450144), (4096, 0.0010635468446094024), (73, 0.0010626448032409418), (4426, 0.0010617612925476812), (2686, 0.0010606572678552157), (1212, 0.0010588868071181273), (2001, 0.0010569751759575137), (3339, 0.0010563026142539269), (625, 0.0010562736017846292), (1323, 0.0010545963311009647), (1309, 0.0010505017862974682), (2098, 0.0010499308967375242), (394, 0.0010489686136801082), (1523, 0.0010486309168332248), (3693, 0.0010472703822199147), (601, 0.001047103567408959), (2006, 0.0010467820473553091), (3916, 0.0010459180031935778), (3405, 0.0010432921394764234), (2541, 0.0010416105060954521), (4212, 0.0010409627252641373), (1639, 0.0010391102574043016), (621, 0.0010385250285700326), (2197, 0.0010381511811143498), (1300, 0.0010378992911997266), (314, 0.0010289408561136983), (3559, 0.0010288294729151812), (786, 0.0010280593913769597), (709, 0.0010278352194987822), (3215, 0.0010265393079090298), (1062, 0.0010264881301623558), (964, 0.001023266140031454), (1092, 0.0010230912460553316), (3212, 0.0010175623814635496), (2508, 0.0010160145997925032), (4513, 0.0010153768772273302), (2770, 0.001015034407325581), (3940, 0.0010120129259938316), (1289, 0.0010084559181560099), (2439, 0.0010079235904927651), (1137, 0.0010077979981438937), (2913, 0.0010068416374256724), (3480, 0.0010064675949374416), (2573, 0.001006173000577426), (1326, 0.00100301431362222), (602, 0.0010021942042055146), (290, 0.0010016428917439405), (295, 0.0010010291503835264), (366, 0.0010010166870522384), (1164, 0.0009981115998122173), (2028, 0.0009970109009904862), (289, 0.0009962337702987742), (435, 0.0009953946638092148), (440, 0.0009944871849033071), (3971, 0.0009898998444511323), (2524, 0.000989109055759045), (1646, 0.0009876494725791617), (2364, 0.000986927654180462), (2646, 0.0009862930277876937), (1268, 0.0009835617703026222), (1576, 0.0009832065195393047), (4745, 0.0009603907259382739), (926, 0.0009574072786909282), (1728, 0.0009482466131179169), (837, 0.0009437284954706608), (3574, 0.0009427770593563843), (972, 0.0009402455968087013), (3223, 0.0009322849755781864), (77, 0.0009254292415514937), (414, 0.0009218242823200283), (332, 0.0009191486720566799), (4261, 0.0009107499130097919), (2220, 0.0008813700197072087), (3429, 0.000834659731365111), (3750, 0.0008301587623362708), (559, 0.0), (632, 0.0), (720, 0.0), (1070, 0.0), (1081, 0.0), (1201, 0.0), (1276, 0.0), (1320, 0.0), (1623, 0.0), (1652, 0.0), (1735, 0.0), (1745, 0.0), (1753, 0.0), (1800, 0.0), (1972, 0.0), (2018, 0.0), (2025, 0.0), (2063, 0.0), (2113, 0.0), (2135, 0.0), (2238, 0.0), (2275, 0.0), (2331, 0.0), (2373, 0.0), (2424, 0.0), (2426, 0.0), (2506, 0.0), (2885, 0.0), (2971, 0.0), (3038, 0.0), (3059, 0.0), (3070, 0.0), (3079, 0.0), (3138, 0.0), (3340, 0.0), (3383, 0.0), (3488, 0.0), (3530, 0.0), (3625, 0.0), (3652, 0.0), (3721, 0.0), (3761, 0.0), (3805, 0.0), (3946, 0.0), (4084, 0.0), (4144, 0.0), (4199, 0.0), (4229, 0.0), (4250, 0.0), (4315, 0.0), (4390, 0.0), (4393, 0.0), (4413, 0.0), (4439, 0.0), (4455, 0.0), (4512, 0.0), (4519, 0.0), (4553, 0.0), (4561, 0.0), (4562, 0.0), (4565, 0.0), (4631, 0.0), (4651, 0.0), (4742, 0.0), (4751, 0.0)]\n"
     ]
    }
   ],
   "source": [
    "Sorted_Similar_Movies=sorted(Recommendation_Score,key=lambda X:X[1],reverse=True)\n",
    "print(Sorted_Similar_Movies)"
   ]
  },
  {
   "cell_type": "code",
   "execution_count": 31,
   "metadata": {},
   "outputs": [
    {
     "name": "stdout",
     "output_type": "stream",
     "text": [
      "Top 30 Movies Suggested for you : \n",
      "\n",
      "1 . Won't Back Down\n",
      "2 . Nanny McPhee and the Big Bang\n",
      "3 . Donnie Darko\n",
      "4 . The Help\n",
      "5 . Beastly\n",
      "6 . The Goods: Live Hard, Sell Hard\n",
      "7 . Surrogates\n",
      "8 . Dallas Buyers Club\n",
      "9 . Pineapple Express\n",
      "10 . Undisputed\n",
      "11 . Bringing Out the Dead\n",
      "12 . The Conjuring\n",
      "13 . The Change-Up\n",
      "14 . Do the Right Thing\n",
      "15 . The Road to El Dorado\n",
      "16 . Mission: Impossible II\n",
      "17 . Winter's Tale\n",
      "18 . Con Air\n",
      "19 . Pulp Fiction\n",
      "20 . Lake Mungo\n",
      "21 . Entrapment\n",
      "22 . Soul Surfer\n",
      "23 . Far from Heaven\n",
      "24 . Crazy Heart\n",
      "25 . Gossip\n",
      "26 . White House Down\n",
      "27 . Trust the Man\n",
      "28 . We Bought a Zoo\n",
      "29 . Divergent\n",
      "30 . Get on Up\n"
     ]
    }
   ],
   "source": [
    "# print the name of similar movies based on the index\n",
    "print('Top 30 Movies Suggested for you : \\n')\n",
    "\n",
    "i=1\n",
    "\n",
    "for movie in Sorted_Similar_Movies:\n",
    "    index=movie[0]\n",
    "    title_from_index=df[df.index==index]['Movie_Title'].values[0]\n",
    "    if(i<31):\n",
    "        print(i, '.',title_from_index)\n",
    "        i+=1"
   ]
  },
  {
   "cell_type": "markdown",
   "metadata": {},
   "source": [
    "# Explaination\n",
    "The whole code can be explained by below steps:\n",
    "step 1: import library and the data.\n",
    "step 2: visualize data and preprocess the data for modeling.\n",
    "step 3: define the feature variable based on which we recommend movies.\n",
    "        features are ---> Movie_Genre,Movie_Keywords,Movie_Tagline,Movie_Cast,\tMovie_Director,Movie_Language.\n",
    "step 4: convert the features text into tokens.\n",
    "step 5: Get Similarity Score using Cosine Similarity.\n",
    "step 6: Get Movie Name as Input from User and Validate for Closest Spelling.\n",
    "step 7: Getting a list of similar movies.\n",
    "step 8: Getting All Movies Sort Based on Recommendation Score with respect to Favourite Movie."
   ]
  }
 ],
 "metadata": {
  "interpreter": {
   "hash": "4d894bb0e815eb00d6eeab27ca58662137da4a443ca0ba065953927a50b1e7c4"
  },
  "kernelspec": {
   "display_name": "Python 3.10.0 64-bit",
   "name": "python3"
  },
  "language_info": {
   "codemirror_mode": {
    "name": "ipython",
    "version": 3
   },
   "file_extension": ".py",
   "mimetype": "text/x-python",
   "name": "python",
   "nbconvert_exporter": "python",
   "pygments_lexer": "ipython3",
   "version": "3.10.0"
  },
  "orig_nbformat": 4
 },
 "nbformat": 4,
 "nbformat_minor": 2
}
